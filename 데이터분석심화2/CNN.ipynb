{
 "cells": [
  {
   "cell_type": "markdown",
   "id": "17fdc439",
   "metadata": {},
   "source": [
    "### CNN 실습 "
   ]
  },
  {
   "cell_type": "markdown",
   "id": "9775aa64",
   "metadata": {},
   "source": [
    "####  MNIST DATASET 98% 이상 달성하기"
   ]
  },
  {
   "cell_type": "code",
   "execution_count": 37,
   "id": "30c68da7",
   "metadata": {},
   "outputs": [],
   "source": [
    "import tensorflow as tf\n",
    "import matplotlib.pyplot as plt\n",
    "import numpy as np\n",
    "import os"
   ]
  },
  {
   "cell_type": "code",
   "execution_count": 38,
   "id": "00cbc5e6",
   "metadata": {},
   "outputs": [],
   "source": [
    "mnist=tf.keras.datasets.mnist\n",
    "(x_train,y_train),(x_test,y_test)=mnist.load_data()"
   ]
  },
  {
   "cell_type": "code",
   "execution_count": 39,
   "id": "557f81a8",
   "metadata": {},
   "outputs": [
    {
     "name": "stdout",
     "output_type": "stream",
     "text": [
      "(60000, 28, 28)\n",
      "(10000, 28, 28)\n",
      "(60000,)\n",
      "(10000,)\n"
     ]
    }
   ],
   "source": [
    "print(x_train.shape)\n",
    "print(x_test.shape)\n",
    "print(y_train.shape)\n",
    "print(y_test.shape)"
   ]
  },
  {
   "cell_type": "code",
   "execution_count": 40,
   "id": "a94f005d",
   "metadata": {},
   "outputs": [],
   "source": [
    "x_train,x_test=x_train/255.0,x_test/255.0"
   ]
  },
  {
   "cell_type": "code",
   "execution_count": 42,
   "id": "fd52c317",
   "metadata": {},
   "outputs": [
    {
     "ename": "NameError",
     "evalue": "name 'input_shape' is not defined",
     "output_type": "error",
     "traceback": [
      "\u001b[1;31m---------------------------------------------------------------------------\u001b[0m",
      "\u001b[1;31mNameError\u001b[0m                                 Traceback (most recent call last)",
      "\u001b[1;32m<ipython-input-42-1d07bfd15b59>\u001b[0m in \u001b[0;36m<module>\u001b[1;34m\u001b[0m\n\u001b[0;32m      1\u001b[0m model=tf.keras.models.Sequential([\n\u001b[1;32m----> 2\u001b[1;33m     \u001b[0mtf\u001b[0m\u001b[1;33m.\u001b[0m\u001b[0mkeras\u001b[0m\u001b[1;33m.\u001b[0m\u001b[0mlayers\u001b[0m\u001b[1;33m.\u001b[0m\u001b[0mFlatten\u001b[0m\u001b[1;33m(\u001b[0m\u001b[0minput_shape\u001b[0m\u001b[1;33m(\u001b[0m\u001b[1;36m28\u001b[0m\u001b[1;33m,\u001b[0m\u001b[1;36m28\u001b[0m\u001b[1;33m)\u001b[0m\u001b[1;33m)\u001b[0m\u001b[1;33m,\u001b[0m\u001b[1;33m\u001b[0m\u001b[1;33m\u001b[0m\u001b[0m\n\u001b[0m\u001b[0;32m      3\u001b[0m     \u001b[0mtf\u001b[0m\u001b[1;33m.\u001b[0m\u001b[0mkeras\u001b[0m\u001b[1;33m.\u001b[0m\u001b[0mlayers\u001b[0m\u001b[1;33m.\u001b[0m\u001b[0mDense\u001b[0m\u001b[1;33m(\u001b[0m\u001b[1;36m1024\u001b[0m\u001b[1;33m,\u001b[0m\u001b[0mactivation\u001b[0m\u001b[1;33m=\u001b[0m\u001b[1;34m'relu'\u001b[0m\u001b[1;33m)\u001b[0m\u001b[1;33m,\u001b[0m\u001b[1;33m\u001b[0m\u001b[1;33m\u001b[0m\u001b[0m\n\u001b[0;32m      4\u001b[0m     \u001b[0mtf\u001b[0m\u001b[1;33m.\u001b[0m\u001b[0mkeras\u001b[0m\u001b[1;33m.\u001b[0m\u001b[0mlayers\u001b[0m\u001b[1;33m.\u001b[0m\u001b[0mDropout\u001b[0m\u001b[1;33m(\u001b[0m\u001b[1;36m0.3\u001b[0m\u001b[1;33m)\u001b[0m\u001b[1;33m,\u001b[0m\u001b[1;33m\u001b[0m\u001b[1;33m\u001b[0m\u001b[0m\n\u001b[0;32m      5\u001b[0m     \u001b[0mtf\u001b[0m\u001b[1;33m.\u001b[0m\u001b[0mkeras\u001b[0m\u001b[1;33m.\u001b[0m\u001b[0mlayers\u001b[0m\u001b[1;33m.\u001b[0m\u001b[0mDense\u001b[0m\u001b[1;33m(\u001b[0m\u001b[1;36m1024\u001b[0m\u001b[1;33m,\u001b[0m\u001b[0mactivation\u001b[0m\u001b[1;33m=\u001b[0m\u001b[1;34m'relu'\u001b[0m\u001b[1;33m)\u001b[0m\u001b[1;33m,\u001b[0m\u001b[1;33m\u001b[0m\u001b[1;33m\u001b[0m\u001b[0m\n",
      "\u001b[1;31mNameError\u001b[0m: name 'input_shape' is not defined"
     ]
    }
   ],
   "source": [
    "model=tf.keras.models.Sequential([\n",
    "    tf.keras.layers.Flatten(input_shape(28,28)),\n",
    "    tf.keras.layers.Dense(1024,activation='relu'),\n",
    "    tf.keras.layers.Dropout(0.3),\n",
    "    tf.keras.layers.Dense(1024,activation='relu'),\n",
    "    tf.keras.layers.Dropout(0.3),\n",
    "    tf.keras.layers.Dense(1024,activation='relu'),\n",
    "    tf.keras.layers.Dropout(0.3),\n",
    "    tf.keras.layers.Dense(512,activation='relu'),\n",
    "    tf.keras.layers.Dense(10,activation='softmax')  \n",
    "])"
   ]
  },
  {
   "cell_type": "code",
   "execution_count": 43,
   "id": "043af03e",
   "metadata": {},
   "outputs": [
    {
     "ename": "NameError",
     "evalue": "name 'model' is not defined",
     "output_type": "error",
     "traceback": [
      "\u001b[1;31m---------------------------------------------------------------------------\u001b[0m",
      "\u001b[1;31mNameError\u001b[0m                                 Traceback (most recent call last)",
      "\u001b[1;32m<ipython-input-43-f5f8c6582a6e>\u001b[0m in \u001b[0;36m<module>\u001b[1;34m\u001b[0m\n\u001b[1;32m----> 1\u001b[1;33m model.compile(optimizer='adam',loss='sparse_categorical_crossentropy',\n\u001b[0m\u001b[0;32m      2\u001b[0m              metrics=[\"accuracy\"])\n\u001b[0;32m      3\u001b[0m \u001b[0mmodel\u001b[0m\u001b[1;33m.\u001b[0m\u001b[0msummary\u001b[0m\u001b[1;33m(\u001b[0m\u001b[1;33m)\u001b[0m\u001b[1;33m\u001b[0m\u001b[1;33m\u001b[0m\u001b[0m\n\u001b[0;32m      4\u001b[0m hists=model.fit(x_train,y_train,\n\u001b[0;32m      5\u001b[0m                \u001b[0mvalidation_data\u001b[0m\u001b[1;33m=\u001b[0m\u001b[1;33m(\u001b[0m\u001b[0mx_test\u001b[0m\u001b[1;33m,\u001b[0m\u001b[0my_test\u001b[0m\u001b[1;33m)\u001b[0m\u001b[1;33m,\u001b[0m\u001b[1;33m\u001b[0m\u001b[1;33m\u001b[0m\u001b[0m\n",
      "\u001b[1;31mNameError\u001b[0m: name 'model' is not defined"
     ]
    }
   ],
   "source": [
    "model.compile(optimizer='adam',loss='sparse_categorical_crossentropy',\n",
    "             metrics=[\"accuracy\"])\n",
    "model.summary()\n",
    "hists=model.fit(x_train,y_train,\n",
    "               validation_data=(x_test,y_test),\n",
    "               verbose=2,batch_size=100,epochs=15,\n",
    "               use_multiprocessing=True)\n",
    "model.evaluate(x_test,y_test,verbose=2,batch_size=100,use_multiprocessing=True)"
   ]
  },
  {
   "cell_type": "code",
   "execution_count": 15,
   "id": "a42a027b",
   "metadata": {},
   "outputs": [
    {
     "ename": "NameError",
     "evalue": "name 'hist' is not defined",
     "output_type": "error",
     "traceback": [
      "\u001b[1;31m---------------------------------------------------------------------------\u001b[0m",
      "\u001b[1;31mNameError\u001b[0m                                 Traceback (most recent call last)",
      "\u001b[1;32m<ipython-input-15-cd21c138cfe9>\u001b[0m in \u001b[0;36m<module>\u001b[1;34m\u001b[0m\n\u001b[0;32m      1\u001b[0m \u001b[0mplt\u001b[0m\u001b[1;33m.\u001b[0m\u001b[0mfigure\u001b[0m\u001b[1;33m(\u001b[0m\u001b[0mfigsize\u001b[0m\u001b[1;33m=\u001b[0m\u001b[1;33m(\u001b[0m\u001b[1;36m8\u001b[0m\u001b[1;33m,\u001b[0m\u001b[1;36m4\u001b[0m\u001b[1;33m)\u001b[0m\u001b[1;33m)\u001b[0m\u001b[1;33m\u001b[0m\u001b[1;33m\u001b[0m\u001b[0m\n\u001b[0;32m      2\u001b[0m \u001b[0mplt\u001b[0m\u001b[1;33m.\u001b[0m\u001b[0msubplot\u001b[0m\u001b[1;33m(\u001b[0m\u001b[1;36m1\u001b[0m\u001b[1;33m,\u001b[0m\u001b[1;36m2\u001b[0m\u001b[1;33m,\u001b[0m\u001b[1;36m1\u001b[0m\u001b[1;33m)\u001b[0m\u001b[1;33m\u001b[0m\u001b[1;33m\u001b[0m\u001b[0m\n\u001b[1;32m----> 3\u001b[1;33m \u001b[0mplt\u001b[0m\u001b[1;33m.\u001b[0m\u001b[0mplot\u001b[0m\u001b[1;33m(\u001b[0m\u001b[0mhist\u001b[0m\u001b[1;33m.\u001b[0m\u001b[0mhistory\u001b[0m\u001b[1;33m[\u001b[0m\u001b[1;34m'loss'\u001b[0m\u001b[1;33m]\u001b[0m\u001b[1;33m)\u001b[0m\u001b[1;33m\u001b[0m\u001b[1;33m\u001b[0m\u001b[0m\n\u001b[0m\u001b[0;32m      4\u001b[0m \u001b[0mplt\u001b[0m\u001b[1;33m.\u001b[0m\u001b[0mtitle\u001b[0m\u001b[1;33m(\u001b[0m\u001b[1;34m\"cost graph\"\u001b[0m\u001b[1;33m)\u001b[0m\u001b[1;33m\u001b[0m\u001b[1;33m\u001b[0m\u001b[0m\n\u001b[0;32m      5\u001b[0m \u001b[0mplt\u001b[0m\u001b[1;33m.\u001b[0m\u001b[0mylabel\u001b[0m\u001b[1;33m(\u001b[0m\u001b[1;34m\"cost\"\u001b[0m\u001b[1;33m)\u001b[0m\u001b[1;33m\u001b[0m\u001b[1;33m\u001b[0m\u001b[0m\n",
      "\u001b[1;31mNameError\u001b[0m: name 'hist' is not defined"
     ]
    },
    {
     "data": {
      "image/png": "[encoded data removed]",
      "text/plain": [
       "<Figure size 576x288 with 1 Axes>"
      ]
     },
     "metadata": {
      "needs_background": "light"
     },
     "output_type": "display_data"
    }
   ],
   "source": [
    "plt.figure(figsize=(8,4))\n",
    "plt.subplot(1,2,1)\n",
    "plt.plot(hist.history['loss'])\n",
    "plt.title(\"cost graph\")\n",
    "plt.ylabel(\"cost\")\n",
    "plt.title(\"Accuracy Graph\")\n",
    "plt.ylabel(\"accuracy\")\n",
    "plt.plot(hist.history['accuracy'],'b-',label=\"training accuracy\")\n",
    "plt.plot(hist.history['val_accuracy'],'r:',label=\"val_accuracy\")\n",
    "plt.legend()\n",
    "plt.tight_layout()\n",
    "plt.show()"
   ]
  },
  {
   "cell_type": "code",
   "execution_count": null,
   "id": "aab19817",
   "metadata": {},
   "outputs": [],
   "source": []
  },
  {
   "cell_type": "code",
   "execution_count": null,
   "id": "4518f1e1",
   "metadata": {},
   "outputs": [],
   "source": []
  },
  {
   "cell_type": "code",
   "execution_count": 44,
   "id": "a39fc561",
   "metadata": {},
   "outputs": [
    {
     "name": "stdout",
     "output_type": "stream",
     "text": [
      "image.shape= (1, 3, 3, 1)\n",
      "image.reshaped.shape = [[1. 2. 3.]\n",
      " [4. 5. 6.]\n",
      " [7. 8. 9.]]\n",
      "image.reshaped:\n",
      "[[1. 2. 3.]\n",
      " [4. 5. 6.]\n",
      " [7. 8. 9.]]\n"
     ]
    },
    {
     "data": {
      "text/plain": [
       "<matplotlib.image.AxesImage at 0x2bf35a74580>"
      ]
     },
     "execution_count": 44,
     "metadata": {},
     "output_type": "execute_result"
    },
    {
     "data": {
      "image/png": "[encoded data removed]",
      "text/plain": [
       "<Figure size 432x288 with 1 Axes>"
      ]
     },
     "metadata": {
      "needs_background": "light"
     },
     "output_type": "display_data"
    }
   ],
   "source": [
    "import os\n",
    "os.environ['TF_CPP_MIN_LOG_LEVEL']='3'\n",
    "import tensorflow as tf\n",
    "import numpy as np\n",
    "import matplotlib.pyplot as plt\n",
    "import random\n",
    "\n",
    "image=np.array([[[[1],[2],[3]],\n",
    "                [[4],[5],[6]],\n",
    "                [[7],[8],[9]]]],dtype = np.float32)\n",
    "print('image.shape=',image.shape)\n",
    "print('image.reshaped.shape = ',image.reshape(3,3),sep='')\n",
    "print('image.reshaped:\\n',image.reshape(3,3),sep='')\n",
    "plt.imshow(image.reshape(3,3),cmap='gray')"
   ]
  },
  {
   "cell_type": "code",
   "execution_count": 45,
   "id": "0cf614ac",
   "metadata": {},
   "outputs": [
    {
     "name": "stdout",
     "output_type": "stream",
     "text": [
      "weight.shape =  (2, 2, 1, 1)\n",
      "weight.reshaped.shape=  (2, 2)\n",
      "weight.reshaped:\n",
      "[[1. 1.]\n",
      " [1. 1.]]\n"
     ]
    }
   ],
   "source": [
    "#Filter 정의\n",
    "weight=tf.constant([[[[1.0]],[[1.0]]],\n",
    "                    [[[1.0]],[[1.0]]]])\n",
    "print('weight.shape = ',weight.shape)\n",
    "weight_init=tf.constant_initializer(weight.numpy())\n",
    "weight_img=tf.reshape(weight,(2,2))\n",
    "print('weight.reshaped.shape= ',weight_img.shape)\n",
    "print('weight.reshaped:\\n',weight_img.numpy(),sep='')"
   ]
  },
  {
   "cell_type": "code",
   "execution_count": null,
   "id": "9c007363",
   "metadata": {},
   "outputs": [],
   "source": []
  },
  {
   "cell_type": "code",
   "execution_count": 52,
   "id": "e040dbbb",
   "metadata": {},
   "outputs": [
    {
     "name": "stdout",
     "output_type": "stream",
     "text": [
      "padding='VALID'\n",
      "conv2d_img.shape=  (1, 2, 2, 1)\n",
      "conv2d_img:\n",
      "[[[[12.]\n",
      "   [16.]]\n",
      "\n",
      "  [[24.]\n",
      "   [28.]]]]\n",
      "conv2d-img.reshaped,shape=  (2, 2)\n",
      "conv2d_img.reshaped:\n",
      "[[12. 16.]\n",
      " [24. 28.]]\n"
     ]
    }
   ],
   "source": [
    "#필터 적용\n",
    "print(\"padding='VALID'\")\n",
    "conv2d=tf.keras.layers.Conv2D(filters=1,kernel_size=2,padding='VALID',\n",
    "                             kernel_initializer=weight_init)(image)\n",
    "conv2d_img=conv2d.numpy()\n",
    "print('conv2d_img.shape= ',conv2d_img.shape)\n",
    "print('conv2d_img:\\n',conv2d_img,sep='')\n",
    "print('conv2d-img.reshaped,shape= ',conv2d_img.reshape(2,2).shape)\n",
    "print('conv2d_img.reshaped:\\n',conv2d_img.reshape(2,2),sep='')"
   ]
  },
  {
   "cell_type": "code",
   "execution_count": 51,
   "id": "a4ab1cab",
   "metadata": {},
   "outputs": [
    {
     "name": "stdout",
     "output_type": "stream",
     "text": [
      "padding='SAME'\n",
      "conv2d_img.shape=  (1, 3, 3, 1)\n",
      "conv2d_img:\n",
      "[[[[12.]\n",
      "   [16.]\n",
      "   [ 9.]]\n",
      "\n",
      "  [[24.]\n",
      "   [28.]\n",
      "   [15.]]\n",
      "\n",
      "  [[15.]\n",
      "   [17.]\n",
      "   [ 9.]]]]\n",
      "conv2d_img.reshaped.shape=  (3, 3)\n",
      "conv2d_img.reshaped:\n",
      "[[12. 16.  9.]\n",
      " [24. 28. 15.]\n",
      " [15. 17.  9.]]\n"
     ]
    }
   ],
   "source": [
    "print(\"padding='SAME'\")\n",
    "conv2d=tf.keras.layers.Conv2D(filters=1,kernel_size=2,padding='SAME',\n",
    "                             kernel_initializer=weight_init)(image)\n",
    "conv2d_img=conv2d.numpy()\n",
    "print('conv2d_img.shape= ',conv2d_img.shape)\n",
    "print('conv2d_img:\\n',conv2d_img,sep='')\n",
    "print('conv2d_img.reshaped.shape= ',conv2d_img.reshape(3,3).shape)\n",
    "print('conv2d_img.reshaped:\\n',conv2d_img.reshape(3,3),sep='')"
   ]
  },
  {
   "cell_type": "code",
   "execution_count": null,
   "id": "b857457b",
   "metadata": {},
   "outputs": [],
   "source": []
  },
  {
   "cell_type": "code",
   "execution_count": 59,
   "id": "8f85df14",
   "metadata": {},
   "outputs": [
    {
     "name": "stdout",
     "output_type": "stream",
     "text": [
      "weight.shape =  (2, 2, 1, 3)\n",
      "[[1. 1.]\n",
      " [1. 1.]]\n",
      "[[10. 10.]\n",
      " [10. 10.]]\n",
      "[[-1. -1.]\n",
      " [-1. -1.]]\n"
     ]
    }
   ],
   "source": [
    "#Filter 3개 정의\n",
    "weight=tf.constant([[[[1.0,10.0,-1.0]],[[1.0,10.0,-1.0]]],\n",
    "                    [[[1.0,10.0,-1.0]],[[1.0,10.0,-1.0]]]])\n",
    "weight_img=weight.numpy()\n",
    "print('weight.shape = ',weight.shape) #(2,2,1,3)->row,col,channel,number\n",
    "weight_init=tf.constant_initializer(weight.numpy())\n",
    "weight_img=np.swapaxes(weight_img,0,3)\n",
    "#(row,col,depth,개수)\n",
    "#필터 총 3개\n",
    "for i,one_img in enumerate(weight_img):\n",
    "    print(one_img.reshape(2,2))"
   ]
  },
  {
   "cell_type": "code",
   "execution_count": 60,
   "id": "347cee3a",
   "metadata": {},
   "outputs": [
    {
     "name": "stdout",
     "output_type": "stream",
     "text": [
      "padding='SAME'\n",
      "conv2d_img.shape=  (1, 3, 3, 3)\n",
      "[[12. 16.  9.]\n",
      " [24. 28. 15.]\n",
      " [15. 17.  9.]]\n",
      "[[120. 160.  90.]\n",
      " [240. 280. 150.]\n",
      " [150. 170.  90.]]\n",
      "[[-12. -16.  -9.]\n",
      " [-24. -28. -15.]\n",
      " [-15. -17.  -9.]]\n"
     ]
    }
   ],
   "source": [
    "print(\"padding='SAME'\")\n",
    "conv2d=tf.keras.layers.Conv2D(filters=3,kernel_size=2,padding='SAME',\n",
    "                             kernel_initializer=weight_init)(image)\n",
    "conv2d_img=conv2d.numpy()\n",
    "print('conv2d_img.shape= ',conv2d_img.shape)\n",
    "conv2d_img=np.swapaxes(conv2d_img,0,3)\n",
    "for i,one_img in enumerate(conv2d_img):\n",
    "    print(one_img.reshape(3,3))"
   ]
  },
  {
   "cell_type": "code",
   "execution_count": 65,
   "id": "5c54f2bd",
   "metadata": {},
   "outputs": [
    {
     "name": "stdout",
     "output_type": "stream",
     "text": [
      "padding='SAME'\n",
      "pool_img.shape=  (1, 3, 3, 1)\n",
      "[[5. 6. 6.]\n",
      " [8. 9. 9.]\n",
      " [8. 9. 9.]]\n"
     ]
    }
   ],
   "source": [
    "#Max Pooling\n",
    "print(\"padding='SAME'\")\n",
    "pool=tf.keras.layers.MaxPool2D(pool_size=(2,2),strides=1,padding='SAME')(image)\n",
    "pool_img=pool.numpy()\n",
    "print('pool_img.shape= ',pool_img.shape)\n",
    "conv2d_img=np.swapaxes(pool_img,0,3)\n",
    "for i, one_img in enumerate(pool_img):\n",
    "    print(one_img.reshape(3,3))"
   ]
  },
  {
   "cell_type": "code",
   "execution_count": null,
   "id": "149ea1f3",
   "metadata": {},
   "outputs": [],
   "source": []
  },
  {
   "cell_type": "code",
   "execution_count": 66,
   "id": "697350fd",
   "metadata": {},
   "outputs": [],
   "source": [
    "import os\n",
    "os.environ['TF_CPP_LOG_LEVEL']='3'\n",
    "\n",
    "import tensorflow as tf\n",
    "import matplotlib.pyplot as plt\n"
   ]
  },
  {
   "cell_type": "code",
   "execution_count": 67,
   "id": "d00a0bdd",
   "metadata": {},
   "outputs": [
    {
     "name": "stdout",
     "output_type": "stream",
     "text": [
      "(60000, 28, 28, 1)\n",
      "(10000, 28, 28, 1)\n",
      "(60000,)\n",
      "(10000,)\n"
     ]
    }
   ],
   "source": [
    "mnist=tf.keras.datasets.mnist\n",
    "(x_train,y_train),(x_test,y_test)=mnist.load_data()\n",
    "\n",
    "x_train=x_train.reshape(-1,28,28,1)\n",
    "x_test=x_test.reshape(-1,28,28,1)\n",
    "\n",
    "x_train,x_test=x_train/255.0,x_test/255.0\n",
    "\n",
    "print(x_train.shape)\n",
    "print(x_test.shape)\n",
    "print(y_train.shape)\n",
    "print(y_test.shape)"
   ]
  },
  {
   "cell_type": "code",
   "execution_count": 72,
   "id": "e9b1903c",
   "metadata": {},
   "outputs": [],
   "source": [
    "model=tf.keras.models.Sequential([\n",
    "    tf.keras.layers.Conv2D(32,(3,3),padding='same',\n",
    "                           activation='relu',input_shape=(28,28,1)),\n",
    "     tf.keras.layers.MaxPooling2D((2,2),padding='same'),\n",
    "     tf.keras.layers.Dropout(0.3),\n",
    "    \n",
    "     tf.keras.layers.Conv2D(64,(3,3),strides=(1,1),padding='same',\n",
    "                          activation='relu'),\n",
    "     tf.keras.layers.MaxPooling2D((2,2),padding='same'),\n",
    "     tf.keras.layers.Dropout(0.3),\n",
    "    \n",
    "     tf.keras.layers.Conv2D(128,(3,3),strides=(1,1),padding='same',\n",
    "                          activation='relu'),\n",
    "     tf.keras.layers.MaxPooling2D((2,2),padding='same'),\n",
    "     tf.keras.layers.Flatten(),\n",
    "     tf.keras.layers.Dense(128,activation='relu'),\n",
    "     tf.keras.layers.Dense(10,activation='softmax')\n",
    "    \n",
    "])"
   ]
  },
  {
   "cell_type": "code",
   "execution_count": 75,
   "id": "5fff2340",
   "metadata": {},
   "outputs": [
    {
     "name": "stdout",
     "output_type": "stream",
     "text": [
      "Model: \"sequential\"\n",
      "_________________________________________________________________\n",
      "Layer (type)                 Output Shape              Param #   \n",
      "=================================================================\n",
      "conv2d_3 (Conv2D)            (None, 28, 28, 32)        320       \n",
      "_________________________________________________________________\n",
      "max_pooling2d_5 (MaxPooling2 (None, 14, 14, 32)        0         \n",
      "_________________________________________________________________\n",
      "dropout (Dropout)            (None, 14, 14, 32)        0         \n",
      "_________________________________________________________________\n",
      "conv2d_4 (Conv2D)            (None, 14, 14, 64)        18496     \n",
      "_________________________________________________________________\n",
      "max_pooling2d_6 (MaxPooling2 (None, 7, 7, 64)          0         \n",
      "_________________________________________________________________\n",
      "dropout_1 (Dropout)          (None, 7, 7, 64)          0         \n",
      "_________________________________________________________________\n",
      "conv2d_5 (Conv2D)            (None, 7, 7, 128)         73856     \n",
      "_________________________________________________________________\n",
      "max_pooling2d_7 (MaxPooling2 (None, 4, 4, 128)         0         \n",
      "_________________________________________________________________\n",
      "flatten (Flatten)            (None, 2048)              0         \n",
      "_________________________________________________________________\n",
      "dense (Dense)                (None, 128)               262272    \n",
      "_________________________________________________________________\n",
      "dense_1 (Dense)              (None, 10)                1290      \n",
      "=================================================================\n",
      "Total params: 356,234\n",
      "Trainable params: 356,234\n",
      "Non-trainable params: 0\n",
      "_________________________________________________________________\n",
      "Epoch 1/5\n",
      "600/600 - 76s - loss: 0.2390 - accuracy: 0.9235 - val_loss: 0.0636 - val_accuracy: 0.9778\n",
      "Epoch 2/5\n",
      "600/600 - 75s - loss: 0.0668 - accuracy: 0.9785 - val_loss: 0.0338 - val_accuracy: 0.9891\n",
      "Epoch 3/5\n",
      "600/600 - 75s - loss: 0.0480 - accuracy: 0.9849 - val_loss: 0.0287 - val_accuracy: 0.9907\n",
      "Epoch 4/5\n",
      "600/600 - 74s - loss: 0.0399 - accuracy: 0.9876 - val_loss: 0.0255 - val_accuracy: 0.9909\n",
      "Epoch 5/5\n",
      "600/600 - 74s - loss: 0.0350 - accuracy: 0.9890 - val_loss: 0.0230 - val_accuracy: 0.9924\n",
      "100/100 - 3s - loss: 0.0230 - accuracy: 0.9924\n"
     ]
    },
    {
     "data": {
      "text/plain": [
       "[0.023034919053316116, 0.9923999905586243]"
      ]
     },
     "execution_count": 75,
     "metadata": {},
     "output_type": "execute_result"
    }
   ],
   "source": [
    "model.compile(optimizer='adam',loss='sparse_categorical_crossentropy',metrics=[\"accuracy\"])\n",
    "model.summary()\n",
    "\n",
    "hist=model.fit(x_train,y_train,\n",
    "              validation_data=(x_test,y_test),\n",
    "              verbose=2,batch_size=100,epochs=5,use_multiprocessing=True)\n",
    "\n",
    "model.evaluate(x_test,y_test,verbose=2,batch_size=100,use_multiprocessing=True)"
   ]
  },
  {
   "cell_type": "code",
   "execution_count": 76,
   "id": "42468f3c",
   "metadata": {},
   "outputs": [
    {
     "data": {
      "image/png": "[encoded data removed]",
      "text/plain": [
       "<Figure size 576x288 with 2 Axes>"
      ]
     },
     "metadata": {
      "needs_background": "light"
     },
     "output_type": "display_data"
    }
   ],
   "source": [
    "plt.figure(figsize=(8,4))\n",
    "plt.subplot(1,2,1)\n",
    "plt.plot(hist.history['loss'])\n",
    "plt.title(\"Cost Graph\")\n",
    "plt.ylabel(\"cost\")\n",
    "plt.subplot(1,2,2)\n",
    "plt.title(\"Accuracy Graph\")\n",
    "plt.ylabel(\"accuracy\")\n",
    "plt.plot(hist.history['accuracy'],'b-',label=\"training accuracy\")\n",
    "plt.plot(hist.history['val_accuracy'],'r:',label=\"validation accuracy\")\n",
    "plt.legend()\n",
    "plt.tight_layout()\n",
    "plt.show()"
   ]
  },
  {
   "cell_type": "code",
   "execution_count": null,
   "id": "d290a04d",
   "metadata": {},
   "outputs": [],
   "source": []
  },
  {
   "cell_type": "code",
   "execution_count": null,
   "id": "b48f05ed",
   "metadata": {},
   "outputs": [],
   "source": []
  },
  {
   "cell_type": "code",
   "execution_count": null,
   "id": "42b6099b",
   "metadata": {},
   "outputs": [],
   "source": []
  },
  {
   "cell_type": "code",
   "execution_count": null,
   "id": "f9e7aabe",
   "metadata": {},
   "outputs": [],
   "source": []
  },
  {
   "cell_type": "code",
   "execution_count": null,
   "id": "2ee94dd0",
   "metadata": {},
   "outputs": [],
   "source": []
  },
  {
   "cell_type": "code",
   "execution_count": null,
   "id": "23b453fa",
   "metadata": {},
   "outputs": [],
   "source": []
  },
  {
   "cell_type": "code",
   "execution_count": null,
   "id": "62fa8f52",
   "metadata": {},
   "outputs": [],
   "source": []
  },
  {
   "cell_type": "code",
   "execution_count": null,
   "id": "8757a4ed",
   "metadata": {},
   "outputs": [],
   "source": []
  },
  {
   "cell_type": "code",
   "execution_count": null,
   "id": "a35c8509",
   "metadata": {},
   "outputs": [],
   "source": []
  }
 ],
 "metadata": {
  "kernelspec": {
   "display_name": "Python 3",
   "language": "python",
   "name": "python3"
  },
  "language_info": {
   "codemirror_mode": {
    "name": "ipython",
    "version": 3
   },
   "file_extension": ".py",
   "mimetype": "text/x-python",
   "name": "python",
   "nbconvert_exporter": "python",
   "pygments_lexer": "ipython3",
   "version": "3.9.6"
  }
 },
 "nbformat": 4,
 "nbformat_minor": 5
}
