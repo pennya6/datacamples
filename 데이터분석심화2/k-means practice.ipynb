{
 "cells": [
  {
   "cell_type": "markdown",
   "id": "4880bca4",
   "metadata": {},
   "source": [
    "## 2021-07-13 실습 "
   ]
  },
  {
   "cell_type": "code",
   "execution_count": 8,
   "id": "4ebe44fc",
   "metadata": {},
   "outputs": [],
   "source": [
    "# k-means 실습"
   ]
  },
  {
   "cell_type": "code",
   "execution_count": 1,
   "id": "82801a34",
   "metadata": {},
   "outputs": [],
   "source": [
    "from sklearn.cluster import KMeans\n",
    "import numpy as np"
   ]
  },
  {
   "cell_type": "code",
   "execution_count": 41,
   "id": "7058bbe6",
   "metadata": {},
   "outputs": [
    {
     "name": "stdout",
     "output_type": "stream",
     "text": [
      "[[ 2 10]\n",
      " [ 2  5]\n",
      " [ 8  4]\n",
      " [ 5  8]\n",
      " [ 7  5]\n",
      " [ 6  4]\n",
      " [ 1  2]\n",
      " [ 4  9]\n",
      " [ 3  4]\n",
      " [24  5]\n",
      " [12 22]\n",
      " [ 9  8]\n",
      " [11 14]\n",
      " [21 23]\n",
      " [19 18]\n",
      " [15  6]\n",
      " [17  2]\n",
      " [10  1]\n",
      " [21  4]\n",
      " [25 26]]\n",
      "Labels :  [3 5 1 3 1 1 5 3 5 2 4 1 4 0 0 2 2 1 2 0]\n",
      "Cluster Centers :  [[21.66666667 22.33333333]\n",
      " [ 8.          4.4       ]\n",
      " [19.25        4.25      ]\n",
      " [ 3.66666667  9.        ]\n",
      " [11.5        18.        ]\n",
      " [ 2.          3.66666667]]\n",
      "Predict Values :  [3]\n"
     ]
    }
   ],
   "source": [
    "#input\n",
    "X=np.array([[2,10],[2,5],[8,4],[5,8],[7,5],[6,4],[1,2],[4,9],[3,4],[24,5],[12,22],[9,8],[11,14],[21,23],[19,18],[15,6],[17,2],[10,1],[21,4],[25,26]])\n",
    "print(X)\n",
    "\n",
    "#cluster 수는 3 \n",
    "#fit은 학습 시킨다 라는 의미\n",
    "kmeans=KMeans(n_clusters=6).fit(X)\n",
    "\n",
    "#labeling 결과 나오기\n",
    "print(\"Labels : \",kmeans.labels_)\n",
    "\n",
    "#각 cluster의 center 뽑기\n",
    "print(\"Cluster Centers : \",kmeans.cluster_centers_)\n",
    "\n",
    "#[1,1]의 cluster 결과 예측하기\n",
    "print(\"Predict Values : \",kmeans.predict([[8,9]]))"
   ]
  },
  {
   "cell_type": "code",
   "execution_count": 24,
   "id": "574fd95f",
   "metadata": {},
   "outputs": [],
   "source": [
    "#k-means 시각화"
   ]
  },
  {
   "cell_type": "code",
   "execution_count": 13,
   "id": "1d4af71c",
   "metadata": {},
   "outputs": [],
   "source": [
    "import matplotlib.pyplot as plt"
   ]
  },
  {
   "cell_type": "code",
   "execution_count": 42,
   "id": "547148d2",
   "metadata": {},
   "outputs": [
    {
     "data": {
      "image/png": "[encoded data removed]",
      "text/plain": [
       "<Figure size 432x288 with 1 Axes>"
      ]
     },
     "metadata": {
      "needs_background": "light"
     },
     "output_type": "display_data"
    }
   ],
   "source": [
    "#X[:,0] 행이 0\n",
    "plt.scatter(X[:,0],X[:,1],c=kmeans.labels_,cmap='rainbow')\n",
    "\n",
    "#center을 가져옴\n",
    "plt.scatter(kmeans.cluster_centers_[:,0],kmeans.cluster_centers_[:,1],color='black',marker=\"*\",s=200)\n",
    "plt.show()"
   ]
  },
  {
   "cell_type": "code",
   "execution_count": null,
   "id": "df81f6cb",
   "metadata": {},
   "outputs": [],
   "source": []
  },
  {
   "cell_type": "markdown",
   "id": "f7e62dfd",
   "metadata": {},
   "source": [
    "###  python k-means r15 dataset"
   ]
  },
  {
   "cell_type": "code",
   "execution_count": 43,
   "id": "6275a908",
   "metadata": {},
   "outputs": [],
   "source": [
    "from sklearn.cluster import KMeans\n",
    "import pandas as pd\n",
    "import matplotlib.pyplot as plt"
   ]
  },
  {
   "cell_type": "code",
   "execution_count": 45,
   "id": "2374449a",
   "metadata": {},
   "outputs": [],
   "source": [
    "sample_df=pd.read_csv(\"r15.csv\")"
   ]
  },
  {
   "cell_type": "code",
   "execution_count": 46,
   "id": "a00c75fe",
   "metadata": {},
   "outputs": [
    {
     "data": {
      "text/html": [
       "<div>\n",
       "<style scoped>\n",
       "    .dataframe tbody tr th:only-of-type {\n",
       "        vertical-align: middle;\n",
       "    }\n",
       "\n",
       "    .dataframe tbody tr th {\n",
       "        vertical-align: top;\n",
       "    }\n",
       "\n",
       "    .dataframe thead th {\n",
       "        text-align: right;\n",
       "    }\n",
       "</style>\n",
       "<table border=\"1\" class=\"dataframe\">\n",
       "  <thead>\n",
       "    <tr style=\"text-align: right;\">\n",
       "      <th></th>\n",
       "      <th>col1</th>\n",
       "      <th>col2</th>\n",
       "      <th>target</th>\n",
       "    </tr>\n",
       "  </thead>\n",
       "  <tbody>\n",
       "    <tr>\n",
       "      <th>0</th>\n",
       "      <td>9.802</td>\n",
       "      <td>10.132</td>\n",
       "      <td>1</td>\n",
       "    </tr>\n",
       "    <tr>\n",
       "      <th>1</th>\n",
       "      <td>10.350</td>\n",
       "      <td>9.768</td>\n",
       "      <td>1</td>\n",
       "    </tr>\n",
       "    <tr>\n",
       "      <th>2</th>\n",
       "      <td>10.098</td>\n",
       "      <td>9.988</td>\n",
       "      <td>1</td>\n",
       "    </tr>\n",
       "    <tr>\n",
       "      <th>3</th>\n",
       "      <td>9.730</td>\n",
       "      <td>9.910</td>\n",
       "      <td>1</td>\n",
       "    </tr>\n",
       "    <tr>\n",
       "      <th>4</th>\n",
       "      <td>9.754</td>\n",
       "      <td>10.430</td>\n",
       "      <td>1</td>\n",
       "    </tr>\n",
       "    <tr>\n",
       "      <th>...</th>\n",
       "      <td>...</td>\n",
       "      <td>...</td>\n",
       "      <td>...</td>\n",
       "    </tr>\n",
       "    <tr>\n",
       "      <th>595</th>\n",
       "      <td>14.198</td>\n",
       "      <td>4.804</td>\n",
       "      <td>15</td>\n",
       "    </tr>\n",
       "    <tr>\n",
       "      <th>596</th>\n",
       "      <td>14.320</td>\n",
       "      <td>4.590</td>\n",
       "      <td>15</td>\n",
       "    </tr>\n",
       "    <tr>\n",
       "      <th>597</th>\n",
       "      <td>13.636</td>\n",
       "      <td>5.218</td>\n",
       "      <td>15</td>\n",
       "    </tr>\n",
       "    <tr>\n",
       "      <th>598</th>\n",
       "      <td>14.410</td>\n",
       "      <td>4.656</td>\n",
       "      <td>15</td>\n",
       "    </tr>\n",
       "    <tr>\n",
       "      <th>599</th>\n",
       "      <td>14.020</td>\n",
       "      <td>5.614</td>\n",
       "      <td>15</td>\n",
       "    </tr>\n",
       "  </tbody>\n",
       "</table>\n",
       "<p>600 rows × 3 columns</p>\n",
       "</div>"
      ],
      "text/plain": [
       "       col1    col2  target\n",
       "0     9.802  10.132       1\n",
       "1    10.350   9.768       1\n",
       "2    10.098   9.988       1\n",
       "3     9.730   9.910       1\n",
       "4     9.754  10.430       1\n",
       "..      ...     ...     ...\n",
       "595  14.198   4.804      15\n",
       "596  14.320   4.590      15\n",
       "597  13.636   5.218      15\n",
       "598  14.410   4.656      15\n",
       "599  14.020   5.614      15\n",
       "\n",
       "[600 rows x 3 columns]"
      ]
     },
     "execution_count": 46,
     "metadata": {},
     "output_type": "execute_result"
    }
   ],
   "source": [
    "sample_df"
   ]
  },
  {
   "cell_type": "code",
   "execution_count": 47,
   "id": "6dbe1663",
   "metadata": {},
   "outputs": [],
   "source": [
    "training_points=sample_df[[\"col1\",\"col2\"]]\n",
    "training_labels=sample_df[\"target\"]"
   ]
  },
  {
   "cell_type": "code",
   "execution_count": 48,
   "id": "77ede7b8",
   "metadata": {},
   "outputs": [],
   "source": [
    "kmeans=KMeans(n_clusters=15).fit(training_points)"
   ]
  },
  {
   "cell_type": "code",
   "execution_count": 50,
   "id": "9c709d3b",
   "metadata": {},
   "outputs": [
    {
     "data": {
      "image/png": "[encoded data removed]",
      "text/plain": [
       "<Figure size 432x288 with 1 Axes>"
      ]
     },
     "metadata": {
      "needs_background": "light"
     },
     "output_type": "display_data"
    }
   ],
   "source": [
    "plt.scatter(training_points[\"col1\"],training_points[\"col2\"],c=kmeans.labels_,cmap='rainbow')\n",
    "plt.show()"
   ]
  },
  {
   "cell_type": "code",
   "execution_count": 57,
   "id": "8e09cf9d",
   "metadata": {},
   "outputs": [
    {
     "data": {
      "text/plain": [
       "array([10, 10, 10, 10, 10, 10, 10, 10, 10, 10, 10, 10, 10, 10, 10, 10, 10,\n",
       "       10, 10, 10, 10, 10, 10, 10, 10, 10, 10, 10, 10, 10, 10, 10, 10, 10,\n",
       "       10, 10, 10, 10, 10, 10, 14, 14, 14, 14, 14, 14, 14, 14, 14, 14, 14,\n",
       "       14, 14, 14, 14, 14, 14, 14, 14, 14, 14, 14, 14, 14, 14, 14, 14, 14,\n",
       "       14, 14, 14, 14, 14, 14, 14, 14, 14, 14, 14, 14,  0,  0,  0,  0,  0,\n",
       "        0,  0,  0,  0,  0,  0,  0,  0,  0,  0,  0,  0,  0,  0,  0,  0,  0,\n",
       "        0,  0,  0,  0,  0,  0,  0,  0,  0,  0,  0,  0,  0,  0,  0,  0,  0,\n",
       "        0, 11, 11, 11, 11, 11, 11, 11,  0, 11, 11, 11, 11, 11, 11, 11, 11,\n",
       "       11, 11, 11, 11, 11, 11, 11, 11, 11, 11, 11, 11, 11, 11, 11, 11, 11,\n",
       "       11, 11, 11, 11, 11, 11, 11,  1,  1,  1,  1,  1,  1,  1,  1,  1,  1,\n",
       "        1,  1,  1,  1,  1,  1,  1,  1,  1,  1,  1,  1,  1,  1,  1,  1,  1,\n",
       "        1,  1,  1,  1,  1,  1,  1,  1,  1,  1,  1,  1,  1, 13, 13, 13, 13,\n",
       "       13, 13, 13, 13, 13, 13, 13, 13, 13, 13, 13, 13, 13, 13, 13, 13, 13,\n",
       "       13, 13, 13, 13, 13, 13, 13, 13, 13, 13, 13, 13, 13, 13, 13, 13, 13,\n",
       "       13, 13, 12, 12, 12, 12, 12, 13, 12, 12, 12, 12, 12, 12, 12, 12, 12,\n",
       "       12, 12, 12, 12, 12, 12, 12, 12, 12, 12, 12, 12, 12, 12, 12, 12, 12,\n",
       "       12, 12, 12, 12, 12, 12, 12, 12,  9,  9,  9,  9,  9,  9,  9,  9,  9,\n",
       "        9,  9,  9,  9,  9,  9,  9,  9,  9,  9,  9,  9,  9,  9,  9,  9,  9,\n",
       "        9,  9,  9,  9,  9,  9,  9,  9,  9,  9,  9,  9,  9,  9,  4,  4,  4,\n",
       "        4,  4,  4,  4,  4,  4,  4,  4,  4,  4,  4,  4,  4,  4,  4,  4,  4,\n",
       "        4,  4,  4,  4,  4,  4,  4,  4,  4,  4,  4,  4,  4,  4,  4,  4,  4,\n",
       "        4,  4,  4,  7,  7,  7,  7,  7,  7,  7,  7,  7,  7,  7,  7,  7,  7,\n",
       "        7,  7,  7,  7,  7,  7,  7,  7,  7,  7,  7,  7,  7,  7,  7,  7,  7,\n",
       "        7,  7,  7,  7,  7,  7,  7,  7,  7,  2,  2,  2,  2,  2,  2,  2,  2,\n",
       "        2,  2,  2,  2,  2,  2,  2,  2,  2,  2,  2,  2,  2,  2,  2,  2,  2,\n",
       "        2,  2,  2,  2,  2,  2,  2,  2,  2,  2,  2,  2,  2,  2,  2,  8,  8,\n",
       "        8,  8,  8,  8,  8,  8,  8,  8,  8,  8,  8,  8,  8,  8,  8,  8,  8,\n",
       "        8,  8,  8,  8,  8,  8,  8,  8,  8,  8,  8,  8,  8,  8,  8,  8,  8,\n",
       "        8,  8,  8,  8,  6,  6,  6,  6,  6,  6,  6,  6,  6,  6,  6,  6,  6,\n",
       "        6,  6,  6,  6,  6,  6,  6,  6,  6,  6,  6,  6,  6,  6,  6,  6,  6,\n",
       "        6,  6,  6,  6,  6,  6,  6,  6,  6,  6,  3,  3,  3,  3,  3,  3,  3,\n",
       "        3,  3,  3,  3,  3,  3,  3,  3,  3,  3,  3,  3,  3,  3,  3,  3,  3,\n",
       "        3,  3,  3,  3,  3,  3,  3,  3,  3,  3,  3,  3,  3,  3,  3,  3,  5,\n",
       "        5,  5,  5,  5,  5,  5,  5,  5,  5,  5,  5,  5,  5,  5,  5,  5,  5,\n",
       "        5,  5,  5,  5,  5,  5,  5,  5,  5,  5,  5,  5,  5,  5,  5,  5,  5,\n",
       "        5,  5,  5,  5,  5])"
      ]
     },
     "execution_count": 57,
     "metadata": {},
     "output_type": "execute_result"
    }
   ],
   "source": [
    "kmeans.labels_"
   ]
  },
  {
   "cell_type": "code",
   "execution_count": null,
   "id": "ddf1a19d",
   "metadata": {},
   "outputs": [],
   "source": []
  },
  {
   "cell_type": "markdown",
   "id": "9cabe308",
   "metadata": {},
   "source": [
    "#### spiral dataset"
   ]
  },
  {
   "cell_type": "code",
   "execution_count": 58,
   "id": "d1403eea",
   "metadata": {},
   "outputs": [],
   "source": [
    "from sklearn.cluster import KMeans\n",
    "import pandas as pd\n",
    "import matplotlib.pyplot as plt"
   ]
  },
  {
   "cell_type": "code",
   "execution_count": 59,
   "id": "92ae4f64",
   "metadata": {},
   "outputs": [],
   "source": [
    "sample1_df=pd.read_csv(\"spiral.csv\")"
   ]
  },
  {
   "cell_type": "code",
   "execution_count": 60,
   "id": "bbed2621",
   "metadata": {},
   "outputs": [
    {
     "data": {
      "text/html": [
       "<div>\n",
       "<style scoped>\n",
       "    .dataframe tbody tr th:only-of-type {\n",
       "        vertical-align: middle;\n",
       "    }\n",
       "\n",
       "    .dataframe tbody tr th {\n",
       "        vertical-align: top;\n",
       "    }\n",
       "\n",
       "    .dataframe thead th {\n",
       "        text-align: right;\n",
       "    }\n",
       "</style>\n",
       "<table border=\"1\" class=\"dataframe\">\n",
       "  <thead>\n",
       "    <tr style=\"text-align: right;\">\n",
       "      <th></th>\n",
       "      <th>X</th>\n",
       "      <th>Y</th>\n",
       "      <th>Group</th>\n",
       "    </tr>\n",
       "  </thead>\n",
       "  <tbody>\n",
       "    <tr>\n",
       "      <th>0</th>\n",
       "      <td>31.15</td>\n",
       "      <td>7.30</td>\n",
       "      <td>3</td>\n",
       "    </tr>\n",
       "    <tr>\n",
       "      <th>1</th>\n",
       "      <td>30.45</td>\n",
       "      <td>6.65</td>\n",
       "      <td>3</td>\n",
       "    </tr>\n",
       "    <tr>\n",
       "      <th>2</th>\n",
       "      <td>29.70</td>\n",
       "      <td>6.00</td>\n",
       "      <td>3</td>\n",
       "    </tr>\n",
       "    <tr>\n",
       "      <th>3</th>\n",
       "      <td>28.90</td>\n",
       "      <td>5.55</td>\n",
       "      <td>3</td>\n",
       "    </tr>\n",
       "    <tr>\n",
       "      <th>4</th>\n",
       "      <td>28.05</td>\n",
       "      <td>5.00</td>\n",
       "      <td>3</td>\n",
       "    </tr>\n",
       "    <tr>\n",
       "      <th>...</th>\n",
       "      <td>...</td>\n",
       "      <td>...</td>\n",
       "      <td>...</td>\n",
       "    </tr>\n",
       "    <tr>\n",
       "      <th>306</th>\n",
       "      <td>15.75</td>\n",
       "      <td>13.85</td>\n",
       "      <td>2</td>\n",
       "    </tr>\n",
       "    <tr>\n",
       "      <th>307</th>\n",
       "      <td>15.65</td>\n",
       "      <td>14.05</td>\n",
       "      <td>2</td>\n",
       "    </tr>\n",
       "    <tr>\n",
       "      <th>308</th>\n",
       "      <td>15.65</td>\n",
       "      <td>14.25</td>\n",
       "      <td>2</td>\n",
       "    </tr>\n",
       "    <tr>\n",
       "      <th>309</th>\n",
       "      <td>15.65</td>\n",
       "      <td>14.50</td>\n",
       "      <td>2</td>\n",
       "    </tr>\n",
       "    <tr>\n",
       "      <th>310</th>\n",
       "      <td>15.65</td>\n",
       "      <td>14.60</td>\n",
       "      <td>2</td>\n",
       "    </tr>\n",
       "  </tbody>\n",
       "</table>\n",
       "<p>311 rows × 3 columns</p>\n",
       "</div>"
      ],
      "text/plain": [
       "         X      Y  Group\n",
       "0    31.15   7.30      3\n",
       "1    30.45   6.65      3\n",
       "2    29.70   6.00      3\n",
       "3    28.90   5.55      3\n",
       "4    28.05   5.00      3\n",
       "..     ...    ...    ...\n",
       "306  15.75  13.85      2\n",
       "307  15.65  14.05      2\n",
       "308  15.65  14.25      2\n",
       "309  15.65  14.50      2\n",
       "310  15.65  14.60      2\n",
       "\n",
       "[311 rows x 3 columns]"
      ]
     },
     "execution_count": 60,
     "metadata": {},
     "output_type": "execute_result"
    }
   ],
   "source": [
    "sample1_df"
   ]
  },
  {
   "cell_type": "code",
   "execution_count": 63,
   "id": "22a3a01f",
   "metadata": {},
   "outputs": [],
   "source": [
    "training1_points=sample1_df[[\"X\",\"Y\"]]\n",
    "training1_labels=sample1_df[\"Group\"]"
   ]
  },
  {
   "cell_type": "code",
   "execution_count": 67,
   "id": "277a934a",
   "metadata": {},
   "outputs": [],
   "source": [
    "kmeans=KMeans(n_clusters=3).fit(training1_points)"
   ]
  },
  {
   "cell_type": "code",
   "execution_count": 76,
   "id": "feab8640",
   "metadata": {
    "scrolled": false
   },
   "outputs": [
    {
     "data": {
      "image/png": "[encoded data removed]",
      "text/plain": [
       "<Figure size 432x288 with 1 Axes>"
      ]
     },
     "metadata": {
      "needs_background": "light"
     },
     "output_type": "display_data"
    }
   ],
   "source": [
    "plt.scatter(training1_points[\"X\"],training1_points[\"Y\"],c=kmeans.labels_,cmap='rainbow')\n",
    "plt.show()"
   ]
  },
  {
   "cell_type": "code",
   "execution_count": null,
   "id": "89e55f49",
   "metadata": {},
   "outputs": [],
   "source": []
  },
  {
   "cell_type": "markdown",
   "id": "b560d38e",
   "metadata": {},
   "source": [
    "#### 병합 클러스터링"
   ]
  },
  {
   "cell_type": "code",
   "execution_count": 77,
   "id": "e34f43a6",
   "metadata": {},
   "outputs": [],
   "source": [
    "from sklearn.cluster import KMeans\n",
    "from sklearn.cluster import AgglomerativeClustering\n",
    "import pandas as pd\n",
    "import matplotlib.pyplot as plt"
   ]
  },
  {
   "cell_type": "code",
   "execution_count": 78,
   "id": "3160377f",
   "metadata": {},
   "outputs": [],
   "source": [
    "sample_df=pd.read_csv(\"r15.csv\")"
   ]
  },
  {
   "cell_type": "code",
   "execution_count": 79,
   "id": "67894b54",
   "metadata": {},
   "outputs": [],
   "source": [
    "training_points=sample_df[[\"col1\",\"col2\"]]\n",
    "training_labels=sample_df[\"target\"]"
   ]
  },
  {
   "cell_type": "code",
   "execution_count": 81,
   "id": "473a733c",
   "metadata": {},
   "outputs": [],
   "source": [
    "agglo=AgglomerativeClustering(n_clusters=15).fit(training_points)"
   ]
  },
  {
   "cell_type": "code",
   "execution_count": 84,
   "id": "8cbb1736",
   "metadata": {
    "scrolled": true
   },
   "outputs": [
    {
     "data": {
      "text/plain": [
       "<matplotlib.collections.PathCollection at 0x2bbdf4c9cd0>"
      ]
     },
     "execution_count": 84,
     "metadata": {},
     "output_type": "execute_result"
    },
    {
     "data": {
      "image/png": "[encoded data removed]",
      "text/plain": [
       "<Figure size 432x288 with 1 Axes>"
      ]
     },
     "metadata": {
      "needs_background": "light"
     },
     "output_type": "display_data"
    }
   ],
   "source": [
    "plt.scatter(training_points[\"col1\"],training_points[\"col2\"],c=agglo.labels_,cmap='rainbow')"
   ]
  },
  {
   "cell_type": "code",
   "execution_count": 85,
   "id": "a2b46894",
   "metadata": {},
   "outputs": [],
   "source": [
    "sample1_df=pd.read_csv(\"spiral.csv\")"
   ]
  },
  {
   "cell_type": "code",
   "execution_count": 86,
   "id": "c219d67d",
   "metadata": {},
   "outputs": [],
   "source": [
    "training1_points=sample1_df[[\"X\",\"Y\"]]\n",
    "training1_labels=sample1_df[\"Group\"]"
   ]
  },
  {
   "cell_type": "code",
   "execution_count": 87,
   "id": "54347a92",
   "metadata": {},
   "outputs": [],
   "source": [
    "agglo=AgglomerativeClustering(n_clusters=3).fit(training1_points)"
   ]
  },
  {
   "cell_type": "code",
   "execution_count": 88,
   "id": "5dedbf40",
   "metadata": {},
   "outputs": [
    {
     "data": {
      "image/png": "[encoded data removed]",
      "text/plain": [
       "<Figure size 432x288 with 1 Axes>"
      ]
     },
     "metadata": {
      "needs_background": "light"
     },
     "output_type": "display_data"
    }
   ],
   "source": [
    "plt.scatter(training1_points[\"X\"],training1_points[\"Y\"],c=agglo.labels_,cmap='rainbow')\n",
    "plt.show()"
   ]
  },
  {
   "cell_type": "code",
   "execution_count": null,
   "id": "c1085900",
   "metadata": {},
   "outputs": [],
   "source": []
  },
  {
   "cell_type": "markdown",
   "id": "6882592e",
   "metadata": {},
   "source": [
    "#### DBSCAN"
   ]
  },
  {
   "cell_type": "code",
   "execution_count": 89,
   "id": "70dac3cc",
   "metadata": {},
   "outputs": [],
   "source": [
    "from sklearn.cluster import KMeans\n",
    "from sklearn.cluster import AgglomerativeClustering\n",
    "from sklearn.cluster import DBSCAN\n",
    "import pandas as pd\n",
    "import matplotlib.pyplot as plt"
   ]
  },
  {
   "cell_type": "code",
   "execution_count": 132,
   "id": "6843ae33",
   "metadata": {},
   "outputs": [
    {
     "data": {
      "text/html": [
       "<div>\n",
       "<style scoped>\n",
       "    .dataframe tbody tr th:only-of-type {\n",
       "        vertical-align: middle;\n",
       "    }\n",
       "\n",
       "    .dataframe tbody tr th {\n",
       "        vertical-align: top;\n",
       "    }\n",
       "\n",
       "    .dataframe thead th {\n",
       "        text-align: right;\n",
       "    }\n",
       "</style>\n",
       "<table border=\"1\" class=\"dataframe\">\n",
       "  <thead>\n",
       "    <tr style=\"text-align: right;\">\n",
       "      <th></th>\n",
       "      <th>col1</th>\n",
       "      <th>col2</th>\n",
       "      <th>target</th>\n",
       "    </tr>\n",
       "  </thead>\n",
       "  <tbody>\n",
       "    <tr>\n",
       "      <th>0</th>\n",
       "      <td>9.802</td>\n",
       "      <td>10.132</td>\n",
       "      <td>1</td>\n",
       "    </tr>\n",
       "    <tr>\n",
       "      <th>1</th>\n",
       "      <td>10.350</td>\n",
       "      <td>9.768</td>\n",
       "      <td>1</td>\n",
       "    </tr>\n",
       "    <tr>\n",
       "      <th>2</th>\n",
       "      <td>10.098</td>\n",
       "      <td>9.988</td>\n",
       "      <td>1</td>\n",
       "    </tr>\n",
       "    <tr>\n",
       "      <th>3</th>\n",
       "      <td>9.730</td>\n",
       "      <td>9.910</td>\n",
       "      <td>1</td>\n",
       "    </tr>\n",
       "    <tr>\n",
       "      <th>4</th>\n",
       "      <td>9.754</td>\n",
       "      <td>10.430</td>\n",
       "      <td>1</td>\n",
       "    </tr>\n",
       "    <tr>\n",
       "      <th>...</th>\n",
       "      <td>...</td>\n",
       "      <td>...</td>\n",
       "      <td>...</td>\n",
       "    </tr>\n",
       "    <tr>\n",
       "      <th>595</th>\n",
       "      <td>14.198</td>\n",
       "      <td>4.804</td>\n",
       "      <td>15</td>\n",
       "    </tr>\n",
       "    <tr>\n",
       "      <th>596</th>\n",
       "      <td>14.320</td>\n",
       "      <td>4.590</td>\n",
       "      <td>15</td>\n",
       "    </tr>\n",
       "    <tr>\n",
       "      <th>597</th>\n",
       "      <td>13.636</td>\n",
       "      <td>5.218</td>\n",
       "      <td>15</td>\n",
       "    </tr>\n",
       "    <tr>\n",
       "      <th>598</th>\n",
       "      <td>14.410</td>\n",
       "      <td>4.656</td>\n",
       "      <td>15</td>\n",
       "    </tr>\n",
       "    <tr>\n",
       "      <th>599</th>\n",
       "      <td>14.020</td>\n",
       "      <td>5.614</td>\n",
       "      <td>15</td>\n",
       "    </tr>\n",
       "  </tbody>\n",
       "</table>\n",
       "<p>600 rows × 3 columns</p>\n",
       "</div>"
      ],
      "text/plain": [
       "       col1    col2  target\n",
       "0     9.802  10.132       1\n",
       "1    10.350   9.768       1\n",
       "2    10.098   9.988       1\n",
       "3     9.730   9.910       1\n",
       "4     9.754  10.430       1\n",
       "..      ...     ...     ...\n",
       "595  14.198   4.804      15\n",
       "596  14.320   4.590      15\n",
       "597  13.636   5.218      15\n",
       "598  14.410   4.656      15\n",
       "599  14.020   5.614      15\n",
       "\n",
       "[600 rows x 3 columns]"
      ]
     },
     "execution_count": 132,
     "metadata": {},
     "output_type": "execute_result"
    }
   ],
   "source": [
    "sample_df=pd.read_csv(\"r15.csv\")\n",
    "sample_df"
   ]
  },
  {
   "cell_type": "code",
   "execution_count": 112,
   "id": "e1e8b2d2",
   "metadata": {},
   "outputs": [
    {
     "data": {
      "text/plain": [
       "0       1\n",
       "1       1\n",
       "2       1\n",
       "3       1\n",
       "4       1\n",
       "       ..\n",
       "595    15\n",
       "596    15\n",
       "597    15\n",
       "598    15\n",
       "599    15\n",
       "Name: target, Length: 600, dtype: int64"
      ]
     },
     "execution_count": 112,
     "metadata": {},
     "output_type": "execute_result"
    }
   ],
   "source": [
    "training_points=sample_df[[\"col1\",\"col2\"]]\n",
    "training_labels=sample_df[\"target\"]\n",
    "training_labels"
   ]
  },
  {
   "cell_type": "code",
   "execution_count": 120,
   "id": "c3dcf90e",
   "metadata": {},
   "outputs": [],
   "source": [
    "eps=0.4\n",
    "min_samples=10"
   ]
  },
  {
   "cell_type": "code",
   "execution_count": 143,
   "id": "e1141357",
   "metadata": {},
   "outputs": [
    {
     "name": "stderr",
     "output_type": "stream",
     "text": [
      "c:\\users\\user\\appdata\\local\\programs\\python\\python39\\lib\\site-packages\\sklearn\\utils\\validation.py:70: FutureWarning: Pass min_samples=10 as keyword args. From version 1.0 (renaming of 0.25) passing these as positional arguments will result in an error\n",
      "  warnings.warn(f\"Pass {args_msg} as keyword args. From version \"\n"
     ]
    },
    {
     "data": {
      "text/plain": [
       "DBSCAN(eps=0.4, min_samples=10)"
      ]
     },
     "execution_count": 143,
     "metadata": {},
     "output_type": "execute_result"
    }
   ],
   "source": [
    "dbscan=DBSCAN(eps,min_samples)\n",
    "dbscan.fit(training_points)"
   ]
  },
  {
   "cell_type": "code",
   "execution_count": 144,
   "id": "e1c145a0",
   "metadata": {
    "scrolled": true
   },
   "outputs": [
    {
     "data": {
      "image/png": "[encoded data removed]",
      "text/plain": [
       "<Figure size 432x288 with 1 Axes>"
      ]
     },
     "metadata": {
      "needs_background": "light"
     },
     "output_type": "display_data"
    }
   ],
   "source": [
    "plt.scatter(training_points[\"col1\"],training_points[\"col2\"],c=dbscan.labels_,cmap='rainbow')\n",
    "plt.show()"
   ]
  },
  {
   "cell_type": "code",
   "execution_count": 124,
   "id": "473d2dfd",
   "metadata": {
    "scrolled": false
   },
   "outputs": [
    {
     "data": {
      "text/plain": [
       "array([ 0,  0,  0,  0,  0,  0,  0,  0,  0,  0,  0,  0,  0,  0,  0,  0,  0,\n",
       "        0,  0,  0,  0,  0,  0, -1,  0,  0, -1,  0,  0,  0,  0,  0,  0,  0,\n",
       "       -1,  0,  0,  0,  0, -1,  1,  1,  1,  1,  1,  1,  1,  1,  1,  1,  1,\n",
       "       -1,  1,  1,  1,  1,  1,  1,  1,  1,  1,  1,  1,  1,  1, -1,  1,  1,\n",
       "       -1,  1,  1,  1,  1,  1,  1,  1,  1,  1,  1,  1,  2,  2,  2,  2,  2,\n",
       "        2,  2,  2,  2,  2,  2,  2,  2,  2,  2,  2,  2,  2,  2,  2,  2,  2,\n",
       "        2,  2,  2,  2,  2,  2,  2,  2,  2, -1,  2,  2,  2,  2,  2,  2,  2,\n",
       "        2,  3,  3,  3,  3,  3,  3, -1,  2,  3,  3,  3,  3,  3,  3,  3,  3,\n",
       "        3,  3,  3,  3,  3,  3,  3,  3,  3,  3,  3,  3,  3,  3,  3,  3,  3,\n",
       "        3,  3,  3,  3,  3,  3,  3,  4,  4,  4,  4,  4,  4,  4,  4,  4,  4,\n",
       "        4,  4,  4,  4,  4,  4,  4,  4,  4,  4,  4,  4,  4, -1,  4,  4,  4,\n",
       "        4,  4,  4,  4,  4,  4,  4,  4,  4,  4,  4,  4,  4,  5,  5,  5,  5,\n",
       "        5, -1,  5, -1,  5,  5,  5,  5,  5,  5,  5,  5,  5,  5,  5,  5,  5,\n",
       "        5,  5,  5,  5,  5,  5,  5,  5,  5,  5,  5,  5,  5,  5,  5,  5,  5,\n",
       "        5,  5,  6,  6,  6,  6,  6, -1,  6,  6,  6,  6,  6,  6,  6,  6,  6,\n",
       "        6,  6,  6,  6,  6,  6,  6,  6,  6,  6,  6,  6,  6,  6,  6,  6,  6,\n",
       "        6, -1,  6,  6,  6,  6,  6,  6,  7,  7, -1,  7,  7,  7, -1,  7,  7,\n",
       "        7,  7,  7,  7,  7,  7, -1,  7,  7,  7,  7,  7,  7,  7,  7,  7,  7,\n",
       "        7,  7,  7,  7,  7,  7,  7,  7,  7,  7, -1,  7,  7,  7,  8,  8,  8,\n",
       "        8,  8,  8,  8,  8,  8,  8,  8,  8, -1,  8,  8,  8,  8, -1,  8,  8,\n",
       "        8, -1,  8,  8,  8,  8,  8,  8,  8,  8,  8,  8,  8,  8,  8,  8,  8,\n",
       "        8,  8,  8,  9,  9,  9,  9,  9,  9,  9,  9,  9,  9,  9,  9,  9,  9,\n",
       "        9,  9,  9,  9,  9,  9,  9,  9,  9,  9,  9,  9,  9, -1,  9,  9,  9,\n",
       "        9,  9,  9,  9,  9,  9,  9,  9,  9, 10, 10, 10, 10, 10, 10, 10, 10,\n",
       "       10, 10, 10, 10, 10, 10, 10, 10, 10, 10, 10, 10, 10, 10, 10, 10, 10,\n",
       "       10, 10, 10, 10, 10, 10, 10, 10, 10, 10, 10, 10, 10, 10, 10, 11, 11,\n",
       "       11, 11, 11, 11, 11, 11, 11, 11, 11, 11, 11, 11, 11, 11, 11, 11, 11,\n",
       "       11, 11, 11, 11, 11, 11, 11, 11, 11, 11, 11, 11, 11, -1, 11, 11, 11,\n",
       "       11, 11, 11, -1, 12, 12, 12, 12, 12, 12, 12, 12, 12, 12, 12, 12, 12,\n",
       "       12, 12, 12, 12, 12, 12, 12, 12, 12, 12, 12, 12, -1, 12, 12, 12, 12,\n",
       "       12, 12, 12, 12, 12, 12, 12, 12, 12, 12, 13, 13, 13, 13, 13, 13, 13,\n",
       "       13, 13, 13, 13, 13, 13, 13, 13, 13, 13, 13, 13, 13, 13, 13, 13, 13,\n",
       "       13, 13, 13, 13, 13, 13, -1, 13, 13, 13, 13, 13, 13, 13, 13, 13, -1,\n",
       "       14, 14, 14, 14, 14, 14, 14, 14, -1, 14, 14, 14, 14, 14, 14, 14, 14,\n",
       "       14, -1, 14, 14, 14, 14, 14, 14, -1, 14, 14, -1, 14, 14, 14, 14, 14,\n",
       "       14, 14, 14, 14, 14], dtype=int64)"
      ]
     },
     "execution_count": 124,
     "metadata": {},
     "output_type": "execute_result"
    }
   ],
   "source": [
    "dbscan.labels_"
   ]
  },
  {
   "cell_type": "code",
   "execution_count": null,
   "id": "1498451e",
   "metadata": {},
   "outputs": [],
   "source": []
  },
  {
   "cell_type": "code",
   "execution_count": 131,
   "id": "6842406c",
   "metadata": {},
   "outputs": [
    {
     "data": {
      "text/html": [
       "<div>\n",
       "<style scoped>\n",
       "    .dataframe tbody tr th:only-of-type {\n",
       "        vertical-align: middle;\n",
       "    }\n",
       "\n",
       "    .dataframe tbody tr th {\n",
       "        vertical-align: top;\n",
       "    }\n",
       "\n",
       "    .dataframe thead th {\n",
       "        text-align: right;\n",
       "    }\n",
       "</style>\n",
       "<table border=\"1\" class=\"dataframe\">\n",
       "  <thead>\n",
       "    <tr style=\"text-align: right;\">\n",
       "      <th></th>\n",
       "      <th>X</th>\n",
       "      <th>Y</th>\n",
       "      <th>Group</th>\n",
       "    </tr>\n",
       "  </thead>\n",
       "  <tbody>\n",
       "    <tr>\n",
       "      <th>0</th>\n",
       "      <td>31.15</td>\n",
       "      <td>7.30</td>\n",
       "      <td>3</td>\n",
       "    </tr>\n",
       "    <tr>\n",
       "      <th>1</th>\n",
       "      <td>30.45</td>\n",
       "      <td>6.65</td>\n",
       "      <td>3</td>\n",
       "    </tr>\n",
       "    <tr>\n",
       "      <th>2</th>\n",
       "      <td>29.70</td>\n",
       "      <td>6.00</td>\n",
       "      <td>3</td>\n",
       "    </tr>\n",
       "    <tr>\n",
       "      <th>3</th>\n",
       "      <td>28.90</td>\n",
       "      <td>5.55</td>\n",
       "      <td>3</td>\n",
       "    </tr>\n",
       "    <tr>\n",
       "      <th>4</th>\n",
       "      <td>28.05</td>\n",
       "      <td>5.00</td>\n",
       "      <td>3</td>\n",
       "    </tr>\n",
       "    <tr>\n",
       "      <th>...</th>\n",
       "      <td>...</td>\n",
       "      <td>...</td>\n",
       "      <td>...</td>\n",
       "    </tr>\n",
       "    <tr>\n",
       "      <th>306</th>\n",
       "      <td>15.75</td>\n",
       "      <td>13.85</td>\n",
       "      <td>2</td>\n",
       "    </tr>\n",
       "    <tr>\n",
       "      <th>307</th>\n",
       "      <td>15.65</td>\n",
       "      <td>14.05</td>\n",
       "      <td>2</td>\n",
       "    </tr>\n",
       "    <tr>\n",
       "      <th>308</th>\n",
       "      <td>15.65</td>\n",
       "      <td>14.25</td>\n",
       "      <td>2</td>\n",
       "    </tr>\n",
       "    <tr>\n",
       "      <th>309</th>\n",
       "      <td>15.65</td>\n",
       "      <td>14.50</td>\n",
       "      <td>2</td>\n",
       "    </tr>\n",
       "    <tr>\n",
       "      <th>310</th>\n",
       "      <td>15.65</td>\n",
       "      <td>14.60</td>\n",
       "      <td>2</td>\n",
       "    </tr>\n",
       "  </tbody>\n",
       "</table>\n",
       "<p>311 rows × 3 columns</p>\n",
       "</div>"
      ],
      "text/plain": [
       "         X      Y  Group\n",
       "0    31.15   7.30      3\n",
       "1    30.45   6.65      3\n",
       "2    29.70   6.00      3\n",
       "3    28.90   5.55      3\n",
       "4    28.05   5.00      3\n",
       "..     ...    ...    ...\n",
       "306  15.75  13.85      2\n",
       "307  15.65  14.05      2\n",
       "308  15.65  14.25      2\n",
       "309  15.65  14.50      2\n",
       "310  15.65  14.60      2\n",
       "\n",
       "[311 rows x 3 columns]"
      ]
     },
     "execution_count": 131,
     "metadata": {},
     "output_type": "execute_result"
    }
   ],
   "source": [
    "sample1_df=pd.read_csv(\"spiral.csv\")\n",
    "sample1_df"
   ]
  },
  {
   "cell_type": "code",
   "execution_count": 127,
   "id": "4172806b",
   "metadata": {},
   "outputs": [],
   "source": [
    "training1_points=sample1_df[[\"X\",\"Y\"]]\n",
    "training1_labels=sample1_df[\"Group\"]"
   ]
  },
  {
   "cell_type": "code",
   "execution_count": 139,
   "id": "d44a35a8",
   "metadata": {},
   "outputs": [
    {
     "name": "stderr",
     "output_type": "stream",
     "text": [
      "c:\\users\\user\\appdata\\local\\programs\\python\\python39\\lib\\site-packages\\sklearn\\utils\\validation.py:70: FutureWarning: Pass min_samples=10 as keyword args. From version 1.0 (renaming of 0.25) passing these as positional arguments will result in an error\n",
      "  warnings.warn(f\"Pass {args_msg} as keyword args. From version \"\n"
     ]
    },
    {
     "data": {
      "text/plain": [
       "DBSCAN(eps=0.4, min_samples=10)"
      ]
     },
     "execution_count": 139,
     "metadata": {},
     "output_type": "execute_result"
    }
   ],
   "source": [
    "eps=0.4\n",
    "min_samples=10\n",
    "dbscan=DBSCAN(eps,min_samples)\n",
    "dbscan.fit(training1_points)"
   ]
  },
  {
   "cell_type": "code",
   "execution_count": 140,
   "id": "aede44cc",
   "metadata": {
    "scrolled": true
   },
   "outputs": [
    {
     "data": {
      "image/png": "[encoded data removed]",
      "text/plain": [
       "<Figure size 432x288 with 1 Axes>"
      ]
     },
     "metadata": {
      "needs_background": "light"
     },
     "output_type": "display_data"
    }
   ],
   "source": [
    "plt.scatter(training1_points[\"X\"],training1_points[\"Y\"],c=dbscan.labels_,cmap='rainbow')\n",
    "plt.show()"
   ]
  },
  {
   "cell_type": "markdown",
   "id": "e484f185",
   "metadata": {},
   "source": [
    "#### 조정랜드 지수"
   ]
  },
  {
   "cell_type": "code",
   "execution_count": 133,
   "id": "570eba6b",
   "metadata": {},
   "outputs": [],
   "source": [
    "from sklearn.metrics.cluster import adjusted_rand_score"
   ]
  },
  {
   "cell_type": "code",
   "execution_count": 134,
   "id": "0a1fddc1",
   "metadata": {},
   "outputs": [
    {
     "data": {
      "text/html": [
       "<div>\n",
       "<style scoped>\n",
       "    .dataframe tbody tr th:only-of-type {\n",
       "        vertical-align: middle;\n",
       "    }\n",
       "\n",
       "    .dataframe tbody tr th {\n",
       "        vertical-align: top;\n",
       "    }\n",
       "\n",
       "    .dataframe thead th {\n",
       "        text-align: right;\n",
       "    }\n",
       "</style>\n",
       "<table border=\"1\" class=\"dataframe\">\n",
       "  <thead>\n",
       "    <tr style=\"text-align: right;\">\n",
       "      <th></th>\n",
       "      <th>col1</th>\n",
       "      <th>col2</th>\n",
       "      <th>target</th>\n",
       "    </tr>\n",
       "  </thead>\n",
       "  <tbody>\n",
       "    <tr>\n",
       "      <th>0</th>\n",
       "      <td>9.802</td>\n",
       "      <td>10.132</td>\n",
       "      <td>1</td>\n",
       "    </tr>\n",
       "    <tr>\n",
       "      <th>1</th>\n",
       "      <td>10.350</td>\n",
       "      <td>9.768</td>\n",
       "      <td>1</td>\n",
       "    </tr>\n",
       "    <tr>\n",
       "      <th>2</th>\n",
       "      <td>10.098</td>\n",
       "      <td>9.988</td>\n",
       "      <td>1</td>\n",
       "    </tr>\n",
       "    <tr>\n",
       "      <th>3</th>\n",
       "      <td>9.730</td>\n",
       "      <td>9.910</td>\n",
       "      <td>1</td>\n",
       "    </tr>\n",
       "    <tr>\n",
       "      <th>4</th>\n",
       "      <td>9.754</td>\n",
       "      <td>10.430</td>\n",
       "      <td>1</td>\n",
       "    </tr>\n",
       "    <tr>\n",
       "      <th>...</th>\n",
       "      <td>...</td>\n",
       "      <td>...</td>\n",
       "      <td>...</td>\n",
       "    </tr>\n",
       "    <tr>\n",
       "      <th>595</th>\n",
       "      <td>14.198</td>\n",
       "      <td>4.804</td>\n",
       "      <td>15</td>\n",
       "    </tr>\n",
       "    <tr>\n",
       "      <th>596</th>\n",
       "      <td>14.320</td>\n",
       "      <td>4.590</td>\n",
       "      <td>15</td>\n",
       "    </tr>\n",
       "    <tr>\n",
       "      <th>597</th>\n",
       "      <td>13.636</td>\n",
       "      <td>5.218</td>\n",
       "      <td>15</td>\n",
       "    </tr>\n",
       "    <tr>\n",
       "      <th>598</th>\n",
       "      <td>14.410</td>\n",
       "      <td>4.656</td>\n",
       "      <td>15</td>\n",
       "    </tr>\n",
       "    <tr>\n",
       "      <th>599</th>\n",
       "      <td>14.020</td>\n",
       "      <td>5.614</td>\n",
       "      <td>15</td>\n",
       "    </tr>\n",
       "  </tbody>\n",
       "</table>\n",
       "<p>600 rows × 3 columns</p>\n",
       "</div>"
      ],
      "text/plain": [
       "       col1    col2  target\n",
       "0     9.802  10.132       1\n",
       "1    10.350   9.768       1\n",
       "2    10.098   9.988       1\n",
       "3     9.730   9.910       1\n",
       "4     9.754  10.430       1\n",
       "..      ...     ...     ...\n",
       "595  14.198   4.804      15\n",
       "596  14.320   4.590      15\n",
       "597  13.636   5.218      15\n",
       "598  14.410   4.656      15\n",
       "599  14.020   5.614      15\n",
       "\n",
       "[600 rows x 3 columns]"
      ]
     },
     "execution_count": 134,
     "metadata": {},
     "output_type": "execute_result"
    }
   ],
   "source": [
    "sample_df"
   ]
  },
  {
   "cell_type": "code",
   "execution_count": 136,
   "id": "ad054a6b",
   "metadata": {},
   "outputs": [],
   "source": [
    "kmeans=KMeans(n_clusters=15).fit(training_points)"
   ]
  },
  {
   "cell_type": "code",
   "execution_count": 138,
   "id": "abe38a68",
   "metadata": {},
   "outputs": [
    {
     "name": "stdout",
     "output_type": "stream",
     "text": [
      "0.9927781994136302\n"
     ]
    }
   ],
   "source": [
    "arc=adjusted_rand_score(training_labels,kmeans.labels_)\n",
    "print(arc)"
   ]
  },
  {
   "cell_type": "code",
   "execution_count": null,
   "id": "3c3cb4f9",
   "metadata": {},
   "outputs": [],
   "source": []
  },
  {
   "cell_type": "code",
   "execution_count": 146,
   "id": "0098425d",
   "metadata": {},
   "outputs": [
    {
     "name": "stderr",
     "output_type": "stream",
     "text": [
      "c:\\users\\user\\appdata\\local\\programs\\python\\python39\\lib\\site-packages\\sklearn\\utils\\validation.py:70: FutureWarning: Pass min_samples=2 as keyword args. From version 1.0 (renaming of 0.25) passing these as positional arguments will result in an error\n",
      "  warnings.warn(f\"Pass {args_msg} as keyword args. From version \"\n"
     ]
    },
    {
     "data": {
      "text/plain": [
       "DBSCAN(eps=3, min_samples=2)"
      ]
     },
     "execution_count": 146,
     "metadata": {},
     "output_type": "execute_result"
    }
   ],
   "source": [
    "eps=3\n",
    "min_samples=2\n",
    "dbscan=DBSCAN(eps,min_samples)\n",
    "dbscan.fit(training1_points)"
   ]
  },
  {
   "cell_type": "code",
   "execution_count": 149,
   "id": "e7ad5b5a",
   "metadata": {},
   "outputs": [
    {
     "name": "stdout",
     "output_type": "stream",
     "text": [
      "1.0\n"
     ]
    }
   ],
   "source": [
    "arc=adjusted_rand_score(training1_labels,dbscan.labels_)\n",
    "print(arc)"
   ]
  },
  {
   "cell_type": "code",
   "execution_count": 150,
   "id": "a542ac9f",
   "metadata": {},
   "outputs": [
    {
     "data": {
      "image/png": "[encoded data removed]",
      "text/plain": [
       "<Figure size 432x288 with 1 Axes>"
      ]
     },
     "metadata": {
      "needs_background": "light"
     },
     "output_type": "display_data"
    }
   ],
   "source": [
    "plt.scatter(training1_points[\"X\"],training1_points[\"Y\"],c=dbscan.labels_,cmap='rainbow')\n",
    "plt.show()"
   ]
  },
  {
   "cell_type": "code",
   "execution_count": null,
   "id": "f7966b42",
   "metadata": {},
   "outputs": [],
   "source": []
  },
  {
   "cell_type": "code",
   "execution_count": null,
   "id": "36eb6a58",
   "metadata": {},
   "outputs": [],
   "source": []
  },
  {
   "cell_type": "code",
   "execution_count": null,
   "id": "0cc8fc3d",
   "metadata": {},
   "outputs": [],
   "source": []
  },
  {
   "cell_type": "code",
   "execution_count": null,
   "id": "9965ea16",
   "metadata": {},
   "outputs": [],
   "source": []
  },
  {
   "cell_type": "code",
   "execution_count": null,
   "id": "ae5e3bd1",
   "metadata": {},
   "outputs": [],
   "source": []
  }
 ],
 "metadata": {
  "kernelspec": {
   "display_name": "Python 3",
   "language": "python",
   "name": "python3"
  },
  "language_info": {
   "codemirror_mode": {
    "name": "ipython",
    "version": 3
   },
   "file_extension": ".py",
   "mimetype": "text/x-python",
   "name": "python",
   "nbconvert_exporter": "python",
   "pygments_lexer": "ipython3",
   "version": "3.9.6"
  }
 },
 "nbformat": 4,
 "nbformat_minor": 5
}
