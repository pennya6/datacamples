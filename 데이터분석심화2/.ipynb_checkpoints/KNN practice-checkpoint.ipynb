{
 "cells": [
  {
   "cell_type": "markdown",
   "id": "66a76b81",
   "metadata": {},
   "source": [
    "## 2021-07-08 practice"
   ]
  },
  {
   "cell_type": "markdown",
   "id": "7734bf8a",
   "metadata": {},
   "source": [
    "### KNN"
   ]
  },
  {
   "cell_type": "code",
   "execution_count": 10,
   "id": "b519a0c0",
   "metadata": {},
   "outputs": [
    {
     "name": "stdout",
     "output_type": "stream",
     "text": [
      "[1]\n"
     ]
    }
   ],
   "source": [
    "from sklearn.neighbors import KNeighborsClassifier\n",
    "\n",
    "#k 즉 매개변수는 n_neighbors로 1\n",
    "classifier = KNeighborsClassifier(n_neighbors=1)\n",
    "\n",
    "\n",
    "#훈련데이터\n",
    "training_points=[\n",
    "    [0.5,0.2,0.1],\n",
    "    [0.9,0.7,0.3],\n",
    "    [0.4,0.5,0.7]\n",
    "]\n",
    "\n",
    "#label는 각 훈련 데이터에 대한 라벨들\n",
    "training_labels=[0,1,1]\n",
    "\n",
    "classifier.fit(training_points,training_labels)\n",
    "\n",
    "unknown_points=[\n",
    "    [0.2,0.1,0.7]\n",
    "]\n",
    "\n",
    "guesses=classifier.predict(unknown_points)\n",
    "\n",
    "print(guesses)"
   ]
  },
  {
   "cell_type": "markdown",
   "id": "b8cc051b",
   "metadata": {},
   "source": [
    "#### 키와 몸무게 예측"
   ]
  },
  {
   "cell_type": "code",
   "execution_count": 26,
   "id": "860a49cf",
   "metadata": {},
   "outputs": [
    {
     "name": "stdout",
     "output_type": "stream",
     "text": [
      "[0]\n"
     ]
    }
   ],
   "source": [
    "\n",
    "training_points=[\n",
    "    [158,58],\n",
    "    [158,59],\n",
    "    [158,63],\n",
    "    [160,59],\n",
    "    [160,60],\n",
    "    [163,60],\n",
    "    [163,61],\n",
    "    [160,64],\n",
    "    [163,64],\n",
    "    [165,61],\n",
    "    [165,62],\n",
    "    [165,65],\n",
    "    [168,62],\n",
    "    [168,63],\n",
    "    [168,66],\n",
    "    [170,63],\n",
    "    [170,64],\n",
    "    [170,68]\n",
    "]\n",
    "\n",
    "training_labels=[0,0,0,0,0,0,0,1,1,1,1,1,1,1,1,1,1,1]\n",
    "\n",
    "unknown_points=[\n",
    "    [161,61]\n",
    "]\n",
    "\n",
    "from sklearn.neighbors import KNeighborsClassifier\n",
    "\n",
    "classifier = KNeighborsClassifier(n_neighbors=3)\n",
    "classifier.fit(training_points,training_labels)\n",
    "guesses=classifier.predict(unknown_points)\n",
    "print(guesses)\n"
   ]
  },
  {
   "cell_type": "markdown",
   "id": "2192d0ad",
   "metadata": {},
   "source": [
    "#### 분류 모델 성능 평가"
   ]
  },
  {
   "cell_type": "code",
   "execution_count": 44,
   "id": "a0154d17",
   "metadata": {},
   "outputs": [
    {
     "name": "stdout",
     "output_type": "stream",
     "text": [
      "X_train:  [[160, 60], [158, 58], [170, 63], [168, 62], [165, 62], [168, 63], [165, 61], [158, 63], [170, 68], [160, 64], [163, 64], [158, 59], [163, 60], [168, 66]]\n",
      "X_test [[163, 61], [160, 59], [170, 64], [165, 65]]\n",
      "y_train [0, 0, 1, 1, 1, 1, 1, 0, 1, 1, 1, 0, 0, 1]\n",
      "y_test [0, 0, 1, 1]\n"
     ]
    }
   ],
   "source": [
    "#training_point을 20%의 test로 나누는 작업\n",
    "\n",
    "from sklearn.model_selection import train_test_split\n",
    "\n",
    "X_train, X_test,y_train,y_test=train_test_split(training_points,training_labels,test_size=0.2,random_state=4)\n",
    "\n",
    "from sklearn.neighbors import KNeighborsClassifier\n",
    "\n",
    "training_points=[\n",
    "    [158,58],\n",
    "    [158,59],\n",
    "    [158,63],\n",
    "    [160,59],\n",
    "    [160,60],\n",
    "    [163,60],\n",
    "    [163,61],\n",
    "    [160,64],\n",
    "    [163,64],\n",
    "    [165,61],\n",
    "    [165,62],\n",
    "    [165,65],\n",
    "    [168,62],\n",
    "    [168,63],\n",
    "    [168,66],\n",
    "    [170,63],\n",
    "    [170,64],\n",
    "    [170,68]\n",
    "]\n",
    "\n",
    "training_labels=[0,0,0,0,0,0,0,1,1,1,1,1,1,1,1,1,1,1]\n",
    "\n",
    "print(\"X_train: \",X_train)\n",
    "print(\"X_test\",X_test)\n",
    "print(\"y_train\",y_train)\n",
    "print(\"y_test\",y_test)"
   ]
  },
  {
   "cell_type": "code",
   "execution_count": 47,
   "id": "279fc6c5",
   "metadata": {},
   "outputs": [
    {
     "name": "stdout",
     "output_type": "stream",
     "text": [
      "[1 0 1 1]\n"
     ]
    }
   ],
   "source": [
    "classifier = KNeighborsClassifier(n_neighbors=3)\n",
    "classifier.fit(X_train,y_train)\n",
    "guesses=classifier.predict(X_test)\n",
    "print(guesses)"
   ]
  },
  {
   "cell_type": "markdown",
   "id": "1aeaca3a",
   "metadata": {},
   "source": [
    " #### confusion matrix"
   ]
  },
  {
   "cell_type": "code",
   "execution_count": 56,
   "id": "5953901b",
   "metadata": {},
   "outputs": [
    {
     "name": "stdout",
     "output_type": "stream",
     "text": [
      "confusion matrix\n",
      "[[1 1]\n",
      " [0 2]]\n"
     ]
    }
   ],
   "source": [
    "from sklearn.metrics import confusion_matrix\n",
    "from sklearn import metrics\n",
    "print(\"confusion matrix\")\n",
    "print(confusion_matrix(y_test,guesses))\n"
   ]
  },
  {
   "cell_type": "code",
   "execution_count": 72,
   "id": "7ffcaf5c",
   "metadata": {},
   "outputs": [
    {
     "name": "stdout",
     "output_type": "stream",
     "text": [
      "0.8771929824561403\n",
      "0.9342105263157895\n",
      "0.8875\n",
      "0.9102564102564101\n"
     ]
    }
   ],
   "source": [
    "print(metrics.accuracy_score(y_test,guesses))\n",
    "print(metrics.precision_score(y_test,guesses,average='binary'))\n",
    "print(metrics.recall_score(y_test,guesses,average='binary'))\n",
    "print(metrics.f1_score(y_test,guesses,average='binary'))"
   ]
  },
  {
   "cell_type": "markdown",
   "id": "88218843",
   "metadata": {},
   "source": [
    "#### confusion matrix practice"
   ]
  },
  {
   "cell_type": "code",
   "execution_count": 61,
   "id": "004f5f9d",
   "metadata": {},
   "outputs": [
    {
     "name": "stdout",
     "output_type": "stream",
     "text": [
      "filename :  c:\\users\\user\\appdata\\local\\programs\\python\\python39\\lib\\site-packages\\sklearn\\datasets\\data\\breast_cancer.csv\n",
      "descr :  .. _breast_cancer_dataset:\n",
      "\n",
      "Breast cancer wisconsin (diagnostic) dataset\n",
      "--------------------------------------------\n",
      "\n",
      "**Data Set Characteristics:**\n",
      "\n",
      "    :Number of Instances: 569\n",
      "\n",
      "    :Number of Attributes: 30 numeric, predictive attributes and the class\n",
      "\n",
      "    :Attribute Information:\n",
      "        - radius (mean of distances from center to points on the perimeter)\n",
      "        - texture (standard deviation of gray-scale values)\n",
      "        - perimeter\n",
      "        - area\n",
      "        - smoothness (local variation in radius lengths)\n",
      "        - compactness (perimeter^2 / area - 1.0)\n",
      "        - concavity (severity of concave portions of the contour)\n",
      "        - concave points (number of concave portions of the contour)\n",
      "        - symmetry\n",
      "        - fractal dimension (\"coastline approximation\" - 1)\n",
      "\n",
      "        The mean, standard error, and \"worst\" or largest (mean of the three\n",
      "        worst/largest values) of these features were computed for each image,\n",
      "        resulting in 30 features.  For instance, field 0 is Mean Radius, field\n",
      "        10 is Radius SE, field 20 is Worst Radius.\n",
      "\n",
      "        - class:\n",
      "                - WDBC-Malignant\n",
      "                - WDBC-Benign\n",
      "\n",
      "    :Summary Statistics:\n",
      "\n",
      "    ===================================== ====== ======\n",
      "                                           Min    Max\n",
      "    ===================================== ====== ======\n",
      "    radius (mean):                        6.981  28.11\n",
      "    texture (mean):                       9.71   39.28\n",
      "    perimeter (mean):                     43.79  188.5\n",
      "    area (mean):                          143.5  2501.0\n",
      "    smoothness (mean):                    0.053  0.163\n",
      "    compactness (mean):                   0.019  0.345\n",
      "    concavity (mean):                     0.0    0.427\n",
      "    concave points (mean):                0.0    0.201\n",
      "    symmetry (mean):                      0.106  0.304\n",
      "    fractal dimension (mean):             0.05   0.097\n",
      "    radius (standard error):              0.112  2.873\n",
      "    texture (standard error):             0.36   4.885\n",
      "    perimeter (standard error):           0.757  21.98\n",
      "    area (standard error):                6.802  542.2\n",
      "    smoothness (standard error):          0.002  0.031\n",
      "    compactness (standard error):         0.002  0.135\n",
      "    concavity (standard error):           0.0    0.396\n",
      "    concave points (standard error):      0.0    0.053\n",
      "    symmetry (standard error):            0.008  0.079\n",
      "    fractal dimension (standard error):   0.001  0.03\n",
      "    radius (worst):                       7.93   36.04\n",
      "    texture (worst):                      12.02  49.54\n",
      "    perimeter (worst):                    50.41  251.2\n",
      "    area (worst):                         185.2  4254.0\n",
      "    smoothness (worst):                   0.071  0.223\n",
      "    compactness (worst):                  0.027  1.058\n",
      "    concavity (worst):                    0.0    1.252\n",
      "    concave points (worst):               0.0    0.291\n",
      "    symmetry (worst):                     0.156  0.664\n",
      "    fractal dimension (worst):            0.055  0.208\n",
      "    ===================================== ====== ======\n",
      "\n",
      "    :Missing Attribute Values: None\n",
      "\n",
      "    :Class Distribution: 212 - Malignant, 357 - Benign\n",
      "\n",
      "    :Creator:  Dr. William H. Wolberg, W. Nick Street, Olvi L. Mangasarian\n",
      "\n",
      "    :Donor: Nick Street\n",
      "\n",
      "    :Date: November, 1995\n",
      "\n",
      "This is a copy of UCI ML Breast Cancer Wisconsin (Diagnostic) datasets.\n",
      "https://goo.gl/U2Uwz2\n",
      "\n",
      "Features are computed from a digitized image of a fine needle\n",
      "aspirate (FNA) of a breast mass.  They describe\n",
      "characteristics of the cell nuclei present in the image.\n",
      "\n",
      "Separating plane described above was obtained using\n",
      "Multisurface Method-Tree (MSM-T) [K. P. Bennett, \"Decision Tree\n",
      "Construction Via Linear Programming.\" Proceedings of the 4th\n",
      "Midwest Artificial Intelligence and Cognitive Science Society,\n",
      "pp. 97-101, 1992], a classification method which uses linear\n",
      "programming to construct a decision tree.  Relevant features\n",
      "were selected using an exhaustive search in the space of 1-4\n",
      "features and 1-3 separating planes.\n",
      "\n",
      "The actual linear program used to obtain the separating plane\n",
      "in the 3-dimensional space is that described in:\n",
      "[K. P. Bennett and O. L. Mangasarian: \"Robust Linear\n",
      "Programming Discrimination of Two Linearly Inseparable Sets\",\n",
      "Optimization Methods and Software 1, 1992, 23-34].\n",
      "\n",
      "This database is also available through the UW CS ftp server:\n",
      "\n",
      "ftp ftp.cs.wisc.edu\n",
      "cd math-prog/cpo-dataset/machine-learn/WDBC/\n",
      "\n",
      ".. topic:: References\n",
      "\n",
      "   - W.N. Street, W.H. Wolberg and O.L. Mangasarian. Nuclear feature extraction \n",
      "     for breast tumor diagnosis. IS&T/SPIE 1993 International Symposium on \n",
      "     Electronic Imaging: Science and Technology, volume 1905, pages 861-870,\n",
      "     San Jose, CA, 1993.\n",
      "   - O.L. Mangasarian, W.N. Street and W.H. Wolberg. Breast cancer diagnosis and \n",
      "     prognosis via linear programming. Operations Research, 43(4), pages 570-577, \n",
      "     July-August 1995.\n",
      "   - W.H. Wolberg, W.N. Street, and O.L. Mangasarian. Machine learning techniques\n",
      "     to diagnose breast cancer from fine-needle aspirates. Cancer Letters 77 (1994) \n",
      "     163-171.\n",
      "feature_names :  ['mean radius' 'mean texture' 'mean perimeter' 'mean area'\n",
      " 'mean smoothness' 'mean compactness' 'mean concavity'\n",
      " 'mean concave points' 'mean symmetry' 'mean fractal dimension'\n",
      " 'radius error' 'texture error' 'perimeter error' 'area error'\n",
      " 'smoothness error' 'compactness error' 'concavity error'\n",
      " 'concave points error' 'symmetry error' 'fractal dimension error'\n",
      " 'worst radius' 'worst texture' 'worst perimeter' 'worst area'\n",
      " 'worst smoothness' 'worst compactness' 'worst concavity'\n",
      " 'worst concave points' 'worst symmetry' 'worst fractal dimension']\n",
      "target_names :  ['malignant' 'benign']\n",
      "training_points :  [[1.799e+01 1.038e+01 1.228e+02 ... 2.654e-01 4.601e-01 1.189e-01]\n",
      " [2.057e+01 1.777e+01 1.329e+02 ... 1.860e-01 2.750e-01 8.902e-02]\n",
      " [1.969e+01 2.125e+01 1.300e+02 ... 2.430e-01 3.613e-01 8.758e-02]\n",
      " ...\n",
      " [1.660e+01 2.808e+01 1.083e+02 ... 1.418e-01 2.218e-01 7.820e-02]\n",
      " [2.060e+01 2.933e+01 1.401e+02 ... 2.650e-01 4.087e-01 1.240e-01]\n",
      " [7.760e+00 2.454e+01 4.792e+01 ... 0.000e+00 2.871e-01 7.039e-02]]\n",
      "training_labels :  [0 0 0 0 0 0 0 0 0 0 0 0 0 0 0 0 0 0 0 1 1 1 0 0 0 0 0 0 0 0 0 0 0 0 0 0 0\n",
      " 1 0 0 0 0 0 0 0 0 1 0 1 1 1 1 1 0 0 1 0 0 1 1 1 1 0 1 0 0 1 1 1 1 0 1 0 0\n",
      " 1 0 1 0 0 1 1 1 0 0 1 0 0 0 1 1 1 0 1 1 0 0 1 1 1 0 0 1 1 1 1 0 1 1 0 1 1\n",
      " 1 1 1 1 1 1 0 0 0 1 0 0 1 1 1 0 0 1 0 1 0 0 1 0 0 1 1 0 1 1 0 1 1 1 1 0 1\n",
      " 1 1 1 1 1 1 1 1 0 1 1 1 1 0 0 1 0 1 1 0 0 1 1 0 0 1 1 1 1 0 1 1 0 0 0 1 0\n",
      " 1 0 1 1 1 0 1 1 0 0 1 0 0 0 0 1 0 0 0 1 0 1 0 1 1 0 1 0 0 0 0 1 1 0 0 1 1\n",
      " 1 0 1 1 1 1 1 0 0 1 1 0 1 1 0 0 1 0 1 1 1 1 0 1 1 1 1 1 0 1 0 0 0 0 0 0 0\n",
      " 0 0 0 0 0 0 0 1 1 1 1 1 1 0 1 0 1 1 0 1 1 0 1 0 0 1 1 1 1 1 1 1 1 1 1 1 1\n",
      " 1 0 1 1 0 1 0 1 1 1 1 1 1 1 1 1 1 1 1 1 1 0 1 1 1 0 1 0 1 1 1 1 0 0 0 1 1\n",
      " 1 1 0 1 0 1 0 1 1 1 0 1 1 1 1 1 1 1 0 0 0 1 1 1 1 1 1 1 1 1 1 1 0 0 1 0 0\n",
      " 0 1 0 0 1 1 1 1 1 0 1 1 1 1 1 0 1 1 1 0 1 1 0 0 1 1 1 1 1 1 0 1 1 1 1 1 1\n",
      " 1 0 1 1 1 1 1 0 1 1 0 1 1 1 1 1 1 1 1 1 1 1 1 0 1 0 0 1 0 1 1 1 1 1 0 1 1\n",
      " 0 1 0 1 1 0 1 0 1 1 1 1 1 1 1 1 0 0 1 1 1 1 1 1 0 1 1 1 1 1 1 1 1 1 1 0 1\n",
      " 1 1 1 1 1 1 0 1 0 1 1 0 1 1 1 1 1 0 0 1 0 1 0 1 1 1 1 1 0 1 1 0 1 0 1 0 0\n",
      " 1 1 1 0 1 1 1 1 1 1 1 1 1 1 1 0 1 0 0 1 1 1 1 1 1 1 1 1 1 1 1 1 1 1 1 1 1\n",
      " 1 1 1 1 1 1 1 0 0 0 0 0 0 1]\n"
     ]
    }
   ],
   "source": [
    "#데이터 불러오기\n",
    "from sklearn.datasets import load_breast_cancer\n",
    "#load_boston : 보스톤 집값 데이터\n",
    "#load_iris : 아이리스 붓꽃 데이터\n",
    "#load_wine : 와인데이터\n",
    "\n",
    "#어떻게 구성되어있는지 모름\n",
    "cancer=load_breast_cancer()\n",
    "\n",
    "#파일에 대해서 정보 얻기\n",
    "filename=cancer.filename\n",
    "descr=cancer.DESCR\n",
    "feature_names=cancer.feature_names\n",
    "target_names=cancer.target_names\n",
    "training_points=cancer.data\n",
    "training_labels=cancer.target\n",
    "\n",
    "print(\"filename : \",filename)\n",
    "print(\"descr : \",descr)\n",
    "print(\"feature_names : \",feature_names)\n",
    "print(\"target_names : \",target_names)\n",
    "print(\"training_points : \",training_points)\n",
    "print(\"training_labels : \",training_labels)\n",
    "\n"
   ]
  },
  {
   "cell_type": "code",
   "execution_count": 71,
   "id": "d8f3d3e8",
   "metadata": {},
   "outputs": [
    {
     "name": "stdout",
     "output_type": "stream",
     "text": [
      "[1 1 0 0 0 0 1 1 1 1 0 1 1 1 1 1 1 1 1 1 1 1 0 1 1 0 1 1 1 1 1 1 1 0 1 0 1\n",
      " 0 0 0 1 1 0 1 1 1 0 0 1 1 0 1 1 1 1 1 0 1 1 0 0 1 1 1 1 1 0 1 0 0 0 1 1 0\n",
      " 1 0 0 0 1 1 1 0 0 0 1 1 1 1 0 1 1 0 1 0 0 1 1 1 1 1 1 0 0 1 1 1 1 1 1 0 1\n",
      " 1 0 1]\n"
     ]
    }
   ],
   "source": [
    "from sklearn.model_selection import train_test_split\n",
    "\n",
    "X_train,X_test,y_train,y_test=train_test_split(training_points,training_labels,test_size=0.2,random_state=4)\n",
    "\n",
    "from sklearn.neighbors import KNeighborsClassifier\n",
    "\n",
    "classifier = KNeighborsClassifier(n_neighbors=5)\n",
    "classifier.fit(X_train,y_train)\n",
    "guesses=classifier.predict(X_test)\n",
    "print(guesses)"
   ]
  },
  {
   "cell_type": "code",
   "execution_count": 68,
   "id": "e8a65ba0",
   "metadata": {},
   "outputs": [
    {
     "name": "stdout",
     "output_type": "stream",
     "text": [
      "[[29  5]\n",
      " [ 9 71]]\n"
     ]
    }
   ],
   "source": [
    "#confusion_matrix의 수가 나오는것 \n",
    "\n",
    "from sklearn.metrics import confusion_matrix\n",
    "print(confusion_matrix(y_test,guesses))"
   ]
  },
  {
   "cell_type": "code",
   "execution_count": 70,
   "id": "32a66410",
   "metadata": {},
   "outputs": [
    {
     "name": "stdout",
     "output_type": "stream",
     "text": [
      "0.8771929824561403\n",
      "0.9342105263157895\n",
      "0.8875\n",
      "0.9102564102564101\n"
     ]
    }
   ],
   "source": [
    "#나온 confusion matrix의 정확도, 예측도, 회율도 등을 구하는 것이다\n",
    "print(metrics.accuracy_score(y_test,guesses))\n",
    "print(metrics.precision_score(y_test,guesses,average='binary'))\n",
    "print(metrics.recall_score(y_test,guesses,average='binary'))\n",
    "print(metrics.f1_score(y_test,guesses,average='binary'))"
   ]
  },
  {
   "cell_type": "markdown",
   "id": "6ec9021e",
   "metadata": {},
   "source": [
    "#### 분류모델의 성능향상"
   ]
  },
  {
   "cell_type": "code",
   "execution_count": 1,
   "id": "cc297a19",
   "metadata": {},
   "outputs": [],
   "source": [
    "import pandas as pd\n",
    "import numpy as np\n",
    "import matplotlib.pyplot as plt\n",
    "\n",
    "from sklearn.model_selection import train_test_split\n",
    "from sklearn.neighbors import KNeighborsClassifier\n",
    "from sklearn.metrics import confusion_matrix\n",
    "from sklearn import metrics\n",
    "from sklearn.preprocessing import LabelEncoder"
   ]
  },
  {
   "cell_type": "code",
   "execution_count": 2,
   "id": "0ea0af9f",
   "metadata": {},
   "outputs": [
    {
     "data": {
      "text/html": [
       "<div>\n",
       "<style scoped>\n",
       "    .dataframe tbody tr th:only-of-type {\n",
       "        vertical-align: middle;\n",
       "    }\n",
       "\n",
       "    .dataframe tbody tr th {\n",
       "        vertical-align: top;\n",
       "    }\n",
       "\n",
       "    .dataframe thead th {\n",
       "        text-align: right;\n",
       "    }\n",
       "</style>\n",
       "<table border=\"1\" class=\"dataframe\">\n",
       "  <thead>\n",
       "    <tr style=\"text-align: right;\">\n",
       "      <th></th>\n",
       "      <th>Unnamed: 0</th>\n",
       "      <th>Age</th>\n",
       "      <th>Sex</th>\n",
       "      <th>ChestPain</th>\n",
       "      <th>RestBP</th>\n",
       "      <th>Chol</th>\n",
       "      <th>Fbs</th>\n",
       "      <th>RestECG</th>\n",
       "      <th>MaxHR</th>\n",
       "      <th>ExAng</th>\n",
       "      <th>Oldpeak</th>\n",
       "      <th>Slope</th>\n",
       "      <th>Ca</th>\n",
       "      <th>Thal</th>\n",
       "      <th>AHD</th>\n",
       "    </tr>\n",
       "  </thead>\n",
       "  <tbody>\n",
       "    <tr>\n",
       "      <th>0</th>\n",
       "      <td>1</td>\n",
       "      <td>63</td>\n",
       "      <td>1</td>\n",
       "      <td>typical</td>\n",
       "      <td>145</td>\n",
       "      <td>233</td>\n",
       "      <td>1</td>\n",
       "      <td>2</td>\n",
       "      <td>150</td>\n",
       "      <td>0</td>\n",
       "      <td>2.3</td>\n",
       "      <td>3</td>\n",
       "      <td>0.0</td>\n",
       "      <td>fixed</td>\n",
       "      <td>No</td>\n",
       "    </tr>\n",
       "    <tr>\n",
       "      <th>1</th>\n",
       "      <td>2</td>\n",
       "      <td>67</td>\n",
       "      <td>1</td>\n",
       "      <td>asymptomatic</td>\n",
       "      <td>160</td>\n",
       "      <td>286</td>\n",
       "      <td>0</td>\n",
       "      <td>2</td>\n",
       "      <td>108</td>\n",
       "      <td>1</td>\n",
       "      <td>1.5</td>\n",
       "      <td>2</td>\n",
       "      <td>3.0</td>\n",
       "      <td>normal</td>\n",
       "      <td>Yes</td>\n",
       "    </tr>\n",
       "    <tr>\n",
       "      <th>2</th>\n",
       "      <td>3</td>\n",
       "      <td>67</td>\n",
       "      <td>1</td>\n",
       "      <td>asymptomatic</td>\n",
       "      <td>120</td>\n",
       "      <td>229</td>\n",
       "      <td>0</td>\n",
       "      <td>2</td>\n",
       "      <td>129</td>\n",
       "      <td>1</td>\n",
       "      <td>2.6</td>\n",
       "      <td>2</td>\n",
       "      <td>2.0</td>\n",
       "      <td>reversable</td>\n",
       "      <td>Yes</td>\n",
       "    </tr>\n",
       "    <tr>\n",
       "      <th>3</th>\n",
       "      <td>4</td>\n",
       "      <td>37</td>\n",
       "      <td>1</td>\n",
       "      <td>nonanginal</td>\n",
       "      <td>130</td>\n",
       "      <td>250</td>\n",
       "      <td>0</td>\n",
       "      <td>0</td>\n",
       "      <td>187</td>\n",
       "      <td>0</td>\n",
       "      <td>3.5</td>\n",
       "      <td>3</td>\n",
       "      <td>0.0</td>\n",
       "      <td>normal</td>\n",
       "      <td>No</td>\n",
       "    </tr>\n",
       "    <tr>\n",
       "      <th>4</th>\n",
       "      <td>5</td>\n",
       "      <td>41</td>\n",
       "      <td>0</td>\n",
       "      <td>nontypical</td>\n",
       "      <td>130</td>\n",
       "      <td>204</td>\n",
       "      <td>0</td>\n",
       "      <td>2</td>\n",
       "      <td>172</td>\n",
       "      <td>0</td>\n",
       "      <td>1.4</td>\n",
       "      <td>1</td>\n",
       "      <td>0.0</td>\n",
       "      <td>normal</td>\n",
       "      <td>No</td>\n",
       "    </tr>\n",
       "    <tr>\n",
       "      <th>...</th>\n",
       "      <td>...</td>\n",
       "      <td>...</td>\n",
       "      <td>...</td>\n",
       "      <td>...</td>\n",
       "      <td>...</td>\n",
       "      <td>...</td>\n",
       "      <td>...</td>\n",
       "      <td>...</td>\n",
       "      <td>...</td>\n",
       "      <td>...</td>\n",
       "      <td>...</td>\n",
       "      <td>...</td>\n",
       "      <td>...</td>\n",
       "      <td>...</td>\n",
       "      <td>...</td>\n",
       "    </tr>\n",
       "    <tr>\n",
       "      <th>298</th>\n",
       "      <td>299</td>\n",
       "      <td>45</td>\n",
       "      <td>1</td>\n",
       "      <td>typical</td>\n",
       "      <td>110</td>\n",
       "      <td>264</td>\n",
       "      <td>0</td>\n",
       "      <td>0</td>\n",
       "      <td>132</td>\n",
       "      <td>0</td>\n",
       "      <td>1.2</td>\n",
       "      <td>2</td>\n",
       "      <td>0.0</td>\n",
       "      <td>reversable</td>\n",
       "      <td>Yes</td>\n",
       "    </tr>\n",
       "    <tr>\n",
       "      <th>299</th>\n",
       "      <td>300</td>\n",
       "      <td>68</td>\n",
       "      <td>1</td>\n",
       "      <td>asymptomatic</td>\n",
       "      <td>144</td>\n",
       "      <td>193</td>\n",
       "      <td>1</td>\n",
       "      <td>0</td>\n",
       "      <td>141</td>\n",
       "      <td>0</td>\n",
       "      <td>3.4</td>\n",
       "      <td>2</td>\n",
       "      <td>2.0</td>\n",
       "      <td>reversable</td>\n",
       "      <td>Yes</td>\n",
       "    </tr>\n",
       "    <tr>\n",
       "      <th>300</th>\n",
       "      <td>301</td>\n",
       "      <td>57</td>\n",
       "      <td>1</td>\n",
       "      <td>asymptomatic</td>\n",
       "      <td>130</td>\n",
       "      <td>131</td>\n",
       "      <td>0</td>\n",
       "      <td>0</td>\n",
       "      <td>115</td>\n",
       "      <td>1</td>\n",
       "      <td>1.2</td>\n",
       "      <td>2</td>\n",
       "      <td>1.0</td>\n",
       "      <td>reversable</td>\n",
       "      <td>Yes</td>\n",
       "    </tr>\n",
       "    <tr>\n",
       "      <th>301</th>\n",
       "      <td>302</td>\n",
       "      <td>57</td>\n",
       "      <td>0</td>\n",
       "      <td>nontypical</td>\n",
       "      <td>130</td>\n",
       "      <td>236</td>\n",
       "      <td>0</td>\n",
       "      <td>2</td>\n",
       "      <td>174</td>\n",
       "      <td>0</td>\n",
       "      <td>0.0</td>\n",
       "      <td>2</td>\n",
       "      <td>1.0</td>\n",
       "      <td>normal</td>\n",
       "      <td>Yes</td>\n",
       "    </tr>\n",
       "    <tr>\n",
       "      <th>302</th>\n",
       "      <td>303</td>\n",
       "      <td>38</td>\n",
       "      <td>1</td>\n",
       "      <td>nonanginal</td>\n",
       "      <td>138</td>\n",
       "      <td>175</td>\n",
       "      <td>0</td>\n",
       "      <td>0</td>\n",
       "      <td>173</td>\n",
       "      <td>0</td>\n",
       "      <td>0.0</td>\n",
       "      <td>1</td>\n",
       "      <td>NaN</td>\n",
       "      <td>normal</td>\n",
       "      <td>No</td>\n",
       "    </tr>\n",
       "  </tbody>\n",
       "</table>\n",
       "<p>303 rows × 15 columns</p>\n",
       "</div>"
      ],
      "text/plain": [
       "     Unnamed: 0  Age  Sex     ChestPain  RestBP  Chol  Fbs  RestECG  MaxHR  \\\n",
       "0             1   63    1       typical     145   233    1        2    150   \n",
       "1             2   67    1  asymptomatic     160   286    0        2    108   \n",
       "2             3   67    1  asymptomatic     120   229    0        2    129   \n",
       "3             4   37    1    nonanginal     130   250    0        0    187   \n",
       "4             5   41    0    nontypical     130   204    0        2    172   \n",
       "..          ...  ...  ...           ...     ...   ...  ...      ...    ...   \n",
       "298         299   45    1       typical     110   264    0        0    132   \n",
       "299         300   68    1  asymptomatic     144   193    1        0    141   \n",
       "300         301   57    1  asymptomatic     130   131    0        0    115   \n",
       "301         302   57    0    nontypical     130   236    0        2    174   \n",
       "302         303   38    1    nonanginal     138   175    0        0    173   \n",
       "\n",
       "     ExAng  Oldpeak  Slope   Ca        Thal  AHD  \n",
       "0        0      2.3      3  0.0       fixed   No  \n",
       "1        1      1.5      2  3.0      normal  Yes  \n",
       "2        1      2.6      2  2.0  reversable  Yes  \n",
       "3        0      3.5      3  0.0      normal   No  \n",
       "4        0      1.4      1  0.0      normal   No  \n",
       "..     ...      ...    ...  ...         ...  ...  \n",
       "298      0      1.2      2  0.0  reversable  Yes  \n",
       "299      0      3.4      2  2.0  reversable  Yes  \n",
       "300      1      1.2      2  1.0  reversable  Yes  \n",
       "301      0      0.0      2  1.0      normal  Yes  \n",
       "302      0      0.0      1  NaN      normal   No  \n",
       "\n",
       "[303 rows x 15 columns]"
      ]
     },
     "execution_count": 2,
     "metadata": {},
     "output_type": "execute_result"
    }
   ],
   "source": [
    "df = pd.read_csv(\"Heart.csv\")\n",
    "df"
   ]
  },
  {
   "cell_type": "code",
   "execution_count": 3,
   "id": "3745bb03",
   "metadata": {},
   "outputs": [
    {
     "name": "stdout",
     "output_type": "stream",
     "text": [
      "   Unnamed: 0  Age  Sex     ChestPain  RestBP  Chol  Fbs  RestECG  MaxHR  \\\n",
      "0           1   63    1       typical     145   233    1        2    150   \n",
      "1           2   67    1  asymptomatic     160   286    0        2    108   \n",
      "2           3   67    1  asymptomatic     120   229    0        2    129   \n",
      "3           4   37    1    nonanginal     130   250    0        0    187   \n",
      "4           5   41    0    nontypical     130   204    0        2    172   \n",
      "\n",
      "   ExAng  Oldpeak  Slope   Ca        Thal  AHD  \n",
      "0      0      2.3      3  0.0       fixed   No  \n",
      "1      1      1.5      2  3.0      normal  Yes  \n",
      "2      1      2.6      2  2.0  reversable  Yes  \n",
      "3      0      3.5      3  0.0      normal   No  \n",
      "4      0      1.4      1  0.0      normal   No  \n"
     ]
    }
   ],
   "source": [
    "print(df.head())"
   ]
  },
  {
   "cell_type": "code",
   "execution_count": 4,
   "id": "73942bc6",
   "metadata": {},
   "outputs": [
    {
     "name": "stdout",
     "output_type": "stream",
     "text": [
      "(303, 15)\n"
     ]
    }
   ],
   "source": [
    "print(df.shape)"
   ]
  },
  {
   "cell_type": "code",
   "execution_count": 5,
   "id": "6fa51d23",
   "metadata": {},
   "outputs": [
    {
     "name": "stdout",
     "output_type": "stream",
     "text": [
      "<class 'pandas.core.frame.DataFrame'>\n",
      "RangeIndex: 303 entries, 0 to 302\n",
      "Data columns (total 15 columns):\n",
      " #   Column      Non-Null Count  Dtype  \n",
      "---  ------      --------------  -----  \n",
      " 0   Unnamed: 0  303 non-null    int64  \n",
      " 1   Age         303 non-null    int64  \n",
      " 2   Sex         303 non-null    int64  \n",
      " 3   ChestPain   303 non-null    object \n",
      " 4   RestBP      303 non-null    int64  \n",
      " 5   Chol        303 non-null    int64  \n",
      " 6   Fbs         303 non-null    int64  \n",
      " 7   RestECG     303 non-null    int64  \n",
      " 8   MaxHR       303 non-null    int64  \n",
      " 9   ExAng       303 non-null    int64  \n",
      " 10  Oldpeak     303 non-null    float64\n",
      " 11  Slope       303 non-null    int64  \n",
      " 12  Ca          299 non-null    float64\n",
      " 13  Thal        301 non-null    object \n",
      " 14  AHD         303 non-null    object \n",
      "dtypes: float64(2), int64(10), object(3)\n",
      "memory usage: 35.6+ KB\n",
      "None\n"
     ]
    }
   ],
   "source": [
    "print(df.info())"
   ]
  },
  {
   "cell_type": "code",
   "execution_count": 6,
   "id": "793a2048",
   "metadata": {},
   "outputs": [
    {
     "name": "stdout",
     "output_type": "stream",
     "text": [
      "Unnamed: 0    0\n",
      "Age           0\n",
      "Sex           0\n",
      "ChestPain     0\n",
      "RestBP        0\n",
      "Chol          0\n",
      "Fbs           0\n",
      "RestECG       0\n",
      "MaxHR         0\n",
      "ExAng         0\n",
      "Oldpeak       0\n",
      "Slope         0\n",
      "Ca            4\n",
      "Thal          2\n",
      "AHD           0\n",
      "dtype: int64\n"
     ]
    }
   ],
   "source": [
    "print(df.isnull().sum())"
   ]
  },
  {
   "cell_type": "code",
   "execution_count": 7,
   "id": "537d802b",
   "metadata": {},
   "outputs": [
    {
     "name": "stdout",
     "output_type": "stream",
     "text": [
      "   Unnamed: 0  Age  Sex     ChestPain  RestBP  Chol  Fbs  RestECG  MaxHR  \\\n",
      "0           1   63    1       typical     145   233    1        2    150   \n",
      "1           2   67    1  asymptomatic     160   286    0        2    108   \n",
      "2           3   67    1  asymptomatic     120   229    0        2    129   \n",
      "3           4   37    1    nonanginal     130   250    0        0    187   \n",
      "4           5   41    0    nontypical     130   204    0        2    172   \n",
      "\n",
      "   ExAng  Oldpeak  Slope   Ca        Thal  AHD  \n",
      "0      0      2.3      3  0.0       fixed   No  \n",
      "1      1      1.5      2  3.0      normal  Yes  \n",
      "2      1      2.6      2  2.0  reversable  Yes  \n",
      "3      0      3.5      3  0.0      normal   No  \n",
      "4      0      1.4      1  0.0      normal   No  \n"
     ]
    }
   ],
   "source": [
    "#필요없는 값들 지우기\n",
    "\n",
    "df_n=df.dropna()\n",
    "\n",
    "print(df_n.head())"
   ]
  },
  {
   "cell_type": "code",
   "execution_count": 8,
   "id": "05e944e3",
   "metadata": {},
   "outputs": [
    {
     "name": "stdout",
     "output_type": "stream",
     "text": [
      "(297, 15)\n",
      "<class 'pandas.core.frame.DataFrame'>\n",
      "Int64Index: 297 entries, 0 to 301\n",
      "Data columns (total 15 columns):\n",
      " #   Column      Non-Null Count  Dtype  \n",
      "---  ------      --------------  -----  \n",
      " 0   Unnamed: 0  297 non-null    int64  \n",
      " 1   Age         297 non-null    int64  \n",
      " 2   Sex         297 non-null    int64  \n",
      " 3   ChestPain   297 non-null    object \n",
      " 4   RestBP      297 non-null    int64  \n",
      " 5   Chol        297 non-null    int64  \n",
      " 6   Fbs         297 non-null    int64  \n",
      " 7   RestECG     297 non-null    int64  \n",
      " 8   MaxHR       297 non-null    int64  \n",
      " 9   ExAng       297 non-null    int64  \n",
      " 10  Oldpeak     297 non-null    float64\n",
      " 11  Slope       297 non-null    int64  \n",
      " 12  Ca          297 non-null    float64\n",
      " 13  Thal        297 non-null    object \n",
      " 14  AHD         297 non-null    object \n",
      "dtypes: float64(2), int64(10), object(3)\n",
      "memory usage: 37.1+ KB\n",
      "None\n",
      "Unnamed: 0    0\n",
      "Age           0\n",
      "Sex           0\n",
      "ChestPain     0\n",
      "RestBP        0\n",
      "Chol          0\n",
      "Fbs           0\n",
      "RestECG       0\n",
      "MaxHR         0\n",
      "ExAng         0\n",
      "Oldpeak       0\n",
      "Slope         0\n",
      "Ca            0\n",
      "Thal          0\n",
      "AHD           0\n",
      "dtype: int64\n"
     ]
    }
   ],
   "source": [
    "print(df_n.shape)\n",
    "print(df_n.info())\n",
    "print(df_n.isnull().sum())"
   ]
  },
  {
   "cell_type": "code",
   "execution_count": 9,
   "id": "e85b02d4",
   "metadata": {},
   "outputs": [
    {
     "name": "stdout",
     "output_type": "stream",
     "text": [
      "   Unnamed: 0  Age  Sex  RestBP  Chol  Fbs  RestECG  MaxHR  ExAng  Oldpeak  \\\n",
      "0           1   63    1     145   233    1        2    150      0      2.3   \n",
      "1           2   67    1     160   286    0        2    108      1      1.5   \n",
      "2           3   67    1     120   229    0        2    129      1      2.6   \n",
      "3           4   37    1     130   250    0        0    187      0      3.5   \n",
      "4           5   41    0     130   204    0        2    172      0      1.4   \n",
      "\n",
      "   Slope   Ca  ChestPain_encoded  Thal_encoded  AHD_encoded  \n",
      "0      3  0.0                  3             0            0  \n",
      "1      2  3.0                  0             1            1  \n",
      "2      2  2.0                  0             2            1  \n",
      "3      3  0.0                  1             1            0  \n",
      "4      1  0.0                  2             1            0  \n"
     ]
    },
    {
     "name": "stderr",
     "output_type": "stream",
     "text": [
      "c:\\users\\user\\appdata\\local\\programs\\python\\python39\\lib\\site-packages\\pandas\\core\\frame.py:3607: SettingWithCopyWarning: \n",
      "A value is trying to be set on a copy of a slice from a DataFrame.\n",
      "Try using .loc[row_indexer,col_indexer] = value instead\n",
      "\n",
      "See the caveats in the documentation: https://pandas.pydata.org/pandas-docs/stable/user_guide/indexing.html#returning-a-view-versus-a-copy\n",
      "  self._set_item(key, value)\n"
     ]
    }
   ],
   "source": [
    "#string값인 아이들을 버리기\n",
    "\n",
    "le = LabelEncoder()\n",
    "ChestPain_encoded=le.fit_transform(df_n['ChestPain'])\n",
    "Thal_encoded=le.fit_transform(df_n['Thal'])\n",
    "AHD_encoded=le.fit_transform(df_n['AHD'])\n",
    "\n",
    "df_n['ChestPain_encoded']=ChestPain_encoded\n",
    "df_n['Thal_encoded']=Thal_encoded\n",
    "df_n['AHD_encoded']=AHD_encoded\n",
    "\n",
    "df_n=df_n.drop(columns=['ChestPain','Thal','AHD'])\n",
    "\n",
    "print(df_n.head())"
   ]
  },
  {
   "cell_type": "code",
   "execution_count": 10,
   "id": "ce695a2b",
   "metadata": {},
   "outputs": [
    {
     "data": {
      "image/png": "[encoded data removed]",
      "text/plain": [
       "<Figure size 432x288 with 1 Axes>"
      ]
     },
     "metadata": {
      "needs_background": "light"
     },
     "output_type": "display_data"
    }
   ],
   "source": [
    "plt.hist(df['RestBP'])\n",
    "plt.xlabel('Resting Blood Pressure')\n",
    "plt.ylabel('Value')\n",
    "plt.show()"
   ]
  },
  {
   "cell_type": "code",
   "execution_count": null,
   "id": "3016ba4e",
   "metadata": {
    "scrolled": true
   },
   "outputs": [],
   "source": []
  },
  {
   "cell_type": "code",
   "execution_count": 13,
   "id": "c90b67fb",
   "metadata": {},
   "outputs": [
    {
     "data": {
      "image/png": "[encoded data removed]",
      "text/plain": [
       "<Figure size 432x288 with 1 Axes>"
      ]
     },
     "metadata": {
      "needs_background": "light"
     },
     "output_type": "display_data"
    }
   ],
   "source": [
    "data_to_boxplot=[df_n['Age'],df_n['RestBP'],df_n['Chol'],df_n['Thal_encoded'],df_n['Oldpeak']]\n",
    "\n",
    "plt.boxplot(data_to_boxplot)\n",
    "plt.xlabel('Attributes')\n",
    "plt.ylabel('Value')\n",
    "plt.show()"
   ]
  },
  {
   "cell_type": "code",
   "execution_count": 16,
   "id": "83b625f0",
   "metadata": {},
   "outputs": [
    {
     "name": "stdout",
     "output_type": "stream",
     "text": [
      "x_train:       Unnamed: 0  Age  Sex  RestBP  Chol  Fbs  RestECG  MaxHR  ExAng  Oldpeak  \\\n",
      "19           20   49    1     130   266    0        0    171      0      0.6   \n",
      "261         262   58    0     136   319    1        2    152      0      0.0   \n",
      "82           83   39    1     140   321    0        2    182      0      0.0   \n",
      "66           67   60    1     140   185    0        2    155      0      3.0   \n",
      "206         207   58    1     128   259    0        2    130      1      3.0   \n",
      "..          ...  ...  ...     ...   ...  ...      ...    ...    ...      ...   \n",
      "58           59   54    1     125   273    0        2    152      0      0.5   \n",
      "88           89   53    0     138   234    0        2    160      0      0.0   \n",
      "200         201   50    0     110   254    0        2    159      0      0.0   \n",
      "176         177   52    1     108   233    1        0    147      0      0.1   \n",
      "123         124   55    1     140   217    0        0    111      1      5.6   \n",
      "\n",
      "     Slope   Ca  ChestPain_encoded  Thal_encoded  \n",
      "19       1  0.0                  2             1  \n",
      "261      1  2.0                  2             1  \n",
      "82       1  0.0                  1             1  \n",
      "66       2  0.0                  1             1  \n",
      "206      2  2.0                  0             2  \n",
      "..     ...  ...                ...           ...  \n",
      "58       3  1.0                  1             1  \n",
      "88       1  0.0                  0             1  \n",
      "200      1  0.0                  0             1  \n",
      "176      1  3.0                  0             2  \n",
      "123      3  0.0                  0             2  \n",
      "\n",
      "[207 rows x 14 columns]\n",
      "x_test      Unnamed: 0  Age  Sex  RestBP  Chol  Fbs  RestECG  MaxHR  ExAng  Oldpeak  \\\n",
      "248         249   52    1     125   212    0        0    168      0      1.0   \n",
      "61           62   46    0     142   177    0        2    160      1      1.4   \n",
      "69           70   46    1     150   231    0        0    147      0      3.6   \n",
      "24           25   60    1     130   206    0        2    132      1      2.4   \n",
      "117         118   35    0     138   183    0        0    182      0      1.4   \n",
      "..          ...  ...  ...     ...   ...  ...      ...    ...    ...      ...   \n",
      "104         105   49    1     120   188    0        0    139      0      2.0   \n",
      "114         115   62    0     130   263    0        0     97      0      1.2   \n",
      "48           49   65    0     140   417    1        2    157      0      0.8   \n",
      "270         271   61    1     140   207    0        2    138      1      1.9   \n",
      "55           56   54    1     124   266    0        2    109      1      2.2   \n",
      "\n",
      "     Slope   Ca  ChestPain_encoded  Thal_encoded  \n",
      "248      1  2.0                  0             2  \n",
      "61       3  0.0                  1             1  \n",
      "69       2  0.0                  1             1  \n",
      "24       2  2.0                  0             2  \n",
      "117      1  0.0                  0             1  \n",
      "..     ...  ...                ...           ...  \n",
      "104      2  3.0                  1             2  \n",
      "114      2  1.0                  1             2  \n",
      "48       1  1.0                  1             1  \n",
      "270      1  1.0                  0             2  \n",
      "55       2  1.0                  0             2  \n",
      "\n",
      "[90 rows x 14 columns]\n",
      "y_train 19     0\n",
      "261    1\n",
      "82     0\n",
      "66     1\n",
      "206    1\n",
      "      ..\n",
      "58     0\n",
      "88     0\n",
      "200    0\n",
      "176    0\n",
      "123    1\n",
      "Name: AHD_encoded, Length: 207, dtype: int32\n",
      "y_test 248    1\n",
      "61     0\n",
      "69     1\n",
      "24     1\n",
      "117    0\n",
      "      ..\n",
      "104    1\n",
      "114    1\n",
      "48     0\n",
      "270    1\n",
      "55     1\n",
      "Name: AHD_encoded, Length: 90, dtype: int32\n"
     ]
    }
   ],
   "source": [
    "training_points=df_n.drop(columns=['AHD_encoded'])\n",
    "training_labels=df_n['AHD_encoded']\n",
    "\n",
    "x_train,x_test,y_train,y_test=train_test_split(training_points,training_labels,test_size=0.3,random_state=4)\n",
    "\n",
    "print(\"x_train: \",x_train)\n",
    "print(\"x_test\",x_test)\n",
    "print(\"y_train\",y_train)\n",
    "print(\"y_test\",y_test)"
   ]
  },
  {
   "cell_type": "code",
   "execution_count": 17,
   "id": "2a927a5f",
   "metadata": {},
   "outputs": [
    {
     "name": "stdout",
     "output_type": "stream",
     "text": [
      "[0 0 0 0 0 0 0 0 0 1 0 0 0 0 1 0 0 0 0 0 1 0 1 1 0 0 0 1 0 1 0 1 1 1 0 1 0\n",
      " 1 1 1 0 1 0 1 0 0 0 0 0 0 1 1 1 1 0 1 0 1 1 1 0 1 0 0 1 0 0 0 1 1 1 0 0 1\n",
      " 1 1 1 0 1 1 0 0 0 0 1 1 1 1 1 1]\n"
     ]
    }
   ],
   "source": [
    "classifier = KNeighborsClassifier(n_neighbors=5)\n",
    "classifier.fit(x_train,y_train)\n",
    "\n",
    "guesses=classifier.predict(x_test)\n",
    "\n",
    "print(guesses)"
   ]
  },
  {
   "cell_type": "code",
   "execution_count": 21,
   "id": "245e44d4",
   "metadata": {},
   "outputs": [
    {
     "name": "stdout",
     "output_type": "stream",
     "text": [
      "[[26 16]\n",
      " [23 25]]\n",
      "accuracy score :  0.5666666666666667\n",
      "precision score :  0.6097560975609756\n",
      "recall score :  0.5208333333333334\n",
      "f1 score :  0.5617977528089888\n"
     ]
    }
   ],
   "source": [
    "print(confusion_matrix(y_test,guesses))\n",
    "print(\"accuracy score : \",metrics.accuracy_score(y_test,guesses))\n",
    "print(\"precision score : \",metrics.precision_score(y_test,guesses,average='binary'))\n",
    "print(\"recall score : \",metrics.recall_score(y_test,guesses,average='binary'))\n",
    "print(\"f1 score : \",metrics.f1_score(y_test,guesses,average='binary'))"
   ]
  },
  {
   "cell_type": "code",
   "execution_count": 48,
   "id": "459cee25",
   "metadata": {},
   "outputs": [
    {
     "name": "stdout",
     "output_type": "stream",
     "text": [
      "max_k:  3\n",
      "max:  0.7\n"
     ]
    },
    {
     "data": {
      "image/png": "[encoded data removed]",
      "text/plain": [
       "<Figure size 432x288 with 1 Axes>"
      ]
     },
     "metadata": {
      "needs_background": "light"
     },
     "output_type": "display_data"
    }
   ],
   "source": [
    "#for문을 이용한 k값 바꾸기\n",
    "\n",
    "k_range=range(1,50)\n",
    "accuracy_scores=[]\n",
    "\n",
    "for k in k_range:\n",
    "    classifier2=KNeighborsClassifier(n_neighbors=k)\n",
    "    classifier2.fit(x_train,y_train)\n",
    "    \n",
    "    guesses=classifier2.predict(x_test)\n",
    "    accuracy_scores.append(metrics.accuracy_score(y_test,guesses))\n",
    "    \n",
    "print(\"max_k: \",accuracy_scores.index(max(accuracy_scores))+1)\n",
    "print(\"max: \",max(accuracy_scores))\n",
    "\n",
    "plt.plot(k_range,accuracy_scores)\n",
    "plt.xlabel(\"Value of K for KNN\")\n",
    "plt.ylabel(\"Testing Accuracy\")\n",
    "plt.show()"
   ]
  },
  {
   "cell_type": "code",
   "execution_count": 33,
   "id": "fb69b42e",
   "metadata": {},
   "outputs": [
    {
     "name": "stdout",
     "output_type": "stream",
     "text": [
      "x_train:       Unnamed: 0  Age  Sex  RestBP  Chol  Fbs  RestECG  MaxHR  ExAng  Oldpeak  \\\n",
      "16           17   48    1     110   229    0        0    168      0      1.0   \n",
      "93           94   44    0     108   141    0        0    175      0      0.6   \n",
      "161         162   77    1     125   304    0        2    162      1      0.0   \n",
      "264         265   61    1     138   166    0        2    125      1      3.6   \n",
      "42           43   71    0     160   302    0        0    162      0      0.4   \n",
      "..          ...  ...  ...     ...   ...  ...      ...    ...    ...      ...   \n",
      "58           59   54    1     125   273    0        2    152      0      0.5   \n",
      "88           89   53    0     138   234    0        2    160      0      0.0   \n",
      "200         201   50    0     110   254    0        2    159      0      0.0   \n",
      "176         177   52    1     108   233    1        0    147      0      0.1   \n",
      "123         124   55    1     140   217    0        0    111      1      5.6   \n",
      "\n",
      "     Slope   Ca  ChestPain_encoded  Thal_encoded  \n",
      "16       3  0.0                  2             2  \n",
      "93       2  0.0                  1             1  \n",
      "161      1  3.0                  0             1  \n",
      "264      2  1.0                  0             1  \n",
      "42       1  2.0                  2             1  \n",
      "..     ...  ...                ...           ...  \n",
      "58       3  1.0                  1             1  \n",
      "88       1  0.0                  0             1  \n",
      "200      1  0.0                  0             1  \n",
      "176      1  3.0                  0             2  \n",
      "123      3  0.0                  0             2  \n",
      "\n",
      "[237 rows x 14 columns]\n",
      "x_test      Unnamed: 0  Age  Sex  RestBP  Chol  Fbs  RestECG  MaxHR  ExAng  Oldpeak  \\\n",
      "248         249   52    1     125   212    0        0    168      0      1.0   \n",
      "61           62   46    0     142   177    0        2    160      1      1.4   \n",
      "69           70   46    1     150   231    0        0    147      0      3.6   \n",
      "24           25   60    1     130   206    0        2    132      1      2.4   \n",
      "117         118   35    0     138   183    0        0    182      0      1.4   \n",
      "245         246   67    1     120   237    0        0     71      0      1.0   \n",
      "158         159   60    1     140   293    0        2    170      0      1.2   \n",
      "13           14   44    1     120   263    0        0    173      0      0.0   \n",
      "164         165   48    1     124   255    1        0    175      0      0.0   \n",
      "107         108   57    1     128   229    0        2    150      0      0.4   \n",
      "64           65   54    1     120   188    0        0    113      0      1.4   \n",
      "102         103   57    0     128   303    0        2    159      0      0.0   \n",
      "6             7   62    0     140   268    0        2    160      0      3.6   \n",
      "190         191   50    1     129   196    0        0    163      0      0.0   \n",
      "18           19   48    0     130   275    0        0    139      0      0.2   \n",
      "43           44   59    1     150   212    1        0    157      0      1.6   \n",
      "129         130   62    0     124   209    0        0    163      0      0.0   \n",
      "145         146   47    1     108   243    0        0    152      0      0.0   \n",
      "157         158   58    1     125   300    0        2    171      0      0.0   \n",
      "153         154   55    1     160   289    0        2    145      1      0.8   \n",
      "92           93   62    1     130   231    0        0    146      0      1.8   \n",
      "33           34   59    1     135   234    0        0    161      0      0.5   \n",
      "68           69   59    1     170   326    0        2    140      1      3.4   \n",
      "45           46   58    1     112   230    0        2    165      0      2.5   \n",
      "140         141   59    1     140   221    0        0    164      1      0.0   \n",
      "14           15   52    1     172   199    1        0    162      0      0.5   \n",
      "205         206   45    1     142   309    0        2    147      1      0.0   \n",
      "177         178   56    1     132   184    0        2    105      1      2.1   \n",
      "84           85   52    1     120   325    0        0    172      0      0.2   \n",
      "46           47   51    1     110   175    0        0    123      0      0.6   \n",
      "226         227   47    1     112   204    0        0    143      0      0.1   \n",
      "233         234   74    0     120   269    0        2    121      1      0.2   \n",
      "143         144   64    1     125   309    0        0    131      1      1.8   \n",
      "277         278   39    0     138   220    0        0    152      0      0.0   \n",
      "216         217   46    0     105   204    0        0    172      0      0.0   \n",
      "282         283   55    0     128   205    0        1    130      1      2.0   \n",
      "100         101   45    1     115   260    0        2    185      0      0.0   \n",
      "124         125   65    1     138   282    1        2    174      0      1.4   \n",
      "207         208   50    1     144   200    0        2    126      1      0.9   \n",
      "285         286   58    1     114   318    0        1    140      0      4.4   \n",
      "135         136   55    0     135   250    0        2    161      0      1.4   \n",
      "203         204   64    0     140   313    0        0    133      0      0.2   \n",
      "94           95   63    0     135   252    0        2    172      0      0.0   \n",
      "63           64   54    0     135   304    1        0    170      0      0.0   \n",
      "1             2   67    1     160   286    0        2    108      1      1.5   \n",
      "147         148   41    1     112   250    0        0    179      0      0.0   \n",
      "186         187   42    1     120   240    1        0    194      0      0.8   \n",
      "12           13   56    1     130   256    1        2    142      1      0.6   \n",
      "230         231   52    0     136   196    0        2    169      0      0.1   \n",
      "251         252   58    1     146   218    0        0    105      0      2.0   \n",
      "130         131   54    1     120   258    0        2    147      0      0.4   \n",
      "299         300   68    1     144   193    1        0    141      0      3.4   \n",
      "11           12   56    0     140   294    0        2    153      0      1.3   \n",
      "297         298   57    0     140   241    0        0    123      1      0.2   \n",
      "39           40   61    1     150   243    1        0    137      1      1.0   \n",
      "89           90   51    0     130   256    0        2    149      0      0.5   \n",
      "298         299   45    1     110   264    0        0    132      0      1.2   \n",
      "47           48   50    1     150   243    0        2    128      0      2.6   \n",
      "155         156   70    1     130   322    0        2    109      0      2.4   \n",
      "83           84   68    1     180   274    1        2    150      1      1.6   \n",
      "\n",
      "     Slope   Ca  ChestPain_encoded  Thal_encoded  \n",
      "248      1  2.0                  0             2  \n",
      "61       3  0.0                  1             1  \n",
      "69       2  0.0                  1             1  \n",
      "24       2  2.0                  0             2  \n",
      "117      1  0.0                  0             1  \n",
      "245      2  0.0                  0             1  \n",
      "158      2  2.0                  0             2  \n",
      "13       1  0.0                  2             2  \n",
      "164      1  2.0                  1             1  \n",
      "107      2  1.0                  1             2  \n",
      "64       2  1.0                  0             2  \n",
      "102      1  1.0                  0             1  \n",
      "6        3  2.0                  0             1  \n",
      "190      1  0.0                  1             1  \n",
      "18       1  0.0                  1             1  \n",
      "43       1  0.0                  1             1  \n",
      "129      1  0.0                  0             1  \n",
      "145      1  0.0                  1             1  \n",
      "157      1  2.0                  0             2  \n",
      "153      2  1.0                  0             2  \n",
      "92       2  3.0                  1             2  \n",
      "33       2  0.0                  0             2  \n",
      "68       3  0.0                  0             2  \n",
      "45       2  1.0                  1             2  \n",
      "140      1  0.0                  2             1  \n",
      "14       1  0.0                  1             2  \n",
      "205      2  3.0                  0             2  \n",
      "177      2  1.0                  0             0  \n",
      "84       1  0.0                  2             1  \n",
      "46       1  0.0                  1             1  \n",
      "226      1  0.0                  0             1  \n",
      "233      1  1.0                  2             1  \n",
      "143      2  0.0                  1             2  \n",
      "277      2  0.0                  1             1  \n",
      "216      1  0.0                  2             1  \n",
      "282      2  1.0                  0             2  \n",
      "100      1  0.0                  0             1  \n",
      "124      2  1.0                  3             1  \n",
      "207      2  0.0                  0             2  \n",
      "285      3  3.0                  0             0  \n",
      "135      2  0.0                  2             1  \n",
      "203      1  0.0                  1             2  \n",
      "94       1  0.0                  1             1  \n",
      "63       1  0.0                  1             1  \n",
      "1        2  3.0                  0             1  \n",
      "147      1  0.0                  1             1  \n",
      "186      3  0.0                  1             2  \n",
      "12       2  1.0                  1             0  \n",
      "230      2  0.0                  1             1  \n",
      "251      2  1.0                  0             2  \n",
      "130      2  0.0                  1             2  \n",
      "299      2  2.0                  0             2  \n",
      "11       2  0.0                  2             1  \n",
      "297      2  0.0                  0             2  \n",
      "39       2  0.0                  1             1  \n",
      "89       1  0.0                  1             1  \n",
      "298      2  0.0                  3             2  \n",
      "47       2  0.0                  0             2  \n",
      "155      2  3.0                  0             1  \n",
      "83       2  0.0                  1             2  \n",
      "y_train 16     1\n",
      "93     0\n",
      "161    1\n",
      "264    1\n",
      "42     0\n",
      "      ..\n",
      "58     0\n",
      "88     0\n",
      "200    0\n",
      "176    0\n",
      "123    1\n",
      "Name: AHD_encoded, Length: 237, dtype: int32\n",
      "y_test 248    1\n",
      "61     0\n",
      "69     1\n",
      "24     1\n",
      "117    0\n",
      "245    1\n",
      "158    1\n",
      "13     0\n",
      "164    0\n",
      "107    1\n",
      "64     1\n",
      "102    0\n",
      "6      1\n",
      "190    0\n",
      "18     0\n",
      "43     0\n",
      "129    0\n",
      "145    1\n",
      "157    1\n",
      "153    1\n",
      "92     0\n",
      "33     0\n",
      "68     1\n",
      "45     1\n",
      "140    0\n",
      "14     0\n",
      "205    1\n",
      "177    1\n",
      "84     0\n",
      "46     0\n",
      "226    0\n",
      "233    0\n",
      "143    1\n",
      "277    0\n",
      "216    0\n",
      "282    1\n",
      "100    0\n",
      "124    1\n",
      "207    1\n",
      "285    1\n",
      "135    0\n",
      "203    0\n",
      "94     0\n",
      "63     0\n",
      "1      1\n",
      "147    0\n",
      "186    0\n",
      "12     1\n",
      "230    0\n",
      "251    1\n",
      "130    0\n",
      "299    1\n",
      "11     0\n",
      "297    1\n",
      "39     0\n",
      "89     0\n",
      "298    1\n",
      "47     1\n",
      "155    1\n",
      "83     1\n",
      "Name: AHD_encoded, dtype: int32\n"
     ]
    }
   ],
   "source": [
    "training_points=df_n.drop(columns=['AHD_encoded'])\n",
    "training_labels=df_n['AHD_encoded']\n",
    "\n",
    "x_train,x_test,y_train,y_test=train_test_split(training_points,training_labels,test_size=0.2,random_state=4)\n",
    "\n",
    "print(\"x_train: \",x_train)\n",
    "print(\"x_test\",x_test)\n",
    "print(\"y_train\",y_train)\n",
    "print(\"y_test\",y_test)"
   ]
  },
  {
   "cell_type": "code",
   "execution_count": 34,
   "id": "1e92e19a",
   "metadata": {},
   "outputs": [
    {
     "name": "stdout",
     "output_type": "stream",
     "text": [
      "[0 0 0 0 0 1 0 0 0 1 0 0 0 0 1 0 0 0 0 1 1 0 0 1 0 0 0 0 0 1 0 1 1 1 0 1 0\n",
      " 1 1 1 0 1 0 1 1 0 0 0 0 0 1 1 0 1 0 1 0 1 1 1]\n"
     ]
    }
   ],
   "source": [
    "classifier = KNeighborsClassifier(n_neighbors=5)\n",
    "classifier.fit(x_train,y_train)\n",
    "\n",
    "guesses=classifier.predict(x_test)\n",
    "\n",
    "print(guesses)"
   ]
  },
  {
   "cell_type": "code",
   "execution_count": 35,
   "id": "f80a7a3b",
   "metadata": {},
   "outputs": [
    {
     "name": "stdout",
     "output_type": "stream",
     "text": [
      "[[22  9]\n",
      " [14 15]]\n",
      "accuracy score :  0.6166666666666667\n",
      "precision score :  0.625\n",
      "recall score :  0.5172413793103449\n",
      "f1 score :  0.5660377358490567\n"
     ]
    }
   ],
   "source": [
    "print(confusion_matrix(y_test,guesses))\n",
    "print(\"accuracy score : \",metrics.accuracy_score(y_test,guesses))\n",
    "print(\"precision score : \",metrics.precision_score(y_test,guesses,average='binary'))\n",
    "print(\"recall score : \",metrics.recall_score(y_test,guesses,average='binary'))\n",
    "print(\"f1 score : \",metrics.f1_score(y_test,guesses,average='binary'))"
   ]
  },
  {
   "cell_type": "code",
   "execution_count": 49,
   "id": "dd8244e1",
   "metadata": {},
   "outputs": [
    {
     "name": "stdout",
     "output_type": "stream",
     "text": [
      "max_k:  3\n",
      "max:  0.7\n"
     ]
    },
    {
     "data": {
      "image/png": "[encoded data removed]",
      "text/plain": [
       "<Figure size 432x288 with 1 Axes>"
      ]
     },
     "metadata": {
      "needs_background": "light"
     },
     "output_type": "display_data"
    }
   ],
   "source": [
    "# 정규화\n",
    "from sklearn.preprocessing import StandardScaler\n",
    "\n",
    "df_model=df_n.copy()\n",
    "\n",
    "scaler=StandardScaler()\n",
    "\n",
    "features=[['Age','RestBP',\"Chol\",'MaxHR','Oldpeak']]\n",
    "for features in features:\n",
    "    df_model[features]=scaler.fit_transform(df_model[features])\n",
    "    \n",
    "training_points=df_model.drop(columns=['AHD_encoded'])\n",
    "training_labels=df_model['AHD_encoded']\n",
    "\n",
    "\n",
    "\n",
    "x_train,x_test,y_train,y_test=train_test_split(training_points,training_labels,test_size=0.2,random_state=4)\n",
    "\n",
    "\n",
    "k_range=range(1,50)\n",
    "accuracy_scores=[]\n",
    "\n",
    "for k in k_range:\n",
    "    classifier2=KNeighborsClassifier(n_neighbors=k)\n",
    "    classifier2.fit(x_train,y_train)\n",
    "    \n",
    "    guesses=classifier2.predict(x_test)\n",
    "    accuracy_scores.append(metrics.accuracy_score(y_test,guesses))\n",
    "    \n",
    "print(\"max_k: \",accuracy_scores.index(max(accuracy_scores))+1)\n",
    "print(\"max: \",max(accuracy_scores))\n",
    "\n",
    "plt.plot(k_range,accuracy_scores)\n",
    "plt.xlabel(\"Value of K for KNN\")\n",
    "plt.ylabel(\"Testing Accuracy\")\n",
    "plt.show()"
   ]
  },
  {
   "cell_type": "code",
   "execution_count": 50,
   "id": "bde4707f",
   "metadata": {},
   "outputs": [
    {
     "name": "stdout",
     "output_type": "stream",
     "text": [
      "max_k:  1\n",
      "max:  0.65\n"
     ]
    },
    {
     "data": {
      "image/png": "[encoded data removed]",
      "text/plain": [
       "<Figure size 432x288 with 1 Axes>"
      ]
     },
     "metadata": {
      "needs_background": "light"
     },
     "output_type": "display_data"
    }
   ],
   "source": [
    "from sklearn.preprocessing import MinMaxScaler\n",
    "\n",
    "df_model=df_n.copy()\n",
    "\n",
    "scaler=MinMaxScaler()\n",
    "\n",
    "features=[['Age','RestBP',\"Chol\",'MaxHR','Oldpeak']]\n",
    "for features in features:\n",
    "    df_model[features]=scaler.fit_transform(df_model[features])\n",
    "    \n",
    "training_points=df_model.drop(columns=['AHD_encoded'])\n",
    "training_labels=df_model['AHD_encoded']\n",
    "\n",
    "\n",
    "\n",
    "x_train,x_test,y_train,y_test=train_test_split(training_points,training_labels,test_size=0.2,random_state=4)\n",
    "\n",
    "\n",
    "k_range=range(1,50)\n",
    "\n",
    "#변수\n",
    "accuracy_scores=[]\n",
    "\n",
    "for k in k_range:\n",
    "    classifier2=KNeighborsClassifier(n_neighbors=k)\n",
    "    classifier2.fit(x_train,y_train)\n",
    "    \n",
    "    guesses=classifier2.predict(x_test)\n",
    "    accuracy_scores.append(metrics.accuracy_score(y_test,guesses))\n",
    "    \n",
    "print(\"max_k: \",accuracy_scores.index(max(accuracy_scores))+1)\n",
    "print(\"max: \",max(accuracy_scores))\n",
    "\n",
    "plt.plot(k_range,accuracy_scores)\n",
    "plt.xlabel(\"Value of K for KNN\")\n",
    "plt.ylabel(\"Testing Accuracy\")\n",
    "plt.show()\n",
    "\n"
   ]
  },
  {
   "cell_type": "code",
   "execution_count": null,
   "id": "4c7c4679",
   "metadata": {},
   "outputs": [],
   "source": []
  },
  {
   "cell_type": "code",
   "execution_count": null,
   "id": "2eef06f4",
   "metadata": {},
   "outputs": [],
   "source": []
  },
  {
   "cell_type": "code",
   "execution_count": null,
   "id": "8b088d25",
   "metadata": {},
   "outputs": [],
   "source": []
  },
  {
   "cell_type": "code",
   "execution_count": null,
   "id": "2d3a1fbd",
   "metadata": {},
   "outputs": [],
   "source": []
  }
 ],
 "metadata": {
  "kernelspec": {
   "display_name": "Python 3",
   "language": "python",
   "name": "python3"
  },
  "language_info": {
   "codemirror_mode": {
    "name": "ipython",
    "version": 3
   },
   "file_extension": ".py",
   "mimetype": "text/x-python",
   "name": "python",
   "nbconvert_exporter": "python",
   "pygments_lexer": "ipython3",
   "version": "3.9.6"
  }
 },
 "nbformat": 4,
 "nbformat_minor": 5
}
