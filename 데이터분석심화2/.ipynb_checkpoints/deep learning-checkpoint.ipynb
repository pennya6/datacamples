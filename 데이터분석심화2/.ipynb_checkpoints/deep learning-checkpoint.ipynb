{
 "cells": [
  {
   "cell_type": "markdown",
   "id": "53f45d9a",
   "metadata": {},
   "source": [
    "### deep learning"
   ]
  },
  {
   "cell_type": "code",
   "execution_count": 1,
   "id": "dc8b9c09",
   "metadata": {},
   "outputs": [],
   "source": [
    "import numpy as np\n",
    "import os\n",
    "import tensorflow as tf\n",
    "from tensorflow.keras.datasets import cifar10\n",
    "from tensorflow.keras.models import Sequential\n",
    "from tensorflow.keras.layers import Dense, Dropout,Activation\n",
    "from tensorflow.keras.optimizers import Adam\n",
    "from tensorflow.keras.utils import to_categorical"
   ]
  },
  {
   "cell_type": "code",
   "execution_count": 2,
   "id": "66be3198",
   "metadata": {},
   "outputs": [],
   "source": [
    "#Label Description\n",
    "#0     airplane\n",
    "#1     automobile\n",
    "#2     bird\n",
    "#3     cat\n",
    "#4     deer\n",
    "#5     dog\n",
    "#6     frog\n",
    "#7     horse\n",
    "#8     ship\n",
    "#9     truck"
   ]
  },
  {
   "cell_type": "code",
   "execution_count": 3,
   "id": "32eba341",
   "metadata": {},
   "outputs": [
    {
     "name": "stdout",
     "output_type": "stream",
     "text": [
      "(50000, 32, 32, 3)\n",
      "(10000, 32, 32, 3)\n",
      "(50000, 1)\n",
      "(10000, 1)\n"
     ]
    }
   ],
   "source": [
    "np.random.seed(100)\n",
    "(x_train,y_train),(x_test,y_test)=cifar10.load_data()\n",
    "\n",
    "print(x_train.shape)\n",
    "print(x_test.shape)\n",
    "print(y_train.shape)\n",
    "print(y_test.shape)"
   ]
  },
  {
   "cell_type": "code",
   "execution_count": 4,
   "id": "4ea42681",
   "metadata": {},
   "outputs": [
    {
     "name": "stdout",
     "output_type": "stream",
     "text": [
      "y_train :  [6]\n",
      "x_train :  [[[ 59  62  63]\n",
      "  [ 43  46  45]\n",
      "  [ 50  48  43]\n",
      "  ...\n",
      "  [158 132 108]\n",
      "  [152 125 102]\n",
      "  [148 124 103]]\n",
      "\n",
      " [[ 16  20  20]\n",
      "  [  0   0   0]\n",
      "  [ 18   8   0]\n",
      "  ...\n",
      "  [123  88  55]\n",
      "  [119  83  50]\n",
      "  [122  87  57]]\n",
      "\n",
      " [[ 25  24  21]\n",
      "  [ 16   7   0]\n",
      "  [ 49  27   8]\n",
      "  ...\n",
      "  [118  84  50]\n",
      "  [120  84  50]\n",
      "  [109  73  42]]\n",
      "\n",
      " ...\n",
      "\n",
      " [[208 170  96]\n",
      "  [201 153  34]\n",
      "  [198 161  26]\n",
      "  ...\n",
      "  [160 133  70]\n",
      "  [ 56  31   7]\n",
      "  [ 53  34  20]]\n",
      "\n",
      " [[180 139  96]\n",
      "  [173 123  42]\n",
      "  [186 144  30]\n",
      "  ...\n",
      "  [184 148  94]\n",
      "  [ 97  62  34]\n",
      "  [ 83  53  34]]\n",
      "\n",
      " [[177 144 116]\n",
      "  [168 129  94]\n",
      "  [179 142  87]\n",
      "  ...\n",
      "  [216 184 140]\n",
      "  [151 118  84]\n",
      "  [123  92  72]]]\n",
      "y_train :  [9]\n",
      "x_train :  [[[154 177 187]\n",
      "  [126 137 136]\n",
      "  [105 104  95]\n",
      "  ...\n",
      "  [ 91  95  71]\n",
      "  [ 87  90  71]\n",
      "  [ 79  81  70]]\n",
      "\n",
      " [[140 160 169]\n",
      "  [145 153 154]\n",
      "  [125 125 118]\n",
      "  ...\n",
      "  [ 96  99  78]\n",
      "  [ 77  80  62]\n",
      "  [ 71  73  61]]\n",
      "\n",
      " [[140 155 164]\n",
      "  [139 146 149]\n",
      "  [115 115 112]\n",
      "  ...\n",
      "  [ 79  82  64]\n",
      "  [ 68  70  55]\n",
      "  [ 67  69  55]]\n",
      "\n",
      " ...\n",
      "\n",
      " [[175 167 166]\n",
      "  [156 154 160]\n",
      "  [154 160 170]\n",
      "  ...\n",
      "  [ 42  34  36]\n",
      "  [ 61  53  57]\n",
      "  [ 93  83  91]]\n",
      "\n",
      " [[165 154 128]\n",
      "  [156 152 130]\n",
      "  [159 161 142]\n",
      "  ...\n",
      "  [103  93  96]\n",
      "  [123 114 120]\n",
      "  [131 121 131]]\n",
      "\n",
      " [[163 148 120]\n",
      "  [158 148 122]\n",
      "  [163 156 133]\n",
      "  ...\n",
      "  [143 133 139]\n",
      "  [143 134 142]\n",
      "  [143 133 144]]]\n",
      "y_train :  [9]\n",
      "x_train :  [[[255 255 255]\n",
      "  [253 253 253]\n",
      "  [253 253 253]\n",
      "  ...\n",
      "  [253 253 253]\n",
      "  [253 253 253]\n",
      "  [253 253 253]]\n",
      "\n",
      " [[255 255 255]\n",
      "  [255 255 255]\n",
      "  [255 255 255]\n",
      "  ...\n",
      "  [255 255 255]\n",
      "  [255 255 255]\n",
      "  [255 255 255]]\n",
      "\n",
      " [[255 255 255]\n",
      "  [254 254 254]\n",
      "  [254 254 254]\n",
      "  ...\n",
      "  [254 254 254]\n",
      "  [254 254 254]\n",
      "  [254 254 254]]\n",
      "\n",
      " ...\n",
      "\n",
      " [[113 120 112]\n",
      "  [111 118 111]\n",
      "  [105 112 106]\n",
      "  ...\n",
      "  [ 72  81  80]\n",
      "  [ 72  80  79]\n",
      "  [ 72  80  79]]\n",
      "\n",
      " [[111 118 110]\n",
      "  [104 111 104]\n",
      "  [ 99 106  98]\n",
      "  ...\n",
      "  [ 68  75  73]\n",
      "  [ 70  76  75]\n",
      "  [ 78  84  82]]\n",
      "\n",
      " [[106 113 105]\n",
      "  [ 99 106  98]\n",
      "  [ 95 102  94]\n",
      "  ...\n",
      "  [ 78  85  83]\n",
      "  [ 79  85  83]\n",
      "  [ 80  86  84]]]\n",
      "y_train :  [4]\n",
      "x_train :  [[[ 28  25  10]\n",
      "  [ 37  34  19]\n",
      "  [ 38  35  20]\n",
      "  ...\n",
      "  [ 76  67  39]\n",
      "  [ 81  72  43]\n",
      "  [ 85  76  47]]\n",
      "\n",
      " [[ 33  28  13]\n",
      "  [ 34  30  14]\n",
      "  [ 32  27  12]\n",
      "  ...\n",
      "  [ 95  82  55]\n",
      "  [ 96  82  56]\n",
      "  [ 85  72  45]]\n",
      "\n",
      " [[ 39  32  15]\n",
      "  [ 40  33  17]\n",
      "  [ 57  50  33]\n",
      "  ...\n",
      "  [ 93  76  52]\n",
      "  [107  89  66]\n",
      "  [ 95  77  54]]\n",
      "\n",
      " ...\n",
      "\n",
      " [[ 83  73  52]\n",
      "  [ 87  77  56]\n",
      "  [ 84  74  52]\n",
      "  ...\n",
      "  [ 99  93  70]\n",
      "  [ 90  84  61]\n",
      "  [ 81  75  52]]\n",
      "\n",
      " [[ 88  72  51]\n",
      "  [ 90  74  52]\n",
      "  [ 93  77  56]\n",
      "  ...\n",
      "  [ 80  74  53]\n",
      "  [ 76  70  49]\n",
      "  [ 82  76  55]]\n",
      "\n",
      " [[ 97  78  56]\n",
      "  [ 94  75  53]\n",
      "  [ 93  75  53]\n",
      "  ...\n",
      "  [ 54  47  28]\n",
      "  [ 63  56  37]\n",
      "  [ 72  65  46]]]\n",
      "y_train :  [1]\n",
      "x_train :  [[[170 180 198]\n",
      "  [168 178 196]\n",
      "  [177 185 203]\n",
      "  ...\n",
      "  [162 179 215]\n",
      "  [158 178 214]\n",
      "  [157 177 212]]\n",
      "\n",
      " [[168 181 198]\n",
      "  [172 185 201]\n",
      "  [171 183 200]\n",
      "  ...\n",
      "  [159 177 212]\n",
      "  [156 176 211]\n",
      "  [154 174 209]]\n",
      "\n",
      " [[154 170 186]\n",
      "  [149 165 181]\n",
      "  [129 144 162]\n",
      "  ...\n",
      "  [161 178 214]\n",
      "  [157 177 212]\n",
      "  [154 174 209]]\n",
      "\n",
      " ...\n",
      "\n",
      " [[ 74  84  80]\n",
      "  [ 76  85  81]\n",
      "  [ 78  85  82]\n",
      "  ...\n",
      "  [ 71  75  78]\n",
      "  [ 68  72  75]\n",
      "  [ 61  65  68]]\n",
      "\n",
      " [[ 68  76  77]\n",
      "  [ 69  77  78]\n",
      "  [ 72  79  78]\n",
      "  ...\n",
      "  [ 76  80  83]\n",
      "  [ 71  75  78]\n",
      "  [ 71  75  78]]\n",
      "\n",
      " [[ 67  75  78]\n",
      "  [ 68  76  79]\n",
      "  [ 69  75  76]\n",
      "  ...\n",
      "  [ 75  79  82]\n",
      "  [ 71  75  78]\n",
      "  [ 73  77  80]]]\n"
     ]
    }
   ],
   "source": [
    "for i in range(5):\n",
    "    print(\"y_train : \",y_train[i])\n",
    "    print(\"x_train : \",x_train[i])"
   ]
  },
  {
   "cell_type": "code",
   "execution_count": 5,
   "id": "5b520824",
   "metadata": {},
   "outputs": [
    {
     "name": "stdout",
     "output_type": "stream",
     "text": [
      "[6], "
     ]
    },
    {
     "data": {
      "image/png": "[encoded data removed]",
      "text/plain": [
       "<Figure size 432x288 with 1 Axes>"
      ]
     },
     "metadata": {
      "needs_background": "light"
     },
     "output_type": "display_data"
    },
    {
     "name": "stdout",
     "output_type": "stream",
     "text": [
      "[9], "
     ]
    },
    {
     "data": {
      "image/png": "[encoded data removed]",
      "text/plain": [
       "<Figure size 432x288 with 1 Axes>"
      ]
     },
     "metadata": {
      "needs_background": "light"
     },
     "output_type": "display_data"
    },
    {
     "name": "stdout",
     "output_type": "stream",
     "text": [
      "[9], "
     ]
    },
    {
     "data": {
      "image/png": "[encoded data removed]",
      "text/plain": [
       "<Figure size 432x288 with 1 Axes>"
      ]
     },
     "metadata": {
      "needs_background": "light"
     },
     "output_type": "display_data"
    },
    {
     "name": "stdout",
     "output_type": "stream",
     "text": [
      "[4], "
     ]
    },
    {
     "data": {
      "image/png": "[encoded data removed]",
      "text/plain": [
       "<Figure size 432x288 with 1 Axes>"
      ]
     },
     "metadata": {
      "needs_background": "light"
     },
     "output_type": "display_data"
    },
    {
     "name": "stdout",
     "output_type": "stream",
     "text": [
      "[1], "
     ]
    },
    {
     "data": {
      "image/png": "[encoded data removed]",
      "text/plain": [
       "<Figure size 432x288 with 1 Axes>"
      ]
     },
     "metadata": {
      "needs_background": "light"
     },
     "output_type": "display_data"
    }
   ],
   "source": [
    "import matplotlib.pyplot as plt\n",
    "%matplotlib inline\n",
    "\n",
    "for i in range(5):\n",
    "    plt.imshow(x_train[i])\n",
    "    print(y_train[i],end=\", \")\n",
    "    plt.show()"
   ]
  },
  {
   "cell_type": "code",
   "execution_count": 6,
   "id": "d4475d6c",
   "metadata": {},
   "outputs": [],
   "source": [
    "#3차원 데이터를 1차원으로\n",
    "x_train=x_train.reshape(50000,3072)\n",
    "x_test=x_test.reshape(10000,3072)"
   ]
  },
  {
   "cell_type": "code",
   "execution_count": 7,
   "id": "18ca174d",
   "metadata": {},
   "outputs": [],
   "source": [
    "#정규화\n",
    "x_train=(x_train-np.mean(x_train))/np.std(x_train)\n",
    "x_test=(x_test-np.mean(x_test))/np.std(x_test)"
   ]
  },
  {
   "cell_type": "code",
   "execution_count": 8,
   "id": "901047ae",
   "metadata": {},
   "outputs": [
    {
     "name": "stdout",
     "output_type": "stream",
     "text": [
      "y_train :  [[0. 0. 0. ... 0. 0. 0.]\n",
      " [0. 0. 0. ... 0. 0. 1.]\n",
      " [0. 0. 0. ... 0. 0. 1.]\n",
      " ...\n",
      " [0. 0. 0. ... 0. 0. 1.]\n",
      " [0. 1. 0. ... 0. 0. 0.]\n",
      " [0. 1. 0. ... 0. 0. 0.]]\n",
      "y_test :  [[0. 0. 0. ... 0. 0. 0.]\n",
      " [0. 0. 0. ... 0. 1. 0.]\n",
      " [0. 0. 0. ... 0. 1. 0.]\n",
      " ...\n",
      " [0. 0. 0. ... 0. 0. 0.]\n",
      " [0. 1. 0. ... 0. 0. 0.]\n",
      " [0. 0. 0. ... 1. 0. 0.]]\n"
     ]
    }
   ],
   "source": [
    "labels=10\n",
    "y_train=to_categorical(y_train,labels)\n",
    "y_test=to_categorical(y_test,labels)\n",
    "\n",
    "print(\"y_train : \",y_train)\n",
    "print(\"y_test : \",y_test)"
   ]
  },
  {
   "cell_type": "code",
   "execution_count": 9,
   "id": "1f85ed19",
   "metadata": {},
   "outputs": [],
   "source": [
    "#모델정의\n",
    "model=Sequential()\n",
    "\n",
    "#레이어를 늘리기\n",
    "model.add(Dense(512,input_shape=(3072,),activation='relu',name='Hidden1'))"
   ]
  },
  {
   "cell_type": "code",
   "execution_count": 10,
   "id": "563b4a43",
   "metadata": {},
   "outputs": [],
   "source": [
    "model.add(Dense(120,activation='relu',name='Hidden2'))\n",
    "\n",
    "#output layer\n",
    "model.add(Dense(10,activation='sigmoid'))"
   ]
  },
  {
   "cell_type": "code",
   "execution_count": 11,
   "id": "1c8ef42a",
   "metadata": {
    "scrolled": true
   },
   "outputs": [
    {
     "name": "stdout",
     "output_type": "stream",
     "text": [
      "히든레이어를 여러개 갖는 딥러닝 모델\n",
      "딥러닝이라 불리는 모델들 중 가장 기본 구조이다.\n",
      "Model: \"sequential\"\n",
      "_________________________________________________________________\n",
      "Layer (type)                 Output Shape              Param #   \n",
      "=================================================================\n",
      "Hidden1 (Dense)              (None, 512)               1573376   \n",
      "_________________________________________________________________\n",
      "Hidden2 (Dense)              (None, 120)               61560     \n",
      "_________________________________________________________________\n",
      "dense (Dense)                (None, 10)                1210      \n",
      "=================================================================\n",
      "Total params: 1,636,146\n",
      "Trainable params: 1,636,146\n",
      "Non-trainable params: 0\n",
      "_________________________________________________________________\n"
     ]
    }
   ],
   "source": [
    "model.compile(loss='categorical_crossentropy', optimizer='adam',metrics=['accuracy'])\n",
    "\n",
    "print(\"히든레이어를 여러개 갖는 딥러닝 모델\")\n",
    "print(\"딥러닝이라 불리는 모델들 중 가장 기본 구조이다.\")\n",
    "model.summary()"
   ]
  },
  {
   "cell_type": "code",
   "execution_count": 12,
   "id": "66d5b4d2",
   "metadata": {},
   "outputs": [],
   "source": [
    "#학습"
   ]
  },
  {
   "cell_type": "code",
   "execution_count": 13,
   "id": "b85c4187",
   "metadata": {
    "scrolled": true
   },
   "outputs": [
    {
     "name": "stdout",
     "output_type": "stream",
     "text": [
      "Epoch 1/10\n",
      "49/49 [==============================] - 3s 63ms/step - loss: 1.9574 - accuracy: 0.3551 - val_loss: 1.6435 - val_accuracy: 0.4312\n",
      "Epoch 2/10\n",
      "49/49 [==============================] - 3s 54ms/step - loss: 1.5297 - accuracy: 0.4673 - val_loss: 1.5351 - val_accuracy: 0.4584\n",
      "Epoch 3/10\n",
      "49/49 [==============================] - 3s 54ms/step - loss: 1.3979 - accuracy: 0.5134 - val_loss: 1.4768 - val_accuracy: 0.4867\n",
      "Epoch 4/10\n",
      "49/49 [==============================] - 3s 54ms/step - loss: 1.2966 - accuracy: 0.5481 - val_loss: 1.4585 - val_accuracy: 0.4927\n",
      "Epoch 5/10\n",
      "49/49 [==============================] - 3s 54ms/step - loss: 1.2155 - accuracy: 0.5776 - val_loss: 1.4587 - val_accuracy: 0.4974\n",
      "Epoch 6/10\n",
      "49/49 [==============================] - 3s 54ms/step - loss: 1.1434 - accuracy: 0.6042 - val_loss: 1.4376 - val_accuracy: 0.5050\n",
      "Epoch 7/10\n",
      "49/49 [==============================] - 3s 59ms/step - loss: 1.0534 - accuracy: 0.6365 - val_loss: 1.4478 - val_accuracy: 0.5064\n",
      "Epoch 8/10\n",
      "49/49 [==============================] - 3s 66ms/step - loss: 0.9869 - accuracy: 0.6617 - val_loss: 1.4433 - val_accuracy: 0.5172\n",
      "Epoch 9/10\n",
      "49/49 [==============================] - 3s 70ms/step - loss: 0.9289 - accuracy: 0.6816 - val_loss: 1.4559 - val_accuracy: 0.5155\n",
      "Epoch 10/10\n",
      "49/49 [==============================] - 3s 69ms/step - loss: 0.8631 - accuracy: 0.7067 - val_loss: 1.4468 - val_accuracy: 0.5252\n"
     ]
    },
    {
     "data": {
      "text/plain": [
       "<tensorflow.python.keras.callbacks.History at 0x2350f0f6430>"
      ]
     },
     "execution_count": 13,
     "metadata": {},
     "output_type": "execute_result"
    }
   ],
   "source": [
    "model.fit(x_train,y_train,batch_size=1024,epochs=10,validation_data=(x_test,y_test),verbose=1)"
   ]
  },
  {
   "cell_type": "code",
   "execution_count": 14,
   "id": "e903627f",
   "metadata": {},
   "outputs": [
    {
     "name": "stdout",
     "output_type": "stream",
     "text": [
      "313/313 [==============================] - 1s 4ms/step - loss: 1.4468 - accuracy: 0.5252\n",
      "loss =  1.4468095302581787 test accuracy :  52.52000093460083\n"
     ]
    }
   ],
   "source": [
    "#만들어진 모델 평가\n",
    "\n",
    "score=model.evaluate(x_test,y_test,verbose=1)\n",
    "print('loss = ',score[0],'test accuracy : ',score[1]*100)"
   ]
  },
  {
   "cell_type": "code",
   "execution_count": null,
   "id": "b8d3346a",
   "metadata": {},
   "outputs": [],
   "source": []
  },
  {
   "cell_type": "markdown",
   "id": "715bb533",
   "metadata": {},
   "source": [
    "### MNISST Dataset"
   ]
  },
  {
   "cell_type": "code",
   "execution_count": 15,
   "id": "8cb8c31d",
   "metadata": {},
   "outputs": [],
   "source": [
    "import numpy as np\n",
    "import os\n",
    "import tensorflow as tf"
   ]
  },
  {
   "cell_type": "code",
   "execution_count": 16,
   "id": "bcf4fcdb",
   "metadata": {
    "scrolled": true
   },
   "outputs": [
    {
     "name": "stdout",
     "output_type": "stream",
     "text": [
      "(60000, 28, 28)\n",
      "(10000, 28, 28)\n",
      "(60000,)\n",
      "(10000,)\n"
     ]
    }
   ],
   "source": [
    "mnist=tf.keras.datasets.mnist\n",
    "(x_train,y_train),(x_test,y_test)=mnist.load_data()\n",
    "\n",
    "print(x_train.shape)\n",
    "print(x_test.shape)\n",
    "print(y_train.shape)\n",
    "print(y_test.shape)"
   ]
  },
  {
   "cell_type": "code",
   "execution_count": 17,
   "id": "702efa57",
   "metadata": {},
   "outputs": [
    {
     "name": "stdout",
     "output_type": "stream",
     "text": [
      "5, "
     ]
    },
    {
     "data": {
      "image/png": "[encoded data removed]",
      "text/plain": [
       "<Figure size 432x288 with 1 Axes>"
      ]
     },
     "metadata": {
      "needs_background": "light"
     },
     "output_type": "display_data"
    },
    {
     "name": "stdout",
     "output_type": "stream",
     "text": [
      "0, "
     ]
    },
    {
     "data": {
      "image/png": "[encoded data removed]",
      "text/plain": [
       "<Figure size 432x288 with 1 Axes>"
      ]
     },
     "metadata": {
      "needs_background": "light"
     },
     "output_type": "display_data"
    },
    {
     "name": "stdout",
     "output_type": "stream",
     "text": [
      "4, "
     ]
    },
    {
     "data": {
      "image/png": "[encoded data removed]",
      "text/plain": [
       "<Figure size 432x288 with 1 Axes>"
      ]
     },
     "metadata": {
      "needs_background": "light"
     },
     "output_type": "display_data"
    },
    {
     "name": "stdout",
     "output_type": "stream",
     "text": [
      "1, "
     ]
    },
    {
     "data": {
      "image/png": "[encoded data removed]",
      "text/plain": [
       "<Figure size 432x288 with 1 Axes>"
      ]
     },
     "metadata": {
      "needs_background": "light"
     },
     "output_type": "display_data"
    },
    {
     "name": "stdout",
     "output_type": "stream",
     "text": [
      "9, "
     ]
    },
    {
     "data": {
      "image/png": "[encoded data removed]",
      "text/plain": [
       "<Figure size 432x288 with 1 Axes>"
      ]
     },
     "metadata": {
      "needs_background": "light"
     },
     "output_type": "display_data"
    }
   ],
   "source": [
    "import matplotlib.pyplot as plt\n",
    "%matplotlib inline\n",
    "\n",
    "for i in range(5):\n",
    "    plt.imshow(x_train[i])\n",
    "    print(y_train[i], end=\", \")\n",
    "    plt.show()"
   ]
  },
  {
   "cell_type": "code",
   "execution_count": 18,
   "id": "d005e036",
   "metadata": {},
   "outputs": [],
   "source": [
    "x_train,x_test=x_train/255.0, x_test/255.0\n",
    "\n",
    "x_train=x_train.reshape(60000,784).astype('float32')\n",
    "x_test=x_test.reshape(10000,784).astype('float32')\n",
    "\n",
    "labels=10\n",
    "\n",
    "y_train=tf.one_hot(y_train,labels).numpy()\n",
    "y_test=tf.one_hot(y_test,labels).numpy()"
   ]
  },
  {
   "cell_type": "code",
   "execution_count": 19,
   "id": "bc5c1595",
   "metadata": {},
   "outputs": [],
   "source": [
    "W=tf.Variable(tf.random.normal([784,labels]),name='weight')\n",
    "B=tf.Variable(tf.random.normal([labels]),name='bias')\n",
    "\n",
    "@tf.function\n",
    "def Hypothesis(x):\n",
    "    logits=tf.add(tf.matmul(tf.cast(x,tf.float32),W),B)\n",
    "    return tf.nn.softmax(logits)"
   ]
  },
  {
   "cell_type": "code",
   "execution_count": 20,
   "id": "4ae754a9",
   "metadata": {},
   "outputs": [],
   "source": [
    "@tf.function\n",
    "def loss(H,Y):\n",
    "    entropy=-tf.reduce_sum(Y*tf.math.log(H),axis=1)\n",
    "    cost=tf.reduce_mean(entropy)\n",
    "    return cost"
   ]
  },
  {
   "cell_type": "code",
   "execution_count": 21,
   "id": "ecc42ff3",
   "metadata": {},
   "outputs": [],
   "source": [
    "@tf.function\n",
    "def train(X,Y,learning_rate=0.1):\n",
    "    with tf.GradientTape() as tape:\n",
    "        _loss=loss(Hypothesis(X),Y)\n",
    "    _w,_b=tape.gradient(_loss,[W,B])\n",
    "    W.assign_sub(learning_rate*_w)\n",
    "    B.assign_sub(learning_rate*_b)"
   ]
  },
  {
   "cell_type": "code",
   "execution_count": 22,
   "id": "8c08ab38",
   "metadata": {},
   "outputs": [],
   "source": [
    "@tf.function\n",
    "def evaluation(H,Y):\n",
    "    prediction=tf.argmax(H,1)\n",
    "    correct_prediction=tf.equal(prediction,tf.argmax(Y,1))\n",
    "    accuracy=tf.reduce_mean(tf.cast(correct_prediction,tf.float32))\n",
    "    return prediction, accuracy\n"
   ]
  },
  {
   "cell_type": "code",
   "execution_count": 23,
   "id": "2ed39878",
   "metadata": {},
   "outputs": [
    {
     "ename": "NameError",
     "evalue": "name 'y_train_one_hot' is not defined",
     "output_type": "error",
     "traceback": [
      "\u001b[1;31m---------------------------------------------------------------------------\u001b[0m",
      "\u001b[1;31mNameError\u001b[0m                                 Traceback (most recent call last)",
      "\u001b[1;32m<ipython-input-23-1f5334fab174>\u001b[0m in \u001b[0;36m<module>\u001b[1;34m\u001b[0m\n\u001b[0;32m      8\u001b[0m     \u001b[0midx\u001b[0m\u001b[1;33m=\u001b[0m\u001b[1;36m0\u001b[0m\u001b[1;33m\u001b[0m\u001b[1;33m\u001b[0m\u001b[0m\n\u001b[0;32m      9\u001b[0m     \u001b[1;32mfor\u001b[0m \u001b[0mi\u001b[0m \u001b[1;32min\u001b[0m \u001b[0mrange\u001b[0m\u001b[1;33m(\u001b[0m\u001b[0miterations\u001b[0m\u001b[1;33m)\u001b[0m\u001b[1;33m:\u001b[0m\u001b[1;33m\u001b[0m\u001b[1;33m\u001b[0m\u001b[0m\n\u001b[1;32m---> 10\u001b[1;33m         \u001b[0mbatch_xs\u001b[0m\u001b[1;33m,\u001b[0m\u001b[0mbatch_ye\u001b[0m\u001b[1;33m=\u001b[0m\u001b[0mx_train\u001b[0m\u001b[1;33m[\u001b[0m\u001b[0midx\u001b[0m\u001b[1;33m:\u001b[0m\u001b[0midx\u001b[0m\u001b[1;33m+\u001b[0m\u001b[0mbatch_size\u001b[0m\u001b[1;33m,\u001b[0m \u001b[1;33m:\u001b[0m\u001b[1;33m]\u001b[0m\u001b[1;33m,\u001b[0m\u001b[0my_train_one_hot\u001b[0m\u001b[1;33m[\u001b[0m\u001b[0midx\u001b[0m\u001b[1;33m:\u001b[0m\u001b[0midx\u001b[0m\u001b[1;33m+\u001b[0m\u001b[0mbatch_size\u001b[0m\u001b[1;33m,\u001b[0m\u001b[1;33m:\u001b[0m\u001b[1;33m]\u001b[0m\u001b[1;33m\u001b[0m\u001b[1;33m\u001b[0m\u001b[0m\n\u001b[0m\u001b[0;32m     11\u001b[0m         \u001b[0m_c\u001b[0m\u001b[1;33m=\u001b[0m\u001b[0mloss\u001b[0m\u001b[1;33m(\u001b[0m\u001b[0mHypothesis\u001b[0m\u001b[1;33m(\u001b[0m\u001b[0mbatch_xs\u001b[0m\u001b[1;33m)\u001b[0m\u001b[1;33m,\u001b[0m\u001b[0mbatch_ys\u001b[0m\u001b[1;33m)\u001b[0m\u001b[1;33m\u001b[0m\u001b[1;33m\u001b[0m\u001b[0m\n\u001b[0;32m     12\u001b[0m         \u001b[0mtrain\u001b[0m\u001b[1;33m(\u001b[0m\u001b[0mbatch_xs\u001b[0m\u001b[1;33m,\u001b[0m\u001b[0mbatch_ys\u001b[0m\u001b[1;33m,\u001b[0m\u001b[0mlearning_rate\u001b[0m\u001b[1;33m=\u001b[0m\u001b[1;36m0.15\u001b[0m\u001b[1;33m)\u001b[0m\u001b[1;33m\u001b[0m\u001b[1;33m\u001b[0m\u001b[0m\n",
      "\u001b[1;31mNameError\u001b[0m: name 'y_train_one_hot' is not defined"
     ]
    }
   ],
   "source": [
    "training_epochs=50\n",
    "batch_size=100\n",
    "\n",
    "for epoch in range(training_epochs):\n",
    "    avg_cost=0\n",
    "    iterations=int(len(x_train)/batch_size)\n",
    "    \n",
    "    idx=0\n",
    "    for i in range(iterations):\n",
    "        batch_xs,batch_ye=x_train[idx:idx+batch_size, :],y_train_one_hot[idx:idx+batch_size,:]\n",
    "        _c=loss(Hypothesis(batch_xs),batch_ys)\n",
    "        train(batch_xs,batch_ys,learning_rate=0.15)\n",
    "        avg_cost+=_c/iterations\n",
    "        idx+=batch_size\n",
    "    print(\"Epoch:{:2d} loss:{}\".format(epoch+1,avg_cost))\n",
    "_h=Hyothesis(x_test)\n",
    "_p,_a=evuation(_h,y_test_one_hot)\n",
    "print(_a.numpy())"
   ]
  },
  {
   "cell_type": "code",
   "execution_count": null,
   "id": "845a98e4",
   "metadata": {},
   "outputs": [],
   "source": []
  },
  {
   "cell_type": "code",
   "execution_count": null,
   "id": "9629078f",
   "metadata": {},
   "outputs": [],
   "source": []
  },
  {
   "cell_type": "code",
   "execution_count": null,
   "id": "50cabe4d",
   "metadata": {},
   "outputs": [],
   "source": []
  },
  {
   "cell_type": "code",
   "execution_count": null,
   "id": "aa541f02",
   "metadata": {},
   "outputs": [],
   "source": []
  },
  {
   "cell_type": "code",
   "execution_count": null,
   "id": "7af2d0f1",
   "metadata": {},
   "outputs": [],
   "source": []
  },
  {
   "cell_type": "code",
   "execution_count": null,
   "id": "631fc8a3",
   "metadata": {},
   "outputs": [],
   "source": []
  },
  {
   "cell_type": "code",
   "execution_count": null,
   "id": "e83f5526",
   "metadata": {},
   "outputs": [],
   "source": []
  }
 ],
 "metadata": {
  "kernelspec": {
   "display_name": "Python 3",
   "language": "python",
   "name": "python3"
  },
  "language_info": {
   "codemirror_mode": {
    "name": "ipython",
    "version": 3
   },
   "file_extension": ".py",
   "mimetype": "text/x-python",
   "name": "python",
   "nbconvert_exporter": "python",
   "pygments_lexer": "ipython3",
   "version": "3.9.6"
  }
 },
 "nbformat": 4,
 "nbformat_minor": 5
}
