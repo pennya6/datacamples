{
 "cells": [
  {
   "cell_type": "markdown",
   "id": "65b2cb74",
   "metadata": {},
   "source": [
    "### 연습문제2"
   ]
  },
  {
   "cell_type": "markdown",
   "id": "e2684180",
   "metadata": {},
   "source": [
    "프로그램 : 사용자로부터 n개의 사칙연산 기호를 받아서 연산 수행\n",
    "\n",
    "순서\n",
    "1: 사칙연산 기능 구현\n",
    "2: 제어문 -> while문으로 입력 받기 만 false인 경우 break\n",
    "3: reset 함수 구현 -> 숫자 0를 입력하면 초기화\n",
    "4: 연산 우선 순위 적용 \n",
    "-> 리스트 두개 생성 \n",
    "    a[] : 숫자\n",
    "    b[] : 연산 기호\n",
    "    for문으로 b[]에서 *,/ 가 나오면 해당 인덱스(i)의 a[i],a[i+1] 먼저 계산 -> 그리고 결과값은 인덱스 i\n",
    "    \n",
    "    \n",
    "-> 리스트 1개\n",
    "input 한줄로 받아서 split하고 만약에 split하다가 *,/가 나오면 계산한다\n",
    "이후에 없으면 앞에서 부터 +,- 계산\n",
    "= 가 나오면 계산 시작"
   ]
  },
  {
   "cell_type": "code",
   "execution_count": 26,
   "id": "f38b6fca",
   "metadata": {},
   "outputs": [
    {
     "name": "stdout",
     "output_type": "stream",
     "text": [
      "계산를 입력하세요1+2\n"
     ]
    },
    {
     "ename": "TypeError",
     "evalue": "'str' object does not support item assignment",
     "output_type": "error",
     "traceback": [
      "\u001b[1;31m---------------------------------------------------------------------------\u001b[0m",
      "\u001b[1;31mTypeError\u001b[0m                                 Traceback (most recent call last)",
      "\u001b[1;32m<ipython-input-26-5ff75bf105d3>\u001b[0m in \u001b[0;36m<module>\u001b[1;34m\u001b[0m\n\u001b[0;32m      6\u001b[0m         \u001b[0mprint\u001b[0m\u001b[1;33m(\u001b[0m\u001b[1;34m\"계산 시작\"\u001b[0m\u001b[1;33m)\u001b[0m\u001b[1;33m\u001b[0m\u001b[1;33m\u001b[0m\u001b[0m\n\u001b[0;32m      7\u001b[0m     \u001b[1;32melif\u001b[0m\u001b[1;33m(\u001b[0m\u001b[0ma\u001b[0m\u001b[1;33m[\u001b[0m\u001b[0mi\u001b[0m\u001b[1;33m]\u001b[0m\u001b[1;33m==\u001b[0m\u001b[1;34m\"+\"\u001b[0m\u001b[1;33m)\u001b[0m\u001b[1;33m:\u001b[0m\u001b[1;33m\u001b[0m\u001b[1;33m\u001b[0m\u001b[0m\n\u001b[1;32m----> 8\u001b[1;33m         \u001b[0ma\u001b[0m\u001b[1;33m[\u001b[0m\u001b[0mi\u001b[0m\u001b[1;33m-\u001b[0m\u001b[1;36m1\u001b[0m\u001b[1;33m]\u001b[0m\u001b[1;33m=\u001b[0m\u001b[0mint\u001b[0m\u001b[1;33m(\u001b[0m\u001b[0mfloat\u001b[0m\u001b[1;33m(\u001b[0m\u001b[0ma\u001b[0m\u001b[1;33m[\u001b[0m\u001b[0mi\u001b[0m\u001b[1;33m-\u001b[0m\u001b[1;36m1\u001b[0m\u001b[1;33m]\u001b[0m\u001b[1;33m)\u001b[0m\u001b[1;33m)\u001b[0m\u001b[1;33m\u001b[0m\u001b[1;33m\u001b[0m\u001b[0m\n\u001b[0m\u001b[0;32m      9\u001b[0m         \u001b[0ma\u001b[0m\u001b[1;33m[\u001b[0m\u001b[0mi\u001b[0m\u001b[1;33m+\u001b[0m\u001b[1;36m1\u001b[0m\u001b[1;33m]\u001b[0m\u001b[1;33m=\u001b[0m\u001b[0mint\u001b[0m\u001b[1;33m(\u001b[0m\u001b[0mfloat\u001b[0m\u001b[1;33m(\u001b[0m\u001b[0ma\u001b[0m\u001b[1;33m[\u001b[0m\u001b[0mi\u001b[0m\u001b[1;33m+\u001b[0m\u001b[1;36m1\u001b[0m\u001b[1;33m]\u001b[0m\u001b[1;33m)\u001b[0m\u001b[1;33m)\u001b[0m\u001b[1;33m\u001b[0m\u001b[1;33m\u001b[0m\u001b[0m\n\u001b[0;32m     10\u001b[0m         \u001b[0ma\u001b[0m\u001b[1;33m[\u001b[0m\u001b[0mi\u001b[0m\u001b[1;33m-\u001b[0m\u001b[1;36m1\u001b[0m\u001b[1;33m]\u001b[0m\u001b[1;33m=\u001b[0m\u001b[0msum\u001b[0m\u001b[1;33m(\u001b[0m\u001b[0ma\u001b[0m\u001b[1;33m[\u001b[0m\u001b[0mi\u001b[0m\u001b[1;33m-\u001b[0m\u001b[1;36m1\u001b[0m\u001b[1;33m]\u001b[0m\u001b[1;33m,\u001b[0m\u001b[0ma\u001b[0m\u001b[1;33m[\u001b[0m\u001b[0mi\u001b[0m\u001b[1;33m+\u001b[0m\u001b[1;36m1\u001b[0m\u001b[1;33m]\u001b[0m\u001b[1;33m)\u001b[0m\u001b[1;33m\u001b[0m\u001b[1;33m\u001b[0m\u001b[0m\n",
      "\u001b[1;31mTypeError\u001b[0m: 'str' object does not support item assignment"
     ]
    }
   ],
   "source": [
    "a=input(\"계산를 입력하세요\")\n",
    "x=len(a)\n",
    "\n",
    "for i in range(x):\n",
    "    if(a[i]==\"=\"):\n",
    "        print(\"계산 시작\")\n",
    "    elif(a[i]==\"+\"):\n",
    "        a[i-1]=int(float(a[i-1]))\n",
    "        a[i+1]=int(float(a[i+1]))\n",
    "        a[i-1]=sum(a[i-1],a[i+1])\n",
    "       # a[i]=sum(int(a[i-1]),int(a[i+1]))\n",
    "        \n",
    "print(a)\n",
    "#사칙연산 수행 기능 함수\n",
    "#더하기\n",
    "def sum(a,b):\n",
    "    return a+b\n",
    "#빼기\n",
    "def sub(a,b):\n",
    "    return a-b\n",
    "\n",
    "#곱하기\n",
    "def mul(a,b):\n",
    "    return a*b\n",
    "\n",
    "#나누기\n",
    "def sksnrl(a,b):\n",
    "    return a/b"
   ]
  },
  {
   "cell_type": "code",
   "execution_count": null,
   "id": "74dfc9b1",
   "metadata": {},
   "outputs": [],
   "source": []
  },
  {
   "cell_type": "code",
   "execution_count": 33,
   "id": "fdc29d63",
   "metadata": {},
   "outputs": [
    {
     "name": "stdout",
     "output_type": "stream",
     "text": [
      "계산 할 숫자를 입력하세요(종료하고 싶다면 false를 입력하세요)1+2=\n",
      "우선 순위 기호 없음\n",
      "우선 순위 기호 없음\n",
      "우선 순위 기호 없음\n",
      "우선 순위 기호 없음\n",
      "1+2=\n",
      "종료\n"
     ]
    },
    {
     "ename": "TypeError",
     "evalue": "'str' object does not support item assignment",
     "output_type": "error",
     "traceback": [
      "\u001b[1;31m---------------------------------------------------------------------------\u001b[0m",
      "\u001b[1;31mTypeError\u001b[0m                                 Traceback (most recent call last)",
      "\u001b[1;32m<ipython-input-33-c8c93e77145b>\u001b[0m in \u001b[0;36m<module>\u001b[1;34m\u001b[0m\n\u001b[0;32m     58\u001b[0m         \u001b[0mchange\u001b[0m\u001b[1;33m(\u001b[0m\u001b[0ma\u001b[0m\u001b[1;33m[\u001b[0m\u001b[0mi\u001b[0m\u001b[1;33m-\u001b[0m\u001b[1;36m1\u001b[0m\u001b[1;33m]\u001b[0m\u001b[1;33m)\u001b[0m\u001b[1;33m\u001b[0m\u001b[1;33m\u001b[0m\u001b[0m\n\u001b[0;32m     59\u001b[0m         \u001b[0mchange\u001b[0m\u001b[1;33m(\u001b[0m\u001b[0ma\u001b[0m\u001b[1;33m[\u001b[0m\u001b[0mi\u001b[0m\u001b[1;33m+\u001b[0m\u001b[1;36m1\u001b[0m\u001b[1;33m]\u001b[0m\u001b[1;33m)\u001b[0m\u001b[1;33m\u001b[0m\u001b[1;33m\u001b[0m\u001b[0m\n\u001b[1;32m---> 60\u001b[1;33m         \u001b[0ma\u001b[0m\u001b[1;33m[\u001b[0m\u001b[0mi\u001b[0m\u001b[1;33m-\u001b[0m\u001b[1;36m1\u001b[0m\u001b[1;33m]\u001b[0m\u001b[1;33m=\u001b[0m\u001b[0madd\u001b[0m\u001b[1;33m(\u001b[0m\u001b[0ma\u001b[0m\u001b[1;33m[\u001b[0m\u001b[0mi\u001b[0m\u001b[1;33m-\u001b[0m\u001b[1;36m1\u001b[0m\u001b[1;33m]\u001b[0m\u001b[1;33m,\u001b[0m\u001b[0ma\u001b[0m\u001b[1;33m[\u001b[0m\u001b[0mi\u001b[0m\u001b[1;33m+\u001b[0m\u001b[1;36m1\u001b[0m\u001b[1;33m]\u001b[0m\u001b[1;33m)\u001b[0m\u001b[1;33m\u001b[0m\u001b[1;33m\u001b[0m\u001b[0m\n\u001b[0m\u001b[0;32m     61\u001b[0m     \u001b[1;32melse\u001b[0m\u001b[1;33m:\u001b[0m\u001b[1;33m\u001b[0m\u001b[1;33m\u001b[0m\u001b[0m\n\u001b[0;32m     62\u001b[0m         \u001b[0mprint\u001b[0m\u001b[1;33m(\u001b[0m\u001b[1;34m\"종료\"\u001b[0m\u001b[1;33m)\u001b[0m\u001b[1;33m\u001b[0m\u001b[1;33m\u001b[0m\u001b[0m\n",
      "\u001b[1;31mTypeError\u001b[0m: 'str' object does not support item assignment"
     ]
    }
   ],
   "source": [
    "# str int값으로 변환\n",
    "def change(a):\n",
    "    a=int(float(a))\n",
    "    return a\n",
    "#사칙연산 수행 기능 함수\n",
    "#더하기\n",
    "def add(a,b):\n",
    "    return a+b\n",
    "#빼기\n",
    "def sub(a,b):\n",
    "    return a-b\n",
    "\n",
    "#곱하기\n",
    "def mul(a,b):\n",
    "    return a*b\n",
    "\n",
    "#나누기\n",
    "def sksnrl(a,b):\n",
    "    return a/b\n",
    "\n",
    "\n",
    "# 두개의 리스트\n",
    "#a=[] #숫자\n",
    "#b=[] #기호\n",
    "\n",
    "# 한개의 리스트\n",
    "#a=[]\n",
    "\n",
    "a=input(\"계산 할 숫자를 입력하세요(종료하고 싶다면 false를 입력하세요)\")\n",
    "\n",
    "#사용자에게 숫자 입력받기\n",
    "\n",
    "x=len(a)    \n",
    "for i in range(x):\n",
    "    if(a[i]=='false'):\n",
    "        print(\"종료\")\n",
    "        break\n",
    "    elif(a[i]==\"*\"):\n",
    "        change(a[i-1])\n",
    "        change(a[i+1])\n",
    "        a[i-1]=mul(a[i-1],a[i+1])\n",
    "    elif(a[i]==\"/\"):\n",
    "        change(a[i-1])\n",
    "        change(a[i+1])\n",
    "        a[i-1]=sksnrl(a[i-1],a[i+1])\n",
    "    else:\n",
    "        print(\"우선 순위 기호 없음\")\n",
    "        \n",
    "print(a)\n",
    "\n",
    "y=len(a)\n",
    "for i in range (y):\n",
    "    if(a[i]==\"-\"):\n",
    "        change(a[i-1])\n",
    "        change(a[i+1])\n",
    "        a[i-1]=sub(a[i-1],a[i+1])\n",
    "    elif(a[i]==\"+\"):\n",
    "        change(a[i-1])\n",
    "        change(a[i+1])\n",
    "        a[i-1]=add(a[i-1],a[i+1])\n",
    "    else:\n",
    "        print(\"종료\")\n",
    "\n",
    "\n",
    "print(a)"
   ]
  },
  {
   "cell_type": "code",
   "execution_count": null,
   "id": "b62b36b3",
   "metadata": {},
   "outputs": [],
   "source": []
  },
  {
   "cell_type": "code",
   "execution_count": null,
   "id": "b8c02b78",
   "metadata": {},
   "outputs": [],
   "source": []
  }
 ],
 "metadata": {
  "jupytext": {
   "formats": "ipynb,auto:light"
  },
  "kernelspec": {
   "display_name": "Python 3",
   "language": "python",
   "name": "python3"
  },
  "language_info": {
   "codemirror_mode": {
    "name": "ipython",
    "version": 3
   },
   "file_extension": ".py",
   "mimetype": "text/x-python",
   "name": "python",
   "nbconvert_exporter": "python",
   "pygments_lexer": "ipython3",
   "version": "3.9.6"
  }
 },
 "nbformat": 4,
 "nbformat_minor": 5
}
