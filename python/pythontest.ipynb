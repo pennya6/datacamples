{
 "cells": [
  {
   "cell_type": "markdown",
   "id": "d61837c7",
   "metadata": {},
   "source": [
    "# python practice"
   ]
  },
  {
   "cell_type": "markdown",
   "id": "cd350582",
   "metadata": {},
   "source": [
    "## 2021-06-29 practice"
   ]
  },
  {
   "cell_type": "code",
   "execution_count": 12,
   "id": "e31be634",
   "metadata": {
    "scrolled": true
   },
   "outputs": [
    {
     "name": "stdout",
     "output_type": "stream",
     "text": [
      "Hello world\n"
     ]
    }
   ],
   "source": [
    "print(\"Hello world\")"
   ]
  },
  {
   "cell_type": "code",
   "execution_count": 14,
   "id": "3a03499f",
   "metadata": {
    "lines_to_next_cell": 2
   },
   "outputs": [
    {
     "data": {
      "text/plain": [
       "'resta$t'"
      ]
     },
     "execution_count": 14,
     "metadata": {},
     "output_type": "execute_result"
    }
   ],
   "source": [
    "a=\"restart\"\n",
    "b=a[1:]\n",
    "a[0]+b.replace(\"r\",\"$\")"
   ]
  },
  {
   "cell_type": "code",
   "execution_count": 15,
   "id": "9822fd5d",
   "metadata": {},
   "outputs": [
    {
     "name": "stdout",
     "output_type": "stream",
     "text": [
      "The exmination will start from : 11/12/2014\n"
     ]
    }
   ],
   "source": [
    "day=11\n",
    "month=12\n",
    "year=2014\n",
    "print(f\"The exmination will start from : {day}/{month}/{year}\")"
   ]
  },
  {
   "cell_type": "code",
   "execution_count": 22,
   "id": "bb3323fd",
   "metadata": {},
   "outputs": [
    {
     "name": "stdout",
     "output_type": "stream",
     "text": [
      "p\n",
      "t\n",
      "o\n"
     ]
    }
   ],
   "source": [
    "a=\"python\"\n",
    "len(a)\n",
    "print(a[0])\n",
    "print(a[2])\n",
    "print(a[4])"
   ]
  },
  {
   "cell_type": "code",
   "execution_count": null,
   "id": "1e89e156",
   "metadata": {
    "lines_to_next_cell": 2
   },
   "outputs": [],
   "source": []
  },
  {
   "cell_type": "markdown",
   "id": "dd281d2a",
   "metadata": {},
   "source": [
    "### 2-3 practice"
   ]
  },
  {
   "cell_type": "code",
   "execution_count": 44,
   "id": "1dbab953",
   "metadata": {},
   "outputs": [
    {
     "data": {
      "text/plain": [
       "'apple'"
      ]
     },
     "execution_count": 44,
     "metadata": {},
     "output_type": "execute_result"
    }
   ],
   "source": [
    "a=[2,3,4,['a',['Life','is','good'],['apple']]]\n",
    "a[3][1][2]\n",
    "a[3][2][0]"
   ]
  },
  {
   "cell_type": "code",
   "execution_count": 47,
   "id": "561dd884",
   "metadata": {},
   "outputs": [
    {
     "name": "stdout",
     "output_type": "stream",
     "text": [
      "[2, 3]\n"
     ]
    }
   ],
   "source": [
    "a=[1,2,3,4,5]\n",
    "b=a[1:3]\n",
    "print(b)"
   ]
  },
  {
   "cell_type": "markdown",
   "id": "7656012a",
   "metadata": {},
   "source": [
    "### 2-4 practice"
   ]
  },
  {
   "cell_type": "code",
   "execution_count": 49,
   "id": "20f08517",
   "metadata": {},
   "outputs": [
    {
     "name": "stdout",
     "output_type": "stream",
     "text": [
      "['거북이', '토끼', '홍학']\n"
     ]
    }
   ],
   "source": [
    "line_up=[]\n",
    "line_up.append('거북이')\n",
    "line_up.append('홍학')\n",
    "line_up.append('토끼')\n",
    "line_up.sort()\n",
    "print(line_up)"
   ]
  },
  {
   "cell_type": "code",
   "execution_count": 51,
   "id": "13e8c7fc",
   "metadata": {
    "lines_to_next_cell": 2
   },
   "outputs": [
    {
     "name": "stdout",
     "output_type": "stream",
     "text": [
      "서울역 도착, // ['성진', '찬경', '준영', '주아']\n",
      "대전역도착, // ['동빈', '성진', '찬경', '준영', '주아']\n",
      "부산역 도착, // ['동빈', '성진', '주아', '준영', '찬경']\n"
     ]
    }
   ],
   "source": [
    "train=['성진','찬경','준영']\n",
    "train.append('주아')\n",
    "print(\"서울역 도착, //\",train)\n",
    "train.insert(0,'동빈')\n",
    "print(\"대전역도착, //\",train)\n",
    "train.sort()\n",
    "print(\"부산역 도착, //\",train)"
   ]
  },
  {
   "cell_type": "code",
   "execution_count": null,
   "id": "f1de5ba7",
   "metadata": {},
   "outputs": [],
   "source": [
    "#2-4 practice"
   ]
  },
  {
   "cell_type": "code",
   "execution_count": 55,
   "id": "c1d1b934",
   "metadata": {},
   "outputs": [
    {
     "data": {
      "text/plain": [
       "['Linux', 'macOS', 'Windows']"
      ]
     },
     "execution_count": 55,
     "metadata": {},
     "output_type": "execute_result"
    }
   ],
   "source": [
    "a=['Windows','macOS','Linux']\n",
    "a.reverse()\n",
    "a"
   ]
  },
  {
   "cell_type": "code",
   "execution_count": 57,
   "id": "3dfb1b98",
   "metadata": {},
   "outputs": [
    {
     "data": {
      "text/plain": [
       "['Python', 'Java', 'Ruby', 'C']"
      ]
     },
     "execution_count": 57,
     "metadata": {},
     "output_type": "execute_result"
    }
   ],
   "source": [
    "b=['Python','Java','C++','Ruby','C']\n",
    "b.pop(2)\n",
    "b"
   ]
  },
  {
   "cell_type": "code",
   "execution_count": null,
   "id": "acc0d0e3",
   "metadata": {},
   "outputs": [],
   "source": []
  },
  {
   "cell_type": "markdown",
   "id": "a0d7a317",
   "metadata": {},
   "source": []
  },
  {
   "cell_type": "markdown",
   "id": "78cc2009",
   "metadata": {},
   "source": [
    "## 2021-06-30 practice"
   ]
  },
  {
   "cell_type": "markdown",
   "id": "f54e8348",
   "metadata": {},
   "source": [
    "### 2-5 practice"
   ]
  },
  {
   "cell_type": "code",
   "execution_count": 16,
   "id": "884bdc5c",
   "metadata": {},
   "outputs": [
    {
     "name": "stdout",
     "output_type": "stream",
     "text": [
      "Elli\n",
      "None\n",
      "37\n"
     ]
    },
    {
     "data": {
      "text/plain": [
       "'age'"
      ]
     },
     "execution_count": 16,
     "metadata": {},
     "output_type": "execute_result"
    }
   ],
   "source": [
    "my_dict={'name':'Elli','age':37}\n",
    "print(my_dict.get('name'))\n",
    "print(my_dict.get('nokey'))\n",
    "print(my_dict.get('age'))\n",
    "list(my_dict.keys()).pop()"
   ]
  },
  {
   "cell_type": "code",
   "execution_count": 15,
   "id": "cb561e86",
   "metadata": {},
   "outputs": [
    {
     "data": {
      "text/plain": [
       "{'name': 'Eile', 'age': 37, 'address': 'Downtown'}"
      ]
     },
     "execution_count": 15,
     "metadata": {},
     "output_type": "execute_result"
    }
   ],
   "source": [
    "my_dict={'name':'Eile','age':37}\n",
    "my_dict['address']='Downtown'\n",
    "my_dict"
   ]
  },
  {
   "cell_type": "code",
   "execution_count": null,
   "id": "378305cf",
   "metadata": {},
   "outputs": [],
   "source": []
  },
  {
   "cell_type": "markdown",
   "id": "b2b30184",
   "metadata": {},
   "source": [
    "### 2-6 pracitce"
   ]
  },
  {
   "cell_type": "code",
   "execution_count": 23,
   "id": "aa635879",
   "metadata": {},
   "outputs": [
    {
     "name": "stdout",
     "output_type": "stream",
     "text": [
      "{1, 3}\n",
      "{1, 2, 3}\n",
      "{1, 2, 3, 4}\n",
      "{1, 2, 3, 4, 5, 6, 8}\n"
     ]
    }
   ],
   "source": [
    "my_set={1,3}\n",
    "print(my_set)\n",
    "my_set.add(2)\n",
    "print(my_set)\n",
    "my_set.add(4)\n",
    "print(my_set)\n",
    "my_set.update([5,6,8])\n",
    "print(my_set)"
   ]
  },
  {
   "cell_type": "code",
   "execution_count": 30,
   "id": "221db9fe",
   "metadata": {},
   "outputs": [
    {
     "name": "stdout",
     "output_type": "stream",
     "text": [
      "{1, 2, 3, 4, 5, 6, 7, 8}\n",
      "{4, 5}\n",
      "{1, 2, 3}\n"
     ]
    }
   ],
   "source": [
    "A={1,2,3,4,5}\n",
    "B={4,5,6,7,8}\n",
    "print(A|B)\n",
    "print(A&B)\n",
    "print(A-B)"
   ]
  },
  {
   "cell_type": "code",
   "execution_count": null,
   "id": "c25d2999",
   "metadata": {},
   "outputs": [],
   "source": []
  },
  {
   "cell_type": "markdown",
   "id": "c6a5defa",
   "metadata": {},
   "source": [
    "### 3-1 practice"
   ]
  },
  {
   "cell_type": "code",
   "execution_count": 33,
   "id": "51e99247",
   "metadata": {},
   "outputs": [
    {
     "name": "stdout",
     "output_type": "stream",
     "text": [
      "b is greater than a\n"
     ]
    }
   ],
   "source": [
    "a=33\n",
    "b=200\n",
    "if(b>a):\n",
    "    print(\"b is greater than a\")\n",
    "else:\n",
    "    print(\"NOPE\")"
   ]
  },
  {
   "cell_type": "code",
   "execution_count": 35,
   "id": "56fcdb77",
   "metadata": {},
   "outputs": [
    {
     "name": "stdout",
     "output_type": "stream",
     "text": [
      "a and b are equal\n"
     ]
    }
   ],
   "source": [
    "a=33\n",
    "b=33\n",
    "if(b>a):\n",
    "    print(\"b is greater than a\")\n",
    "elif(a==b):\n",
    "    print(\"a and b are equal\")"
   ]
  },
  {
   "cell_type": "code",
   "execution_count": 36,
   "id": "eae7edb1",
   "metadata": {},
   "outputs": [
    {
     "name": "stdout",
     "output_type": "stream",
     "text": [
      "a is greater than b\n"
     ]
    }
   ],
   "source": [
    "a=200\n",
    "b=33\n",
    "if(b>a):\n",
    "    print(\"b is greater than a\")\n",
    "elif(a==b):\n",
    "    print(\"a and b are equal\")\n",
    "else:\n",
    "    print(\"a is greater than b\")"
   ]
  },
  {
   "cell_type": "code",
   "execution_count": 41,
   "id": "aac515cf",
   "metadata": {},
   "outputs": [
    {
     "name": "stdout",
     "output_type": "stream",
     "text": [
      "Both conditions are True\n"
     ]
    }
   ],
   "source": [
    "a=200\n",
    "b=33\n",
    "c=500\n",
    "if(a>b and c>a):\n",
    "    print(\"Both conditions are True\")"
   ]
  },
  {
   "cell_type": "code",
   "execution_count": 42,
   "id": "1c8f4d44",
   "metadata": {},
   "outputs": [
    {
     "name": "stdout",
     "output_type": "stream",
     "text": [
      "At leaet one of the conditions is True\n"
     ]
    }
   ],
   "source": [
    "a=200\n",
    "b=33\n",
    "c=500\n",
    "if(a>b or a>c):\n",
    "    print(\"At leaet one of the conditions is True\")"
   ]
  },
  {
   "cell_type": "code",
   "execution_count": null,
   "id": "8d387542",
   "metadata": {},
   "outputs": [],
   "source": []
  },
  {
   "cell_type": "markdown",
   "id": "5c06540d",
   "metadata": {},
   "source": [
    "### 3-2 practice"
   ]
  },
  {
   "cell_type": "code",
   "execution_count": 49,
   "id": "72eb36bf",
   "metadata": {},
   "outputs": [
    {
     "name": "stdout",
     "output_type": "stream",
     "text": [
      "apple\n",
      "banana\n",
      "cherry\n"
     ]
    }
   ],
   "source": [
    "Fruits=[\"apple\",\"banana\",\"cherry\"]\n",
    "for i in range(0,3):\n",
    "    print(Fruits[i])"
   ]
  },
  {
   "cell_type": "code",
   "execution_count": 47,
   "id": "1f099ba1",
   "metadata": {},
   "outputs": [
    {
     "name": "stdout",
     "output_type": "stream",
     "text": [
      "banana break\n"
     ]
    }
   ],
   "source": [
    "Fruits=[\"apple\",\"banana\",\"cherry\"]\n",
    "for i in range(0,3):\n",
    "    if(Fruits[i]==\"banana\"):\n",
    "        print(\"banana break\")\n",
    "        break"
   ]
  },
  {
   "cell_type": "markdown",
   "id": "a85eb400",
   "metadata": {},
   "source": [
    "?? 타입이 리스트내포를 사용하면 리스트로 나오고\n",
    "일반 for문을 사용하면 요소로 나오는가?\n",
    "그렇다면 추후에 이 데이터를 사용하기 위해서는 리스트내포를 사용하는것이 좋은것인가?\n",
    "\n",
    "리스트 내포는 새로운 리스트를 선언하는 경우에만 가능한 것인가?\n",
    "\n",
    "for문을 사용하는 경우에 a에서 다른 리스트로 옮기는 경우만 사용하는 건가?\n",
    "자른다고 생각하면 안되는 건가?"
   ]
  },
  {
   "cell_type": "code",
   "execution_count": 58,
   "id": "843d415a",
   "metadata": {},
   "outputs": [
    {
     "name": "stdout",
     "output_type": "stream",
     "text": [
      "h\n",
      "u\n",
      "m\n",
      "a\n",
      "n\n"
     ]
    }
   ],
   "source": [
    "a=\"human\"\n",
    "for i in range(0,len(a)):\n",
    "    print(a[i])"
   ]
  },
  {
   "cell_type": "code",
   "execution_count": 55,
   "id": "df84924d",
   "metadata": {},
   "outputs": [
    {
     "name": "stdout",
     "output_type": "stream",
     "text": [
      "['h', 'u', 'm', 'a', 'n']\n"
     ]
    }
   ],
   "source": [
    "a=\"human\"\n",
    "result=[a[i] for i in range(0,len(a))]\n",
    "print(result)"
   ]
  },
  {
   "cell_type": "code",
   "execution_count": null,
   "id": "040f5649",
   "metadata": {},
   "outputs": [],
   "source": []
  },
  {
   "cell_type": "code",
   "execution_count": 94,
   "id": "b6fb2d02",
   "metadata": {},
   "outputs": [
    {
     "name": "stdout",
     "output_type": "stream",
     "text": [
      "['human', 'nice']\n"
     ]
    }
   ],
   "source": [
    "result1=[\"human\"]\n",
    "result2=\"nice\"\n",
    "result=[result1.append(result2) for i in range(0,len(result1))]\n",
    "print(result1)"
   ]
  },
  {
   "cell_type": "code",
   "execution_count": null,
   "id": "b89256ea",
   "metadata": {},
   "outputs": [],
   "source": []
  },
  {
   "cell_type": "code",
   "execution_count": 85,
   "id": "9ad81898",
   "metadata": {
    "lines_to_next_cell": 2
   },
   "outputs": [
    {
     "name": "stdout",
     "output_type": "stream",
     "text": [
      "0\n",
      "2\n",
      "4\n",
      "6\n",
      "8\n",
      "10\n",
      "12\n",
      "14\n",
      "16\n",
      "18\n"
     ]
    }
   ],
   "source": [
    "for i in range(20):\n",
    "    if(i%2==0):\n",
    "        print(i)"
   ]
  },
  {
   "cell_type": "code",
   "execution_count": 56,
   "id": "3fc10183",
   "metadata": {},
   "outputs": [
    {
     "name": "stdout",
     "output_type": "stream",
     "text": [
      "[0, 2, 4, 6, 8, 10, 12, 14, 16, 18]\n"
     ]
    }
   ],
   "source": [
    "result=[i for i in range(20) if(i%2==0)]\n",
    "print(result)"
   ]
  },
  {
   "cell_type": "code",
   "execution_count": 63,
   "id": "ab990fb0",
   "metadata": {},
   "outputs": [
    {
     "name": "stdout",
     "output_type": "stream",
     "text": [
      "[0, 10, 20, 30, 40, 50, 60, 70, 80, 90]\n"
     ]
    }
   ],
   "source": [
    "result=[i for i in range(100)if(i%2==0 and i%5==0)]\n",
    "print(result)"
   ]
  },
  {
   "cell_type": "code",
   "execution_count": null,
   "id": "ddab8b29",
   "metadata": {},
   "outputs": [],
   "source": []
  },
  {
   "cell_type": "markdown",
   "id": "c5118633",
   "metadata": {},
   "source": [
    "### 4-1 practice"
   ]
  },
  {
   "cell_type": "code",
   "execution_count": 127,
   "id": "e73477e2",
   "metadata": {},
   "outputs": [
    {
     "name": "stdout",
     "output_type": "stream",
     "text": [
      "Current letter : t\n",
      "Current letter : h\n",
      "Current letter : r\n",
      "Current letter : t\n",
      "Current letter : h\n",
      "Current letter : r\n"
     ]
    }
   ],
   "source": [
    "def check(a,i):\n",
    "    if(a[i]!='e' and a[i]!='s'):\n",
    "         return print(\"Current letter : \" + a[i])\n",
    "a='estheresther'\n",
    "for x in range(len(a)):\n",
    "    check(a,x)"
   ]
  },
  {
   "cell_type": "code",
   "execution_count": 111,
   "id": "2ca43809",
   "metadata": {},
   "outputs": [
    {
     "name": "stdout",
     "output_type": "stream",
     "text": [
      "b is greater than a\n"
     ]
    }
   ],
   "source": [
    "def check(a,b):\n",
    "    if(b>a):\n",
    "        print(\"b is greater than a\")\n",
    "check(a=33,b=200)"
   ]
  },
  {
   "cell_type": "code",
   "execution_count": 116,
   "id": "e40ee019",
   "metadata": {},
   "outputs": [
    {
     "name": "stdout",
     "output_type": "stream",
     "text": [
      "a and b are equal\n"
     ]
    }
   ],
   "source": [
    "def check(a,b):\n",
    "    if(b>a):\n",
    "        print(\"b is greater than a\")\n",
    "    elif(a==b):\n",
    "        print(\"a and b are equal\")\n",
    "        \n",
    "check(a=33,b=33)"
   ]
  },
  {
   "cell_type": "code",
   "execution_count": 113,
   "id": "2f2b3bf9",
   "metadata": {},
   "outputs": [
    {
     "name": "stdout",
     "output_type": "stream",
     "text": [
      "a is greater than b\n"
     ]
    }
   ],
   "source": [
    "def check(a,b):\n",
    "    if(b>a):\n",
    "        print(\"b is greater than a\")\n",
    "    elif(a==b):\n",
    "        print(\"a and b are equal\")\n",
    "    else:\n",
    "        print(\"a is greater than b\")\n",
    "check(a=200,b=33)"
   ]
  },
  {
   "cell_type": "code",
   "execution_count": 114,
   "id": "571328b2",
   "metadata": {},
   "outputs": [
    {
     "name": "stdout",
     "output_type": "stream",
     "text": [
      "Both conditions are True\n"
     ]
    }
   ],
   "source": [
    "def check(a,b,c):\n",
    "    if(a>b and c>a):\n",
    "        print(\"Both conditions are True\")\n",
    "check(200,33,500)"
   ]
  },
  {
   "cell_type": "code",
   "execution_count": 120,
   "id": "beddd934",
   "metadata": {},
   "outputs": [
    {
     "name": "stdout",
     "output_type": "stream",
     "text": [
      "At least one of the conditions is True\n"
     ]
    }
   ],
   "source": [
    "def check(a,b,c):\n",
    "    if(a>b or a>c):\n",
    "        print(\"At least one of the conditions is True\")\n",
    "check(200,33,500)"
   ]
  },
  {
   "cell_type": "code",
   "execution_count": 119,
   "id": "5abec730",
   "metadata": {},
   "outputs": [
    {
     "name": "stdout",
     "output_type": "stream",
     "text": [
      "apple\n",
      "banana\n",
      "cherry\n"
     ]
    }
   ],
   "source": [
    "def check(a):\n",
    "    for i in range(len(a)):\n",
    "        print(a[i])\n",
    "    \n",
    "a=[\"apple\",\"banana\",\"cherry\"]\n",
    "check(a)"
   ]
  },
  {
   "cell_type": "code",
   "execution_count": 141,
   "id": "58b44d84",
   "metadata": {},
   "outputs": [
    {
     "data": {
      "text/plain": [
       "['apple', 'cherry']"
      ]
     },
     "execution_count": 141,
     "metadata": {},
     "output_type": "execute_result"
    }
   ],
   "source": [
    "def check(a):\n",
    "    result=[a[i] for i in range(len(a)) if(a[i]!='banana')]\n",
    "    return result\n",
    "a=[\"apple\",\"banana\",\"cherry\"]\n",
    "check(a)"
   ]
  },
  {
   "cell_type": "code",
   "execution_count": 140,
   "id": "794b22df",
   "metadata": {},
   "outputs": [
    {
     "data": {
      "text/plain": [
       "['h', 'u', 'm', 'a', 'n']"
      ]
     },
     "execution_count": 140,
     "metadata": {},
     "output_type": "execute_result"
    }
   ],
   "source": [
    "def check(a):\n",
    "    result=[a[i] for i in range(len(a))]\n",
    "    return result\n",
    "a=\"human\"\n",
    "check(a)"
   ]
  },
  {
   "cell_type": "code",
   "execution_count": null,
   "id": "9e11d49c",
   "metadata": {},
   "outputs": [],
   "source": []
  },
  {
   "cell_type": "markdown",
   "id": "8c7e8036",
   "metadata": {},
   "source": [
    "## 2021-07-01 practice"
   ]
  },
  {
   "cell_type": "markdown",
   "id": "e281fdba",
   "metadata": {},
   "source": [
    "### 4-1 practice"
   ]
  },
  {
   "cell_type": "code",
   "execution_count": 1,
   "id": "f5a02de4",
   "metadata": {},
   "outputs": [
    {
     "data": {
      "text/plain": [
       "20"
      ]
     },
     "execution_count": 1,
     "metadata": {},
     "output_type": "execute_result"
    }
   ],
   "source": [
    "x=lambda a : a+10\n",
    "result=x(10)\n",
    "result"
   ]
  },
  {
   "cell_type": "code",
   "execution_count": 2,
   "id": "e0df0687",
   "metadata": {},
   "outputs": [
    {
     "data": {
      "text/plain": [
       "100"
      ]
     },
     "execution_count": 2,
     "metadata": {},
     "output_type": "execute_result"
    }
   ],
   "source": [
    "test= lambda a,b : a*b\n",
    "result=test(10,10)\n",
    "result"
   ]
  },
  {
   "cell_type": "code",
   "execution_count": 3,
   "id": "7c5e191f",
   "metadata": {},
   "outputs": [
    {
     "data": {
      "text/plain": [
       "6"
      ]
     },
     "execution_count": 3,
     "metadata": {},
     "output_type": "execute_result"
    }
   ],
   "source": [
    "test=lambda a,b,c: a+b+c\n",
    "result=test(1,2,3)\n",
    "result"
   ]
  },
  {
   "cell_type": "code",
   "execution_count": 10,
   "id": "c1e85873",
   "metadata": {},
   "outputs": [
    {
     "data": {
      "text/plain": [
       "64"
      ]
     },
     "execution_count": 10,
     "metadata": {},
     "output_type": "execute_result"
    }
   ],
   "source": [
    "test=lambda a:a**3 if a%2==0 else a**2\n",
    "result=test(4)\n",
    "result"
   ]
  },
  {
   "cell_type": "code",
   "execution_count": 13,
   "id": "558e1fb2",
   "metadata": {},
   "outputs": [
    {
     "data": {
      "text/plain": [
       "9"
      ]
     },
     "execution_count": 13,
     "metadata": {},
     "output_type": "execute_result"
    }
   ],
   "source": [
    "test=lambda a: a**3 if a%2==0 else (a**4 if a%3==1 else a**2)\n",
    "result=test(3)\n",
    "result"
   ]
  },
  {
   "cell_type": "code",
   "execution_count": null,
   "id": "6ffc7a12",
   "metadata": {},
   "outputs": [],
   "source": []
  },
  {
   "cell_type": "markdown",
   "id": "b83171a3",
   "metadata": {},
   "source": [
    "### 4-2 practice"
   ]
  },
  {
   "cell_type": "code",
   "execution_count": 14,
   "id": "9fe269d4",
   "metadata": {},
   "outputs": [
    {
     "name": "stdout",
     "output_type": "stream",
     "text": [
      "Hi\n"
     ]
    }
   ],
   "source": [
    "a=input()"
   ]
  },
  {
   "cell_type": "code",
   "execution_count": 15,
   "id": "f3edde17",
   "metadata": {},
   "outputs": [
    {
     "data": {
      "text/plain": [
       "'Hi'"
      ]
     },
     "execution_count": 15,
     "metadata": {},
     "output_type": "execute_result"
    }
   ],
   "source": [
    "a"
   ]
  },
  {
   "cell_type": "code",
   "execution_count": 45,
   "id": "5cbfa8c5",
   "metadata": {},
   "outputs": [
    {
     "name": "stdout",
     "output_type": "stream",
     "text": [
      "2\n",
      "4\n",
      "8\n"
     ]
    }
   ],
   "source": [
    "a=input()\n",
    "b=input()\n",
    "test=lambda a,b: a*b\n",
    "x=int(float(a))\n",
    "y=int(float(b))\n",
    "print(test(x,y))"
   ]
  },
  {
   "cell_type": "code",
   "execution_count": 6,
   "id": "e7235985",
   "metadata": {},
   "outputs": [
    {
     "name": "stdout",
     "output_type": "stream",
     "text": [
      "4\n",
      "5\n",
      "기호를 입력하시오:+\n",
      "9\n"
     ]
    }
   ],
   "source": [
    "a=input()\n",
    "b=input()\n",
    "x=input(\"기호를 입력하시오:\")\n",
    "\n",
    "p=int(float(a))\n",
    "y=int(float(b))\n",
    "\n",
    "if(x==\"*\"):\n",
    "    print(p*y)\n",
    "elif(x==\"%\"):\n",
    "    print(p%y)\n",
    "elif(x==\"/\"):\n",
    "    print(p/y)\n",
    "elif(x==\"+\"):\n",
    "    print(p+y)\n",
    "elif(x==\"-\"):\n",
    "    print(p-y)\n",
    "else:\n",
    "    print(\"오류\")"
   ]
  },
  {
   "cell_type": "code",
   "execution_count": 9,
   "id": "3fbeda6f",
   "metadata": {},
   "outputs": [
    {
     "name": "stdout",
     "output_type": "stream",
     "text": [
      "['sohyun', 'jayoung', 'miyoung', 'jihyun', 'heeyoung']\n",
      "이름을 입력하세요: 1\n",
      "5\n",
      "생일, 전화번호, 나이, 성별을 입력하세요 : 1\n",
      "1\n"
     ]
    }
   ],
   "source": [
    "user_list=[\"sohyun\",\"jayoung\",\"miyoung\",\"jihyun\",\"heeyoung\"]\n",
    "print(user_list)\n",
    "person=input(\"이름을 입력하세요: \")\n",
    "x=len(user_list)\n",
    "print(x)\n",
    "for i in range(x):\n",
    "    if(user_list[i]==person):\n",
    "        del user_list[i]\n",
    "        x-=1\n",
    "while(x>1):\n",
    "    person2=input(\"생일, 전화번호, 나이, 성별을 입력하세요 : \")\n",
    "    print(person2)\n",
    "    break"
   ]
  },
  {
   "cell_type": "code",
   "execution_count": null,
   "id": "a5f1d24d",
   "metadata": {},
   "outputs": [],
   "source": []
  },
  {
   "cell_type": "markdown",
   "id": "ca886b9a",
   "metadata": {},
   "source": [
    "### 4-3 practice"
   ]
  },
  {
   "cell_type": "code",
   "execution_count": 44,
   "id": "37a8468c",
   "metadata": {},
   "outputs": [
    {
     "name": "stdout",
     "output_type": "stream",
     "text": [
      "this is first line \n"
     ]
    }
   ],
   "source": [
    "f= open(\"C:/Users/user/Desktop/데청캠/Pythontest/testfile.txt\",\"w\")\n",
    "f.write(input())\n",
    "f.close()"
   ]
  },
  {
   "cell_type": "code",
   "execution_count": 23,
   "id": "1bbf9064",
   "metadata": {},
   "outputs": [
    {
     "name": "stdout",
     "output_type": "stream",
     "text": [
      "this is first line\n"
     ]
    }
   ],
   "source": [
    "with open(\"C:/Users/user/Desktop/데청캠/Pythontest/testfile.txt\",\"w\") as f:\n",
    "    f.write(input())\n",
    "f.close()"
   ]
  },
  {
   "cell_type": "code",
   "execution_count": 37,
   "id": "7e7d4bc2",
   "metadata": {},
   "outputs": [
    {
     "name": "stdout",
     "output_type": "stream",
     "text": [
      "this is added line\n",
      "this is first line\n",
      "this is second line\n",
      "this is third line\n",
      "this is forth line\n",
      "this is fifth line\n"
     ]
    }
   ],
   "source": [
    "f= open(\"C:/Users/user/Desktop/데청캠/Pythontest/test.txt\",\"a\")\n",
    "f.write(input())\n",
    "print(\"Update File\")\n",
    "f2=open(\"C:/Users/user/Desktop/데청캠/Pythontest/test.txt\",\"r\")\n",
    "data=f2.read()\n",
    "print(data)\n",
    "f.close()\n",
    "f2.close()"
   ]
  },
  {
   "cell_type": "code",
   "execution_count": 45,
   "id": "0cfa22d6",
   "metadata": {},
   "outputs": [
    {
     "name": "stdout",
     "output_type": "stream",
     "text": [
      "Hi\n",
      "Update File\n",
      "this is first line\n",
      "this is second line\n",
      "this is third line\n",
      "this is forth line\n",
      "this is fifth line\n",
      "this is added line\n",
      "Hi\n"
     ]
    }
   ],
   "source": [
    "with open(\"C:/Users/user/Desktop/데청캠/Pythontest/test.txt\",\"a\") as f2:\n",
    "    f2.write(input())\n",
    "print(\"Update File\")\n",
    "with open(\"C:/Users/user/Desktop/데청캠/Pythontest/test.txt\",\"r\") as f:\n",
    "    data=f.read()\n",
    "print(data)\n",
    "f.close()"
   ]
  },
  {
   "cell_type": "code",
   "execution_count": null,
   "id": "1c299d9f",
   "metadata": {},
   "outputs": [],
   "source": []
  },
  {
   "cell_type": "markdown",
   "id": "120d6472",
   "metadata": {},
   "source": [
    "### 5-1 practice"
   ]
  },
  {
   "cell_type": "code",
   "execution_count": 47,
   "id": "1e5eeab9",
   "metadata": {
    "scrolled": true
   },
   "outputs": [
    {
     "name": "stdout",
     "output_type": "stream",
     "text": [
      "8\n",
      "2.0\n",
      "2\n",
      "6\n"
     ]
    }
   ],
   "source": [
    "class FourCal:\n",
    "    def setdata(self,first,second):\n",
    "        self.first=first\n",
    "        self.second=second\n",
    "    def add(self):\n",
    "        result=self.first+self.second\n",
    "        return result\n",
    "    def mul(self):\n",
    "        result=self.first*self.second\n",
    "        return result\n",
    "    def sub(self):\n",
    "        result=self.first-self.second\n",
    "        return result\n",
    "    def div(self):\n",
    "        result=self.first/self.second\n",
    "        return result\n",
    "    \n",
    "a=FourCal()\n",
    "a.setdata(4,2)\n",
    "print(a.mul())\n",
    "print(a.div())\n",
    "print(a.sub())\n",
    "print(a.add())"
   ]
  },
  {
   "cell_type": "code",
   "execution_count": 49,
   "id": "4024b3ba",
   "metadata": {
    "lines_to_next_cell": 0
   },
   "outputs": [
    {
     "name": "stdout",
     "output_type": "stream",
     "text": [
      "8\n",
      "2.0\n",
      "2\n",
      "6\n"
     ]
    }
   ],
   "source": [
    "class FourCal:\n",
    "    def __init__(self,first,second):\n",
    "        self.first=first\n",
    "        self.second=second\n",
    "    def add(self):\n",
    "        result=self.first+self.second\n",
    "        return result\n",
    "    def mul(self):\n",
    "        result=self.first*self.second\n",
    "        return result\n",
    "    def sub(self):\n",
    "        result=self.first-self.second\n",
    "        return result\n",
    "    def div(self):\n",
    "        result=self.first/self.second\n",
    "        return result\n",
    "    \n",
    "a=FourCal(4,2)\n",
    "print(a.mul())\n",
    "print(a.div())\n",
    "print(a.sub())\n",
    "print(a.add())"
   ]
  },
  {
   "cell_type": "code",
   "execution_count": 3,
   "id": "16f0eb9b",
   "metadata": {},
   "outputs": [
    {
     "data": {
      "text/plain": [
       "11"
      ]
     },
     "execution_count": 3,
     "metadata": {},
     "output_type": "execute_result"
    }
   ],
   "source": [
    "class FourCal:\n",
    "    def __init__(self,first,second):\n",
    "        self.first=first\n",
    "        self.second=second\n",
    "    def add(self):\n",
    "        result=self.first+self.second\n",
    "        return result\n",
    "    def mul(self):\n",
    "        result=self.first*self.second\n",
    "        return result\n",
    "    def sub(self):\n",
    "        result=self.first-self.second\n",
    "        return result\n",
    "    def div(self):\n",
    "        result=self.first/self.second\n",
    "        return result\n",
    "    \n",
    "#상속\n",
    "class MoreFourCal(FourCal):\n",
    "    pass\n",
    "c=MoreFourCal(5,6)\n",
    "c.add()"
   ]
  },
  {
   "cell_type": "markdown",
   "id": "3d104f51",
   "metadata": {},
   "source": [
    "## 2021-07-02 practice"
   ]
  },
  {
   "cell_type": "markdown",
   "id": "be56f924",
   "metadata": {},
   "source": [
    "### 연습문제 1"
   ]
  },
  {
   "cell_type": "code",
   "execution_count": 16,
   "id": "f7afa1c1",
   "metadata": {},
   "outputs": [
    {
     "name": "stdout",
     "output_type": "stream",
     "text": [
      "re$tart\n"
     ]
    }
   ],
   "source": [
    "#1\n",
    "def change(b):\n",
    "    return b.replace(\"s\",\"$\")\n",
    "    \n",
    "\n",
    "a=\"restart\"\n",
    "#print(b)\n",
    "print(change(a))"
   ]
  },
  {
   "cell_type": "code",
   "execution_count": 72,
   "id": "5d93a8b7",
   "metadata": {},
   "outputs": [
    {
     "name": "stdout",
     "output_type": "stream",
     "text": [
      "y\n",
      "h\n",
      "n\n"
     ]
    }
   ],
   "source": [
    "#2\n",
    "def change(a):\n",
    "    for i in range(len(a)):\n",
    "        if(i%2!=0):\n",
    "            print(a[i])\n",
    "        \n",
    "a=\"python\"\n",
    "change(a)"
   ]
  },
  {
   "cell_type": "code",
   "execution_count": 73,
   "id": "ad331490",
   "metadata": {},
   "outputs": [
    {
     "name": "stdout",
     "output_type": "stream",
     "text": [
      "good?\n",
      "[1, 'pineapple']\n"
     ]
    }
   ],
   "source": [
    "#3\n",
    "def change(a):\n",
    "    print(a[1][1][2])\n",
    "    print(a[2])\n",
    "    \n",
    "    \n",
    "a=[3,['a',['Life','is','good?']],[1,\"pineapple\"],\"pear\"]\n",
    "change(a)"
   ]
  },
  {
   "cell_type": "code",
   "execution_count": 128,
   "id": "d96ec6ab",
   "metadata": {},
   "outputs": [
    {
     "name": "stdout",
     "output_type": "stream",
     "text": [
      "[2, 4, 5]\n"
     ]
    }
   ],
   "source": [
    "#4\n",
    "def input2(a,b,i):\n",
    "   b.append(a[i])\n",
    "    \n",
    "a=[1,2,3,4,5]\n",
    "b=[]\n",
    "input2(a,b,1)\n",
    "input2(a,b,3)\n",
    "input2(a,b,4)\n",
    "print(b)"
   ]
  },
  {
   "cell_type": "code",
   "execution_count": 85,
   "id": "fd3f8834",
   "metadata": {},
   "outputs": [
    {
     "name": "stdout",
     "output_type": "stream",
     "text": [
      "[[1, 2], 'Windows', 'Ubuntu']\n"
     ]
    }
   ],
   "source": [
    "#5\n",
    "Systems=['Ubuntu',\"Windows\",[1,2]]\n",
    "Systems.reverse()\n",
    "print(Systems)"
   ]
  },
  {
   "cell_type": "code",
   "execution_count": 34,
   "id": "ac367d86",
   "metadata": {},
   "outputs": [
    {
     "name": "stdout",
     "output_type": "stream",
     "text": [
      "['Python', 'Java', 'C++', 'C']\n"
     ]
    }
   ],
   "source": [
    "#6\n",
    "Sample_list=['Python','Java',[1,3],'C++','C']\n",
    "Sample_list.pop(2)\n",
    "print(Sample_list)"
   ]
  },
  {
   "cell_type": "code",
   "execution_count": 88,
   "id": "b9cb06dd",
   "metadata": {},
   "outputs": [
    {
     "name": "stdout",
     "output_type": "stream",
     "text": [
      "name\n",
      "tony\n",
      "age\n",
      "40\n"
     ]
    }
   ],
   "source": [
    "#7\n",
    "def output():\n",
    "        my_keys=list(my_dict.keys())\n",
    "        print(my_keys[0])\n",
    "        print(my_dict['name'])\n",
    "        print(my_keys[1])\n",
    "        print(my_dict['age'])\n",
    "    \n",
    "my_dict={'name':'tony','age':40}\n",
    "output()"
   ]
  },
  {
   "cell_type": "code",
   "execution_count": 132,
   "id": "7b0f91fe",
   "metadata": {},
   "outputs": [
    {
     "name": "stdout",
     "output_type": "stream",
     "text": [
      "{'name': 'Tony', 'age': 40, 'address': 'Suwon', 'postal code': '4130'}\n"
     ]
    }
   ],
   "source": [
    "#8\n",
    "def input2(my_dict,key,value):\n",
    "    my_dict[key]=value\n",
    "\n",
    "my_dict={'name':'Tony','age':40}\n",
    "input2(my_dict,'address','Suwon')\n",
    "input2(my_dict,'postal code','4130')\n",
    "print(my_dict)"
   ]
  },
  {
   "cell_type": "code",
   "execution_count": 65,
   "id": "c4c8fe96",
   "metadata": {},
   "outputs": [
    {
     "name": "stdout",
     "output_type": "stream",
     "text": [
      "b is greater than a\n"
     ]
    }
   ],
   "source": [
    "#9\n",
    "if b>a :\n",
    "    print(\"b is greater than a\")\n",
    "a=33\n",
    "b=50"
   ]
  },
  {
   "cell_type": "code",
   "execution_count": 90,
   "id": "30769b01",
   "metadata": {},
   "outputs": [
    {
     "name": "stdout",
     "output_type": "stream",
     "text": [
      "s\n",
      "c\n",
      "h\n",
      "o\n",
      "o\n",
      "l\n"
     ]
    }
   ],
   "source": [
    "#10\n",
    "a='school'\n",
    "for i in range(len(a)):\n",
    "    print(a[i])"
   ]
  },
  {
   "cell_type": "code",
   "execution_count": 68,
   "id": "585dff87",
   "metadata": {},
   "outputs": [
    {
     "name": "stdout",
     "output_type": "stream",
     "text": [
      "['s', 'c', 'h', 'o', 'o', 'l']\n"
     ]
    }
   ],
   "source": [
    "#10-2\n",
    "a='school'\n",
    "test=[a[i] for i in range(len(a))]\n",
    "print(test)"
   ]
  },
  {
   "cell_type": "code",
   "execution_count": 95,
   "id": "44d95bbb",
   "metadata": {},
   "outputs": [
    {
     "name": "stdout",
     "output_type": "stream",
     "text": [
      "1을 출력합니다\n",
      "2을 출력합니다\n",
      "3을 출력합니다\n",
      "4을 출력합니다\n",
      "5을 출력합니다\n",
      "6을 출력합니다\n",
      "7을 출력합니다\n",
      "8을 출력합니다\n",
      "9을 출력합니다\n",
      "10을 출력합니다\n"
     ]
    }
   ],
   "source": [
    "#11\n",
    "def output(x):\n",
    "    for i in range(1,x+1):\n",
    "        #print(i+1)\n",
    "        print(f\"%d을 출력합니다\"%i)\n",
    "output(10)"
   ]
  },
  {
   "cell_type": "code",
   "execution_count": 84,
   "id": "88ded46c",
   "metadata": {},
   "outputs": [
    {
     "name": "stdout",
     "output_type": "stream",
     "text": [
      "t\n",
      "h\n",
      "r\n",
      "t\n",
      "h\n",
      "r\n"
     ]
    }
   ],
   "source": [
    "#12\n",
    "def check(a):\n",
    "    for i in range(len(a)):\n",
    "        if(a[i]!=\"e\" and a[i]!=\"s\"):\n",
    "            print(a[i])\n",
    "a=\"estheresther\"\n",
    "check(a)"
   ]
  },
  {
   "cell_type": "code",
   "execution_count": null,
   "id": "e2fc2624",
   "metadata": {},
   "outputs": [],
   "source": []
  },
  {
   "cell_type": "markdown",
   "id": "0f2962a6",
   "metadata": {},
   "source": [
    "### 5-4 예외 처리 실습"
   ]
  },
  {
   "cell_type": "code",
   "execution_count": 139,
   "id": "7de47adf",
   "metadata": {
    "lines_to_next_cell": 0
   },
   "outputs": [
    {
     "name": "stdout",
     "output_type": "stream",
     "text": [
      "1.1111111111111112\n",
      "1.4285714285714286\n",
      "division by zero\n"
     ]
    }
   ],
   "source": [
    "ex_lst=[9,7,0,0,1]\n",
    "\n",
    "try:\n",
    "    for i in ex_lst:\n",
    "        print(10/i)\n",
    "except ZeroDivisionError as e:\n",
    "    print(e)\n",
    "except IndexError as e:\n",
    "    print(e)\n"
   ]
  },
  {
   "cell_type": "code",
   "execution_count": null,
   "id": "d769e046",
   "metadata": {},
   "outputs": [],
   "source": []
  },
  {
   "cell_type": "markdown",
   "id": "90c94528",
   "metadata": {
    "lines_to_next_cell": 2
   },
   "source": [
    "# 과제"
   ]
  },
  {
   "cell_type": "code",
   "execution_count": 142,
   "id": "bab349e8",
   "metadata": {},
   "outputs": [
    {
     "name": "stdout",
     "output_type": "stream",
     "text": [
      "hello world\n"
     ]
    }
   ],
   "source": [
    "def my_function():\n",
    "    print(\"hello world\")\n",
    "my_function()"
   ]
  },
  {
   "cell_type": "code",
   "execution_count": null,
   "id": "c1ecf30f",
   "metadata": {},
   "outputs": [],
   "source": []
  },
  {
   "cell_type": "code",
   "execution_count": null,
   "id": "39833294",
   "metadata": {},
   "outputs": [],
   "source": []
  }
 ],
 "metadata": {
  "jupytext": {
   "encoding": "# -*- coding: utf-8 -*-",
   "formats": "ipynb,py:light"
  },
  "kernelspec": {
   "display_name": "Python 3",
   "language": "python",
   "name": "python3"
  },
  "language_info": {
   "codemirror_mode": {
    "name": "ipython",
    "version": 3
   },
   "file_extension": ".py",
   "mimetype": "text/x-python",
   "name": "python",
   "nbconvert_exporter": "python",
   "pygments_lexer": "ipython3",
   "version": "3.9.6"
  }
 },
 "nbformat": 4,
 "nbformat_minor": 5
}
