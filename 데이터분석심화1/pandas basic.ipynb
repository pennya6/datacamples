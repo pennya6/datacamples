{
 "cells": [
  {
   "cell_type": "markdown",
   "id": "7ad5d15d",
   "metadata": {},
   "source": [
    "# pandas basic"
   ]
  },
  {
   "cell_type": "code",
   "execution_count": 2,
   "id": "2494b86f",
   "metadata": {},
   "outputs": [],
   "source": [
    "#series : 전화번호, 생년월일, 이름 등등 일차원 배열\n",
    "#dateframe : 2차원 배열, 인덱스가 있어서 열, 행을 활용해서 데이터를 선택해서 사용할 수 있다는 활용도가 있다."
   ]
  },
  {
   "cell_type": "code",
   "execution_count": 4,
   "id": "031c94b4",
   "metadata": {},
   "outputs": [],
   "source": [
    "#dataframe 새로운 열을 추가할 수 있다.\n",
    "#row 인덱스를 변환 할 수 있다."
   ]
  },
  {
   "cell_type": "code",
   "execution_count": null,
   "id": "a62d2eb9",
   "metadata": {},
   "outputs": [],
   "source": []
  },
  {
   "cell_type": "code",
   "execution_count": null,
   "id": "3fbcc4e4",
   "metadata": {},
   "outputs": [],
   "source": []
  },
  {
   "cell_type": "code",
   "execution_count": null,
   "id": "1e26f769",
   "metadata": {},
   "outputs": [],
   "source": []
  },
  {
   "cell_type": "code",
   "execution_count": null,
   "id": "4e3967ff",
   "metadata": {},
   "outputs": [],
   "source": []
  },
  {
   "cell_type": "code",
   "execution_count": null,
   "id": "ade20399",
   "metadata": {},
   "outputs": [],
   "source": []
  },
  {
   "cell_type": "code",
   "execution_count": null,
   "id": "24285360",
   "metadata": {},
   "outputs": [],
   "source": []
  },
  {
   "cell_type": "code",
   "execution_count": null,
   "id": "1d1f0cfc",
   "metadata": {},
   "outputs": [],
   "source": []
  },
  {
   "cell_type": "code",
   "execution_count": null,
   "id": "7729403a",
   "metadata": {},
   "outputs": [],
   "source": []
  }
 ],
 "metadata": {
  "kernelspec": {
   "display_name": "Python 3",
   "language": "python",
   "name": "python3"
  },
  "language_info": {
   "codemirror_mode": {
    "name": "ipython",
    "version": 3
   },
   "file_extension": ".py",
   "mimetype": "text/x-python",
   "name": "python",
   "nbconvert_exporter": "python",
   "pygments_lexer": "ipython3",
   "version": "3.9.6"
  }
 },
 "nbformat": 4,
 "nbformat_minor": 5
}
